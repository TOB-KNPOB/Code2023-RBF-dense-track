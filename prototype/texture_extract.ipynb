{
 "cells": [
  {
   "cell_type": "markdown",
   "metadata": {},
   "source": [
    "# Settings"
   ]
  },
  {
   "cell_type": "code",
   "execution_count": 1,
   "metadata": {},
   "outputs": [],
   "source": [
    "is_plot = True\n",
    "is_export = True\n",
    "\n",
    "landmarks_path = '/Users/knpob/Territory/2-Kolmo/4-Dataset/20230715-DynaBreastLite/landmark/landmark.pkl'\n",
    "meshes_path = '/Users/knpob/Territory/2-Kolmo/4-Dataset/20230715-DynaBreastLite/mesh/'\n",
    "\n",
    "start=0\n",
    "stride = 12\n",
    "end=120\n",
    "\n",
    "export_folder = \"../output/dataset/\""
   ]
  },
  {
   "cell_type": "markdown",
   "metadata": {},
   "source": [
    "# Data loading"
   ]
  },
  {
   "cell_type": "code",
   "execution_count": 2,
   "metadata": {},
   "outputs": [
    {
     "name": "stdout",
     "output_type": "stream",
     "text": [
      "[====================] 100.0% loading: /Users/knpob/Territory/2-Kolmo/4-Dataset/20230715-DynaBreastLite/mesh/speed_6km_h_26_marker_set_.000121.obj\n"
     ]
    }
   ],
   "source": [
    "from mesh4d import obj3d\n",
    "\n",
    "mesh_ls, texture_ls = obj3d.load_mesh_series(\n",
    "    folder=meshes_path,\n",
    "    start=start,\n",
    "    stride=stride,\n",
    "    end=end,\n",
    ")"
   ]
  },
  {
   "cell_type": "code",
   "execution_count": 3,
   "metadata": {},
   "outputs": [
    {
     "data": {
      "application/vnd.jupyter.widget-view+json": {
       "model_id": "a60d50ef18be4beab65cd07cf5ededd3",
       "version_major": 2,
       "version_minor": 0
      },
      "text/plain": [
       "Widget(value=\"<iframe src='http://localhost:55075/index.html?ui=P_0x7f8654176880_0&reconnect=auto' style='widt…"
      ]
     },
     "metadata": {},
     "output_type": "display_data"
    }
   ],
   "source": [
    "texture_ls[0].plot()"
   ]
  },
  {
   "cell_type": "code",
   "execution_count": 4,
   "metadata": {},
   "outputs": [
    {
     "data": {
      "application/vnd.jupyter.widget-view+json": {
       "model_id": "08d25682f2a448bfba67182e3fbcfb0a",
       "version_major": 2,
       "version_minor": 0
      },
      "text/plain": [
       "Widget(value=\"<iframe src='http://localhost:55075/index.html?ui=P_0x7f8633384520_1&reconnect=auto' style='widt…"
      ]
     },
     "metadata": {},
     "output_type": "display_data"
    }
   ],
   "source": [
    "mesh_ls[0].plot(texture=texture_ls[0])"
   ]
  },
  {
   "cell_type": "markdown",
   "metadata": {},
   "source": [
    "# Extract vertices texture colors"
   ]
  },
  {
   "cell_type": "code",
   "execution_count": 5,
   "metadata": {},
   "outputs": [],
   "source": [
    "import numpy as np\n",
    "\n",
    "def parse_vertex_color(mesh, texture) -> tuple:\n",
    "    texture_img = np.array(texture.to_array())\n",
    "    u, v = mesh.active_t_coords.T\n",
    "    v_mapped = np.round((1 - v) * (texture_img.shape[0] - 1)).astype(int)\n",
    "    u_mapped = np.round(u * (texture_img.shape[1] - 1)).astype(int)\n",
    "    \n",
    "    color_ls = texture_img[v_mapped, u_mapped]\n",
    "    vertex_ls = np.array(mesh.points)\n",
    "        \n",
    "    return color_ls, vertex_ls"
   ]
  },
  {
   "cell_type": "code",
   "execution_count": 6,
   "metadata": {},
   "outputs": [
    {
     "data": {
      "text/plain": [
       "(array([[154, 126, 114],\n",
       "        [145, 117, 106],\n",
       "        [151, 121, 111],\n",
       "        ...,\n",
       "        [ 21,  24,  31],\n",
       "        [ 21,  24,  33],\n",
       "        [ 19,  22,  27]], dtype=uint8),\n",
       " array([[-230.71396,  509.28302,  126.48398],\n",
       "        [-233.60876,  508.64197,  123.54577],\n",
       "        [-233.55063,  504.9501 ,  125.82991],\n",
       "        ...,\n",
       "        [-192.54497, -513.7274 , -310.2367 ],\n",
       "        [-169.79843, -513.8048 , -307.53976],\n",
       "        [-187.8677 , -512.9751 , -327.03302]], dtype=float32))"
      ]
     },
     "execution_count": 6,
     "metadata": {},
     "output_type": "execute_result"
    }
   ],
   "source": [
    "color_ls, vertex_ls = parse_vertex_color(mesh_ls[0], texture_ls[0])\n",
    "color_ls, vertex_ls"
   ]
  },
  {
   "cell_type": "markdown",
   "metadata": {},
   "source": [
    "## Verification of the extracted colors"
   ]
  },
  {
   "cell_type": "code",
   "execution_count": 7,
   "metadata": {},
   "outputs": [
    {
     "data": {
      "application/vnd.jupyter.widget-view+json": {
       "model_id": "4431f576d143450e935e92124950d020",
       "version_major": 2,
       "version_minor": 0
      },
      "text/plain": [
       "Widget(value=\"<iframe src='http://localhost:55075/index.html?ui=P_0x7f86333acf70_2&reconnect=auto' style='widt…"
      ]
     },
     "metadata": {},
     "output_type": "display_data"
    }
   ],
   "source": [
    "import pyvista as pv\n",
    "\n",
    "scene = pv.Plotter()\n",
    "cloud = pv.PolyData(vertex_ls)\n",
    "cloud.point_data[\"Colors\"] = color_ls / 255\n",
    "scene.add_mesh(cloud, rgb=True, point_size=5)\n",
    "scene.show()"
   ]
  },
  {
   "cell_type": "code",
   "execution_count": null,
   "metadata": {},
   "outputs": [],
   "source": []
  }
 ],
 "metadata": {
  "kernelspec": {
   "display_name": "Python 3.8.8 ('base')",
   "language": "python",
   "name": "python3"
  },
  "language_info": {
   "codemirror_mode": {
    "name": "ipython",
    "version": 3
   },
   "file_extension": ".py",
   "mimetype": "text/x-python",
   "name": "python",
   "nbconvert_exporter": "python",
   "pygments_lexer": "ipython3",
   "version": "3.9.16"
  },
  "vscode": {
   "interpreter": {
    "hash": "8c8ccae62b03e03f602162ec2d3ff7715f4331cfb18cae8be1463dcdd08d9f0b"
   }
  }
 },
 "nbformat": 4,
 "nbformat_minor": 2
}
