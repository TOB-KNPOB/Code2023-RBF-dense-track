{
 "cells": [
  {
   "cell_type": "code",
   "execution_count": null,
   "metadata": {},
   "outputs": [],
   "source": [
    "import os\n",
    "import pyvista as pv\n",
    "\n",
    "pv.set_jupyter_backend('static')\n",
    "os.environ['DISPLAY'] = ':99.0'\n",
    "os.environ['PYVISTA_OFF_SCREEM'] = 'true'"
   ]
  },
  {
   "cell_type": "code",
   "execution_count": null,
   "metadata": {},
   "outputs": [],
   "source": [
    "stride = 10\n",
    "mesh_path = '/mnt/d/knpob/4-data/20211229-DynaBreast4D/3dmd/6kmh_26marker_2/meshes'\n",
    "marker_3dmd_path = 'output/marker_3dmd.pkl'\n",
    "marker_vicon_path = '/mnt/d/knpob/4-data/20211229-DynaBreast4D/vicon/6kmh_26marker_2.csv'\n",
    "export_folder = \"output\""
   ]
  },
  {
   "cell_type": "markdown",
   "metadata": {},
   "source": [
    "# Load data"
   ]
  },
  {
   "cell_type": "markdown",
   "metadata": {},
   "source": [
    "## 3dMD"
   ]
  },
  {
   "cell_type": "code",
   "execution_count": null,
   "metadata": {},
   "outputs": [],
   "source": [
    "import numpy as np\n",
    "from mesh4d import utils\n",
    "\n",
    "fps_3dmd = round(120 / stride)\n",
    "marker_3dmd = utils.load_pkl_object(marker_3dmd_path)\n",
    "total_3dmd = len(marker_3dmd)"
   ]
  },
  {
   "cell_type": "code",
   "execution_count": null,
   "metadata": {},
   "outputs": [],
   "source": [
    "from mesh4d import obj3d\n",
    "\n",
    "mesh_ls, texture_ls = obj3d.load_mesh_series(mesh_path, start=0, end=999, stride=stride)"
   ]
  },
  {
   "cell_type": "markdown",
   "metadata": {},
   "source": [
    "## Vicon"
   ]
  },
  {
   "cell_type": "code",
   "execution_count": null,
   "metadata": {},
   "outputs": [],
   "source": [
    "def nan_to_neighbor_mean(arr):\n",
    "    arr_fill = np.copy(arr)\n",
    "    idxs = np.where(np.isnan(arr_fill))\n",
    "\n",
    "    for row, col in zip(*idxs):\n",
    "        if row == 0:\n",
    "            arr_fill[row, col] = arr_fill[row+1, col]\n",
    "\n",
    "        elif row == len(arr_fill) - 1:\n",
    "            arr_fill[row, col] = arr_fill[row-1, col]\n",
    "\n",
    "        else:\n",
    "            arr_fill[row, col] = (arr_fill[row-1, col] + arr_fill[row+1, col]) / 2\n",
    "\n",
    "    return arr_fill"
   ]
  },
  {
   "cell_type": "code",
   "execution_count": null,
   "metadata": {},
   "outputs": [],
   "source": [
    "import pandas as pd\n",
    "\n",
    "df = pd.read_csv(marker_vicon_path, skiprows=4).iloc[:, 2:]\n",
    "df"
   ]
  },
  {
   "cell_type": "code",
   "execution_count": null,
   "metadata": {},
   "outputs": [],
   "source": [
    "marker_vicon = nan_to_neighbor_mean(df.values).reshape(len(df), -1, 3)\n",
    "marker_vicon.shape"
   ]
  },
  {
   "cell_type": "markdown",
   "metadata": {},
   "source": [
    "# Alignment distance"
   ]
  },
  {
   "cell_type": "code",
   "execution_count": null,
   "metadata": {},
   "outputs": [],
   "source": [
    "from scipy.spatial import KDTree\n",
    "\n",
    "def vicon_3dmd_dist(points_vicon, points_3dmd):\n",
    "    tree = KDTree(points_3dmd)\n",
    "    d, _ = tree.query(points_vicon)\n",
    "    \n",
    "    return d.mean()"
   ]
  },
  {
   "cell_type": "markdown",
   "metadata": {},
   "source": [
    "## Before alignment"
   ]
  },
  {
   "cell_type": "code",
   "execution_count": null,
   "metadata": {},
   "outputs": [],
   "source": [
    "from mesh4d import kps\n",
    "\n",
    "vicon = kps.MarkerSet()\n",
    "vicon.load_from_array(marker_vicon, start_time=0.0, fps=100, trans_cab=None)\n",
    "vicon.interp_field()"
   ]
  },
  {
   "cell_type": "code",
   "execution_count": null,
   "metadata": {},
   "outputs": [],
   "source": [
    "scene = pv.Plotter()\n",
    "scene.open_movie(os.path.join(export_folder, 'diff_3dmd_vicon_raw.mp4'), framerate=round(120/stride))\n",
    "\n",
    "dist_ls_raw = []\n",
    "\n",
    "for frame, points_3dmd in enumerate(marker_3dmd):\n",
    "    try:\n",
    "        timestamp = frame / fps_3dmd\n",
    "        points_vicon = vicon.get_time_coord(timestamp).get_points_coord()\n",
    "        dist_ls_raw.append(vicon_3dmd_dist(points_vicon, points_3dmd))\n",
    "\n",
    "        scene.clear()\n",
    "        scene.add_points(points_vicon, point_size=10, color='green', render_points_as_spheres=True)\n",
    "        scene.add_points(points_3dmd, point_size=5, color='goldenrod')\n",
    "        scene.add_mesh(mesh_ls[frame], texture=texture_ls[frame], opacity=0.7)\n",
    "        scene.camera_position = 'xy'\n",
    "        scene.write_frame()\n",
    "        \n",
    "    except:\n",
    "        pass\n",
    "\n",
    "    # print progress\n",
    "    percent = (frame + 1) / total_3dmd\n",
    "    utils.progress_bar(percent, back_str=\" exported the {}-th frame\".format(frame))\n",
    "\n",
    "scene.close()"
   ]
  },
  {
   "cell_type": "code",
   "execution_count": null,
   "metadata": {},
   "outputs": [],
   "source": [
    "import matplotlib.pyplot as plt\n",
    "\n",
    "plt.plot(dist_ls_raw, label='raw')\n",
    "plt.legend()\n",
    "plt.xlabel('frame id')\n",
    "plt.ylabel('dist (mm)')\n",
    "f\"std {np.std(dist_ls_raw)} mean {np.mean(dist_ls_raw)} min {np.min(dist_ls_raw)} max {np.max(dist_ls_raw)} (mm)\""
   ]
  },
  {
   "cell_type": "markdown",
   "metadata": {},
   "source": [
    "## After spatial alignment"
   ]
  },
  {
   "cell_type": "code",
   "execution_count": null,
   "metadata": {},
   "outputs": [],
   "source": [
    "vicon = kps.MarkerSet()\n",
    "trans_cab = utils.load_pkl_object('output/vicon>>3dmd.pkl')\n",
    "vicon.load_from_array(marker_vicon, start_time=0.0, fps=100, trans_cab=trans_cab)\n",
    "vicon.interp_field()"
   ]
  },
  {
   "cell_type": "code",
   "execution_count": null,
   "metadata": {},
   "outputs": [],
   "source": [
    "scene = pv.Plotter()\n",
    "scene.open_movie(os.path.join(export_folder, 'diff_3dmd_vicon_space.mp4'), framerate=round(120/stride))\n",
    "\n",
    "dist_ls_space = []\n",
    "\n",
    "for frame, points_3dmd in enumerate(marker_3dmd):\n",
    "    try:\n",
    "        timestamp = frame / fps_3dmd\n",
    "        points_vicon = vicon.get_time_coord(timestamp).get_points_coord()\n",
    "        dist_ls_space.append(vicon_3dmd_dist(points_vicon, points_3dmd))\n",
    "\n",
    "        scene.clear()\n",
    "        scene.add_points(points_vicon, point_size=10, color='green', render_points_as_spheres=True)\n",
    "        scene.add_points(points_3dmd, point_size=5, color='goldenrod')\n",
    "        scene.add_mesh(mesh_ls[frame], texture=texture_ls[frame], opacity=0.7)\n",
    "        scene.camera_position = 'xy'\n",
    "        scene.write_frame()\n",
    "        \n",
    "    except:\n",
    "        pass\n",
    "\n",
    "    # print progress\n",
    "    percent = (frame + 1) / total_3dmd\n",
    "    utils.progress_bar(percent, back_str=\" exported the {}-th frame\".format(frame))\n",
    "\n",
    "scene.close()"
   ]
  },
  {
   "cell_type": "code",
   "execution_count": null,
   "metadata": {},
   "outputs": [],
   "source": [
    "import matplotlib.pyplot as plt\n",
    "\n",
    "plt.plot(dist_ls_raw, label='raw')\n",
    "plt.plot(dist_ls_space, label='space aligned')\n",
    "plt.legend()\n",
    "plt.xlabel('frame id')\n",
    "plt.ylabel('dist (mm)')\n",
    "f\"std {np.std(dist_ls_space)} mean {np.mean(dist_ls_space)} min {np.min(dist_ls_space)} max {np.max(dist_ls_space)} (mm)\""
   ]
  },
  {
   "cell_type": "markdown",
   "metadata": {},
   "source": [
    "# Temporal alignment"
   ]
  },
  {
   "cell_type": "markdown",
   "metadata": {},
   "source": [
    "## Round 1"
   ]
  },
  {
   "cell_type": "code",
   "execution_count": null,
   "metadata": {},
   "outputs": [],
   "source": [
    "time_offset = np.linspace(-10, 10, 100)\n",
    "dist_ls = []\n",
    "\n",
    "for idx, offset in enumerate(time_offset):\n",
    "    vicon = kps.MarkerSet()\n",
    "    trans_cab = utils.load_pkl_object('output/vicon>>3dmd.pkl')\n",
    "    vicon.load_from_array(marker_vicon, start_time=offset, fps=100, trans_cab=trans_cab)\n",
    "    vicon.interp_field()\n",
    "\n",
    "    dist_ls_time = []\n",
    "\n",
    "    for frame, points_3dmd in enumerate(marker_3dmd):\n",
    "        try:\n",
    "            timestamp = frame / fps_3dmd\n",
    "            points_vicon = vicon.get_time_coord(timestamp).get_points_coord()\n",
    "            dist_ls_time.append(vicon_3dmd_dist(points_vicon, points_3dmd))\n",
    "            \n",
    "        except:\n",
    "            pass\n",
    "    \n",
    "    if len(dist_ls_time) > 0:\n",
    "        dist_ls.append(np.mean(dist_ls_time))\n",
    "\n",
    "    else:\n",
    "        dist_ls.append(np.nan)\n",
    "\n",
    "    # print progress\n",
    "    percent = (idx + 1) / len(time_offset)\n",
    "    utils.progress_bar(percent, back_str=f\" benchmarked time offset {offset}s\")"
   ]
  },
  {
   "cell_type": "code",
   "execution_count": null,
   "metadata": {},
   "outputs": [],
   "source": [
    "plt.plot(time_offset, dist_ls, label='dist')\n",
    "plt.legend()\n",
    "plt.xlabel('offset (s)')\n",
    "plt.ylabel('dist (mm)')\n",
    "\n",
    "idx_min = np.nanargmin(dist_ls)\n",
    "offset_min = time_offset[idx_min]\n",
    "f\"optimal vicon time offset: {offset_min:.6f}s with dist {dist_ls[idx_min]} (mm)\""
   ]
  },
  {
   "cell_type": "markdown",
   "metadata": {},
   "source": [
    "## Round 2"
   ]
  },
  {
   "cell_type": "code",
   "execution_count": null,
   "metadata": {},
   "outputs": [],
   "source": [
    "time_offset = np.linspace(offset_min - 0.5, offset_min + 0.5, 100)\n",
    "dist_ls = []\n",
    "\n",
    "for idx, offset in enumerate(time_offset):\n",
    "    vicon = kps.MarkerSet()\n",
    "    trans_cab = utils.load_pkl_object('output/vicon>>3dmd.pkl')\n",
    "    vicon.load_from_array(marker_vicon, start_time=offset, fps=100, trans_cab=trans_cab)\n",
    "    vicon.interp_field()\n",
    "\n",
    "    dist_ls_time = []\n",
    "\n",
    "    for frame, points_3dmd in enumerate(marker_3dmd):\n",
    "        try:\n",
    "            timestamp = frame / fps_3dmd\n",
    "            points_vicon = vicon.get_time_coord(timestamp).get_points_coord()\n",
    "            dist_ls_time.append(vicon_3dmd_dist(points_vicon, points_3dmd))\n",
    "            \n",
    "        except:\n",
    "            pass\n",
    "    \n",
    "    if len(dist_ls_time) > 0:\n",
    "        dist_ls.append(np.mean(dist_ls_time))\n",
    "\n",
    "    else:\n",
    "        dist_ls.append(np.nan)\n",
    "\n",
    "    # print progress\n",
    "    percent = (idx + 1) / len(time_offset)\n",
    "    utils.progress_bar(percent, back_str=f\" benchmarked time offset {offset}s\")"
   ]
  },
  {
   "cell_type": "code",
   "execution_count": null,
   "metadata": {},
   "outputs": [],
   "source": [
    "plt.plot(time_offset, dist_ls, label='dist')\n",
    "plt.legend()\n",
    "plt.xlabel('offset (s)')\n",
    "plt.ylabel('dist (mm)')\n",
    "\n",
    "idx_min = np.nanargmin(dist_ls)\n",
    "offset_min = time_offset[idx_min]\n",
    "f\"optimal vicon time offset: {offset_min:.6f}s with dist {dist_ls[idx_min]} (mm)\""
   ]
  },
  {
   "cell_type": "code",
   "execution_count": null,
   "metadata": {},
   "outputs": [],
   "source": [
    "utils.save_pkl_object(offset_min, export_folder='output', export_name='vicon_start')"
   ]
  },
  {
   "cell_type": "markdown",
   "metadata": {},
   "source": [
    "## Verification"
   ]
  },
  {
   "cell_type": "code",
   "execution_count": null,
   "metadata": {},
   "outputs": [],
   "source": [
    "vicon = kps.MarkerSet()\n",
    "trans_cab = utils.load_pkl_object('output/vicon>>3dmd.pkl')\n",
    "vicon.load_from_array(marker_vicon, start_time=offset_min, fps=100, trans_cab=trans_cab)\n",
    "vicon.interp_field()"
   ]
  },
  {
   "cell_type": "code",
   "execution_count": null,
   "metadata": {},
   "outputs": [],
   "source": [
    "scene = pv.Plotter()\n",
    "scene.open_movie(os.path.join(export_folder, 'diff_3dmd_vicon_time.mp4'), framerate=round(120/stride))\n",
    "\n",
    "dist_ls_time = []\n",
    "\n",
    "for frame, points_3dmd in enumerate(marker_3dmd):\n",
    "    try:\n",
    "        timestamp = frame / fps_3dmd\n",
    "        points_vicon = vicon.get_time_coord(timestamp).get_points_coord()\n",
    "        dist_ls_time.append(vicon_3dmd_dist(points_vicon, points_3dmd))\n",
    "\n",
    "        scene.clear()\n",
    "        scene.add_points(points_vicon, point_size=10, color='green', render_points_as_spheres=True)\n",
    "        scene.add_points(points_3dmd, point_size=5, color='goldenrod')\n",
    "        scene.add_mesh(mesh_ls[frame], texture=texture_ls[frame], opacity=0.7)\n",
    "        scene.camera_position = 'xy'\n",
    "        scene.write_frame()\n",
    "        \n",
    "    except:\n",
    "        pass\n",
    "\n",
    "    # print progress\n",
    "    percent = (frame + 1) / total_3dmd\n",
    "    utils.progress_bar(percent, back_str=\" exported the {}-th frame\".format(frame))\n",
    "\n",
    "scene.close()"
   ]
  },
  {
   "cell_type": "code",
   "execution_count": null,
   "metadata": {},
   "outputs": [],
   "source": [
    "import matplotlib.pyplot as plt\n",
    "\n",
    "plt.plot(dist_ls_raw, label='raw')\n",
    "plt.plot(dist_ls_space, label='space aligned')\n",
    "plt.plot(dist_ls_time, label='time aligned')\n",
    "plt.legend()\n",
    "plt.xlabel('frame id')\n",
    "plt.ylabel('dist (mm)')\n",
    "f\"std {np.std(dist_ls_time)} mean {np.mean(dist_ls_time)} min {np.min(dist_ls_time)} max {np.max(dist_ls_time)} (mm)\""
   ]
  }
 ],
 "metadata": {
  "kernelspec": {
   "display_name": "mesh4d",
   "language": "python",
   "name": "python3"
  },
  "language_info": {
   "codemirror_mode": {
    "name": "ipython",
    "version": 3
   },
   "file_extension": ".py",
   "mimetype": "text/x-python",
   "name": "python",
   "nbconvert_exporter": "python",
   "pygments_lexer": "ipython3",
   "version": "3.10.13"
  }
 },
 "nbformat": 4,
 "nbformat_minor": 2
}
