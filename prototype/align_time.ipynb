{
 "cells": [
  {
   "cell_type": "code",
   "execution_count": null,
   "metadata": {},
   "outputs": [],
   "source": [
    "import os\n",
    "import pyvista as pv\n",
    "\n",
    "pv.set_jupyter_backend('static')\n",
    "os.environ['DISPLAY'] = ':99.0'\n",
    "os.environ['PYVISTA_OFF_SCREEM'] = 'true'"
   ]
  },
  {
   "cell_type": "code",
   "execution_count": null,
   "metadata": {},
   "outputs": [],
   "source": [
    "export_folder = 'output'"
   ]
  },
  {
   "cell_type": "markdown",
   "metadata": {},
   "source": [
    "# Load data"
   ]
  },
  {
   "cell_type": "markdown",
   "metadata": {},
   "source": [
    "## 3dMD"
   ]
  },
  {
   "cell_type": "code",
   "execution_count": null,
   "metadata": {},
   "outputs": [],
   "source": [
    "import numpy as np\n",
    "from mesh4d import utils\n",
    "\n",
    "stride = 10\n",
    "fps_3dmd = round(120 / stride)\n",
    "marker_3dmd = utils.load_pkl_object('output/marker_3dmd.pkl')\n",
    "total_3dmd = len(marker_3dmd)"
   ]
  },
  {
   "cell_type": "markdown",
   "metadata": {},
   "source": [
    "## Vicon"
   ]
  },
  {
   "cell_type": "code",
   "execution_count": null,
   "metadata": {},
   "outputs": [],
   "source": [
    "import pandas as pd\n",
    "\n",
    "vicon_path = '/mnt/d/knpob/4-data/20211229-DynaBreast4D/vicon/6kmh_26marker_2.csv'\n",
    "df = pd.read_csv(vicon_path, skiprows=4).iloc[:, 2:].dropna(axis=1)  # M16 & M19 are dropped\n",
    "df"
   ]
  },
  {
   "cell_type": "code",
   "execution_count": null,
   "metadata": {},
   "outputs": [],
   "source": [
    "marker_vicon = df.values.reshape(len(df), -1, 3)\n",
    "marker_vicon.shape"
   ]
  },
  {
   "cell_type": "markdown",
   "metadata": {},
   "source": [
    "# Alignment distance"
   ]
  },
  {
   "cell_type": "code",
   "execution_count": null,
   "metadata": {},
   "outputs": [],
   "source": [
    "from scipy.spatial import KDTree\n",
    "\n",
    "def vicon_3dmd_dist(points_vicon, points_3dmd):\n",
    "    tree = KDTree(points_3dmd)\n",
    "    d, _ = tree.query(points_vicon)\n",
    "    \n",
    "    return d.mean()"
   ]
  },
  {
   "cell_type": "markdown",
   "metadata": {},
   "source": [
    "## Before alignment"
   ]
  },
  {
   "cell_type": "code",
   "execution_count": null,
   "metadata": {},
   "outputs": [],
   "source": [
    "from mesh4d import kps\n",
    "\n",
    "vicon = kps.MarkerSet()\n",
    "vicon.load_from_array(marker_vicon, start_time=0.0, fps=100, trans_cab=None)\n",
    "vicon.interp_field()"
   ]
  },
  {
   "cell_type": "code",
   "execution_count": null,
   "metadata": {},
   "outputs": [],
   "source": [
    "scene = pv.Plotter()\n",
    "scene.open_movie(os.path.join(export_folder, 'diff_3dmd_vicon.mp4'), framerate=round(120/stride))\n",
    "\n",
    "dist_ls = []\n",
    "\n",
    "for frame, points_3dmd in enumerate(marker_3dmd):\n",
    "    try:\n",
    "        timestamp = frame / fps_3dmd\n",
    "        points_vicon = vicon.get_time_coord(timestamp).get_points_coord()\n",
    "        dist_ls.append(vicon_3dmd_dist(points_vicon, points_3dmd))\n",
    "\n",
    "        scene.clear()\n",
    "        scene.add_points(points_vicon, point_size=10, color='green', render_points_as_spheres=True)\n",
    "        scene.add_points(points_3dmd, point_size=2, color='goldenrod', render_points_as_spheres=True)\n",
    "        scene.camera_position = 'xy'\n",
    "        scene.write_frame()\n",
    "        \n",
    "    except:\n",
    "        pass\n",
    "\n",
    "    # print progress\n",
    "    percent = (frame + 1) / total_3dmd\n",
    "    utils.progress_bar(percent, back_str=\" exported the {}-th frame\".format(frame))\n",
    "\n",
    "scene.close()"
   ]
  },
  {
   "cell_type": "code",
   "execution_count": null,
   "metadata": {},
   "outputs": [],
   "source": [
    "import matplotlib.pyplot as plt\n",
    "\n",
    "plt.plot(dist_ls, label='raw')\n",
    "plt.legend()\n",
    "plt.xlabel('frame id')\n",
    "plt.ylabel('dist (mm)')\n",
    "f\"std {np.std(dist_ls)} mean {np.mean(dist_ls)} min {np.min(dist_ls)} max {np.max(dist_ls)} (mm)\""
   ]
  },
  {
   "cell_type": "markdown",
   "metadata": {},
   "source": [
    "## After spatial alignment"
   ]
  },
  {
   "cell_type": "code",
   "execution_count": null,
   "metadata": {},
   "outputs": [],
   "source": [
    "vicon = kps.MarkerSet()\n",
    "trans_cab = utils.load_pkl_object('output/vicon>>3dmd.pkl')\n",
    "vicon.load_from_array(marker_vicon, start_time=0.0, fps=100, trans_cab=trans_cab)\n",
    "vicon.interp_field()"
   ]
  },
  {
   "cell_type": "code",
   "execution_count": null,
   "metadata": {},
   "outputs": [],
   "source": [
    "scene = pv.Plotter()\n",
    "scene.open_movie(os.path.join(export_folder, 'diff_3dmd_vicon_space.mp4'), framerate=round(120/stride))\n",
    "\n",
    "dist_ls_space = []\n",
    "\n",
    "for frame, points_3dmd in enumerate(marker_3dmd):\n",
    "    try:\n",
    "        timestamp = frame / fps_3dmd\n",
    "        points_vicon = vicon.get_time_coord(timestamp).get_points_coord()\n",
    "        dist_ls_space.append(vicon_3dmd_dist(points_vicon, points_3dmd))\n",
    "\n",
    "        scene.clear()\n",
    "        scene.add_points(points_vicon, point_size=10, color='green', render_points_as_spheres=True)\n",
    "        scene.add_points(points_3dmd, point_size=2, color='goldenrod', render_points_as_spheres=True)\n",
    "        scene.camera_position = 'xy'\n",
    "        scene.write_frame()\n",
    "        \n",
    "    except:\n",
    "        pass\n",
    "\n",
    "    # print progress\n",
    "    percent = (frame + 1) / total_3dmd\n",
    "    utils.progress_bar(percent, back_str=\" exported the {}-th frame\".format(frame))\n",
    "\n",
    "scene.close()"
   ]
  },
  {
   "cell_type": "code",
   "execution_count": null,
   "metadata": {},
   "outputs": [],
   "source": [
    "import matplotlib.pyplot as plt\n",
    "\n",
    "plt.plot(dist_ls, label='raw')\n",
    "plt.plot(dist_ls_space, label='space aligned')\n",
    "plt.legend()\n",
    "plt.xlabel('frame id')\n",
    "plt.ylabel('dist (mm)')\n",
    "f\"std {np.std(dist_ls_space)} mean {np.mean(dist_ls)} min {np.min(dist_ls)} max {np.max(dist_ls)} (mm)\""
   ]
  },
  {
   "cell_type": "markdown",
   "metadata": {},
   "source": [
    "# Temporal alignment"
   ]
  },
  {
   "cell_type": "code",
   "execution_count": null,
   "metadata": {},
   "outputs": [],
   "source": []
  }
 ],
 "metadata": {
  "kernelspec": {
   "display_name": "mesh4d",
   "language": "python",
   "name": "python3"
  },
  "language_info": {
   "codemirror_mode": {
    "name": "ipython",
    "version": 3
   },
   "file_extension": ".py",
   "mimetype": "text/x-python",
   "name": "python",
   "nbconvert_exporter": "python",
   "pygments_lexer": "ipython3",
   "version": "3.10.13"
  }
 },
 "nbformat": 4,
 "nbformat_minor": 2
}
