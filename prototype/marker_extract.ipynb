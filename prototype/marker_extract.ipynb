{
 "cells": [
  {
   "cell_type": "markdown",
   "metadata": {},
   "source": [
    "# Settings"
   ]
  },
  {
   "cell_type": "code",
   "execution_count": 1,
   "metadata": {},
   "outputs": [],
   "source": [
    "is_plot = True\n",
    "is_export = True\n",
    "\n",
    "landmarks_path = '/Users/knpob/Territory/2-Kolmo/4-Dataset/20230715-DynaBreastLite/landmark/landmark.pkl'\n",
    "meshes_path = '/Users/knpob/Territory/2-Kolmo/4-Dataset/20230715-DynaBreastLite/mesh/'\n",
    "\n",
    "start=0\n",
    "stride = 12\n",
    "end=120\n",
    "\n",
    "export_folder = \"../output/dataset/\""
   ]
  },
  {
   "cell_type": "markdown",
   "metadata": {},
   "source": [
    "# Data loading"
   ]
  },
  {
   "cell_type": "code",
   "execution_count": 2,
   "metadata": {},
   "outputs": [
    {
     "name": "stdout",
     "output_type": "stream",
     "text": [
      "[====================] 100.0% loading: /Users/knpob/Territory/2-Kolmo/4-Dataset/20230715-DynaBreastLite/mesh/speed_6km_h_26_marker_set_.000121.obj\n"
     ]
    }
   ],
   "source": [
    "from mesh4d import obj3d\n",
    "from mesh4d.analyse import crave\n",
    "\n",
    "mesh_ls, texture_ls = obj3d.load_mesh_series(\n",
    "    folder=meshes_path,\n",
    "    start=start,\n",
    "    stride=stride,\n",
    "    end=end,\n",
    ")\n",
    "\n",
    "mesh_ls = [crave.fix_pvmesh_disconnect(mesh) for mesh in mesh_ls]"
   ]
  },
  {
   "cell_type": "code",
   "execution_count": 3,
   "metadata": {},
   "outputs": [],
   "source": [
    "import numpy as np\n",
    "\n",
    "def parse_vertex_color(mesh, texture) -> tuple:\n",
    "    texture_img = np.array(texture.to_array())\n",
    "    u, v = mesh.active_t_coords.T\n",
    "    v_mapped = np.round((1 - v) * (texture_img.shape[0] - 1)).astype(int)\n",
    "    u_mapped = np.round(u * (texture_img.shape[1] - 1)).astype(int)\n",
    "    \n",
    "    color_ls = texture_img[v_mapped, u_mapped]\n",
    "    vertex_ls = np.array(mesh.points)\n",
    "        \n",
    "    return color_ls, vertex_ls"
   ]
  },
  {
   "cell_type": "code",
   "execution_count": 4,
   "metadata": {},
   "outputs": [
    {
     "data": {
      "text/plain": [
       "(array([[154, 126, 114],\n",
       "        [145, 117, 106],\n",
       "        [151, 121, 111],\n",
       "        ...,\n",
       "        [ 88, 101, 117],\n",
       "        [ 16,  17,  21],\n",
       "        [ 11,  10,  15]], dtype=uint8),\n",
       " array([[-2.3071396e+02,  5.0928302e+02,  1.2648398e+02],\n",
       "        [-2.3360876e+02,  5.0864197e+02,  1.2354577e+02],\n",
       "        [-2.3355063e+02,  5.0495010e+02,  1.2582991e+02],\n",
       "        ...,\n",
       "        [-1.3025800e+02,  4.8718726e+02,  1.1515228e+02],\n",
       "        [-1.6729851e+02,  2.0215393e+02, -1.0249020e+00],\n",
       "        [-9.4630798e+01,  1.0942227e+03,  8.9963135e+01]], dtype=float32))"
      ]
     },
     "execution_count": 4,
     "metadata": {},
     "output_type": "execute_result"
    }
   ],
   "source": [
    "color_ls, vertex_ls = parse_vertex_color(mesh_ls[0], texture_ls[0])\n",
    "color_ls, vertex_ls"
   ]
  },
  {
   "cell_type": "code",
   "execution_count": 5,
   "metadata": {},
   "outputs": [],
   "source": [
    "from scipy.spatial import KDTree\n",
    "\n",
    "tree = KDTree(vertex_ls)"
   ]
  },
  {
   "cell_type": "markdown",
   "metadata": {},
   "source": [
    "# Marker extraction"
   ]
  },
  {
   "cell_type": "markdown",
   "metadata": {},
   "source": [
    "## Gray scale threshold"
   ]
  },
  {
   "cell_type": "code",
   "execution_count": 29,
   "metadata": {},
   "outputs": [],
   "source": [
    "ds, idx = tree.query(vertex_ls, 10)\n",
    "respond = np.sum(color_ls * [0.299, 0.587, 0.114], axis=1)\n",
    "gray_ls = respond"
   ]
  },
  {
   "cell_type": "code",
   "execution_count": 30,
   "metadata": {},
   "outputs": [
    {
     "data": {
      "text/plain": [
       "'std 67.22712393647613 mean 92.53446643917805 min 0.929 max 255.0'"
      ]
     },
     "execution_count": 30,
     "metadata": {},
     "output_type": "execute_result"
    },
    {
     "data": {
      "image/png": "[encoded data removed]",
      "text/plain": [
       "<Figure size 640x480 with 1 Axes>"
      ]
     },
     "metadata": {},
     "output_type": "display_data"
    }
   ],
   "source": [
    "import matplotlib.pyplot as plt\n",
    "\n",
    "mean = np.mean(respond)\n",
    "std = np.std(respond)\n",
    "plt.hist(gray_ls, bins=100)\n",
    "f\"std {np.std(gray_ls)} mean {np.mean(gray_ls)} min {np.min(gray_ls)} max {np.max(gray_ls)}\""
   ]
  },
  {
   "cell_type": "code",
   "execution_count": 31,
   "metadata": {},
   "outputs": [
    {
     "data": {
      "application/vnd.jupyter.widget-view+json": {
       "model_id": "dbaa034916ee4f9bbf215a7622743de4",
       "version_major": 2,
       "version_minor": 0
      },
      "text/plain": [
       "Widget(value=\"<iframe src='http://localhost:56772/index.html?ui=P_0x7f79f49f9670_9&reconnect=auto' style='widt…"
      ]
     },
     "metadata": {},
     "output_type": "display_data"
    }
   ],
   "source": [
    "mesh_ls[0].plot(scalars=-respond, cmap='cool')"
   ]
  },
  {
   "cell_type": "code",
   "execution_count": 32,
   "metadata": {},
   "outputs": [
    {
     "data": {
      "application/vnd.jupyter.widget-view+json": {
       "model_id": "705edeecb61d42fc841238a8b02c2a40",
       "version_major": 2,
       "version_minor": 0
      },
      "text/plain": [
       "Widget(value=\"<iframe src='http://localhost:56772/index.html?ui=P_0x7f79dd43a7f0_10&reconnect=auto' style='wid…"
      ]
     },
     "metadata": {},
     "output_type": "display_data"
    }
   ],
   "source": [
    "import pyvista as pv\n",
    "\n",
    "scene = pv.Plotter()\n",
    "cloud = pv.PolyData(vertex_ls[gray_ls < 100])\n",
    "scene.add_mesh(cloud, point_size=2, color='goldenrod')\n",
    "scene.add_mesh(mesh_ls[0], scalars=gray_ls, cmap='gray')\n",
    "scene.camera_position = 'xy'\n",
    "scene.show()"
   ]
  },
  {
   "cell_type": "markdown",
   "metadata": {},
   "source": [
    "## Local gray scale difference"
   ]
  },
  {
   "cell_type": "code",
   "execution_count": 33,
   "metadata": {},
   "outputs": [],
   "source": [
    "ds, idx = tree.query(vertex_ls, 10)\n",
    "respond = np.max(np.abs(gray_ls[idx]  - np.expand_dims(gray_ls, axis=-1)), axis=1)"
   ]
  },
  {
   "cell_type": "code",
   "execution_count": 34,
   "metadata": {},
   "outputs": [
    {
     "data": {
      "text/plain": [
       "'std 33.95282967982775 mean 22.14072165141743 min 0.0 max 241.423'"
      ]
     },
     "execution_count": 34,
     "metadata": {},
     "output_type": "execute_result"
    },
    {
     "data": {
      "image/png": "[encoded data removed]",
      "text/plain": [
       "<Figure size 640x480 with 1 Axes>"
      ]
     },
     "metadata": {},
     "output_type": "display_data"
    }
   ],
   "source": [
    "import matplotlib.pyplot as plt\n",
    "\n",
    "mean = np.mean(respond)\n",
    "std = np.std(respond)\n",
    "plt.hist(respond, bins=100)\n",
    "f\"std {np.std(respond)} mean {np.mean(respond)} min {np.min(respond)} max {np.max(respond)}\""
   ]
  },
  {
   "cell_type": "code",
   "execution_count": 35,
   "metadata": {},
   "outputs": [
    {
     "data": {
      "application/vnd.jupyter.widget-view+json": {
       "model_id": "039f24d538b84a88b5531dc3db40b273",
       "version_major": 2,
       "version_minor": 0
      },
      "text/plain": [
       "Widget(value=\"<iframe src='http://localhost:56772/index.html?ui=P_0x7f79d3e4a310_11&reconnect=auto' style='wid…"
      ]
     },
     "metadata": {},
     "output_type": "display_data"
    }
   ],
   "source": [
    "mesh_ls[0].plot(scalars=respond, cmap='cool')"
   ]
  },
  {
   "cell_type": "code",
   "execution_count": 36,
   "metadata": {},
   "outputs": [
    {
     "data": {
      "application/vnd.jupyter.widget-view+json": {
       "model_id": "413797babc3f48a883116dbfa3d850db",
       "version_major": 2,
       "version_minor": 0
      },
      "text/plain": [
       "Widget(value=\"<iframe src='http://localhost:56772/index.html?ui=P_0x7f79de05ad00_12&reconnect=auto' style='wid…"
      ]
     },
     "metadata": {},
     "output_type": "display_data"
    }
   ],
   "source": [
    "import pyvista as pv\n",
    "\n",
    "scene = pv.Plotter()\n",
    "cloud = pv.PolyData(vertex_ls[respond > mean + 2 * std])\n",
    "scene.add_mesh(cloud, point_size=2, color='goldenrod')\n",
    "scene.add_mesh(mesh_ls[0], scalars=gray_ls, cmap='gray')\n",
    "scene.camera_position = 'xy'\n",
    "scene.show()"
   ]
  },
  {
   "cell_type": "markdown",
   "metadata": {},
   "source": [
    "## Local gray scale gradients"
   ]
  },
  {
   "cell_type": "code",
   "execution_count": 37,
   "metadata": {},
   "outputs": [],
   "source": [
    "ds, idx = tree.query(vertex_ls, 100)\n",
    "respond = np.max(np.abs(gray_ls[idx] - np.expand_dims(gray_ls, -1)) / (ds + 1e-5), axis=1)"
   ]
  },
  {
   "cell_type": "code",
   "execution_count": 38,
   "metadata": {},
   "outputs": [
    {
     "data": {
      "text/plain": [
       "'std 4.0321776426781115 mean 3.1184009700957027 min 0.04279150596163643 max 37.232114767483246'"
      ]
     },
     "execution_count": 38,
     "metadata": {},
     "output_type": "execute_result"
    },
    {
     "data": {
      "image/png": "[encoded data removed]",
      "text/plain": [
       "<Figure size 640x480 with 1 Axes>"
      ]
     },
     "metadata": {},
     "output_type": "display_data"
    }
   ],
   "source": [
    "plt.hist(respond, bins=100)\n",
    "mean = np.mean(respond)\n",
    "std = np.std(respond)\n",
    "f\"std {np.std(respond)} mean {np.mean(respond)} min {np.min(respond)} max {np.max(respond)}\""
   ]
  },
  {
   "cell_type": "code",
   "execution_count": 39,
   "metadata": {},
   "outputs": [
    {
     "data": {
      "application/vnd.jupyter.widget-view+json": {
       "model_id": "c1cc9049f553436dbc13476453a2c39d",
       "version_major": 2,
       "version_minor": 0
      },
      "text/plain": [
       "Widget(value=\"<iframe src='http://localhost:56772/index.html?ui=P_0x7f79de05a1f0_13&reconnect=auto' style='wid…"
      ]
     },
     "metadata": {},
     "output_type": "display_data"
    }
   ],
   "source": [
    "mesh_ls[0].plot(scalars=respond, cmap='cool')"
   ]
  },
  {
   "cell_type": "code",
   "execution_count": 40,
   "metadata": {},
   "outputs": [
    {
     "data": {
      "application/vnd.jupyter.widget-view+json": {
       "model_id": "7bb2dd19432e4b0084cb65e02ed34215",
       "version_major": 2,
       "version_minor": 0
      },
      "text/plain": [
       "Widget(value=\"<iframe src='http://localhost:56772/index.html?ui=P_0x7f79e12f78e0_14&reconnect=auto' style='wid…"
      ]
     },
     "metadata": {},
     "output_type": "display_data"
    }
   ],
   "source": [
    "import pyvista as pv\n",
    "\n",
    "scene = pv.Plotter()\n",
    "cloud = pv.PolyData(vertex_ls[respond > mean + 2 * std])\n",
    "scene.add_mesh(cloud, point_size=2, color='goldenrod')\n",
    "scene.add_mesh(mesh_ls[0], scalars=gray_ls, cmap='gray')\n",
    "scene.camera_position = 'xy'\n",
    "scene.show()"
   ]
  },
  {
   "cell_type": "markdown",
   "metadata": {},
   "source": [
    "# Batch validation"
   ]
  },
  {
   "cell_type": "code",
   "execution_count": 41,
   "metadata": {},
   "outputs": [],
   "source": [
    "def extract(mesh, texture, pnum=100, range=2):\n",
    "    color_ls, vertex_ls = parse_vertex_color(mesh, texture)\n",
    "    gray_ls = np.sum(color_ls * [0.299, 0.587, 0.114], axis=1)\n",
    "    \n",
    "    tree = KDTree(vertex_ls)\n",
    "    ds, idx = tree.query(vertex_ls, pnum)\n",
    "    \n",
    "    respond = np.max(np.abs(gray_ls[idx] - np.expand_dims(gray_ls, -1)) / (ds + 1e-5), axis=1)\n",
    "    mean = np.mean(respond)\n",
    "    std = np.std(respond)\n",
    "    marker_vertex_ls = vertex_ls[respond > mean + range * std]\n",
    "    # need to address empty issue\n",
    "\n",
    "    return gray_ls, marker_vertex_ls"
   ]
  },
  {
   "cell_type": "code",
   "execution_count": 42,
   "metadata": {},
   "outputs": [
    {
     "name": "stderr",
     "output_type": "stream",
     "text": [
      "WARNING:imageio_ffmpeg:IMAGEIO FFMPEG_WRITER WARNING: input image is not divisible by macro_block_size=16, resizing from (1483, 600) to (1488, 608) to ensure video compatibility with most codecs and players. To prevent resizing, make your input image divisible by the macro_block_size or set the macro_block_size to 1 (risking incompatibility).\n"
     ]
    },
    {
     "name": "stdout",
     "output_type": "stream",
     "text": [
      "[=                   ] 9.1% exported the 0-th frame"
     ]
    },
    {
     "name": "stderr",
     "output_type": "stream",
     "text": [
      "[swscaler @ 0x7fcf40048000] Warning: data is not aligned! This can lead to a speed loss\n"
     ]
    },
    {
     "name": "stdout",
     "output_type": "stream",
     "text": [
      "[====================] 100.0% exported the 10-th frame\n"
     ]
    }
   ],
   "source": [
    "import os\n",
    "from mesh4d import utils\n",
    "\n",
    "scene.open_movie(os.path.join('output', 'marker.mp4'), framerate=round(120 / stride))\n",
    "plot_num = len(mesh_ls)\n",
    "\n",
    "for idx in range(len(mesh_ls)):\n",
    "    scene.clear()\n",
    "    \n",
    "    gray_ls, marker_vertex_ls = extract(mesh_ls[idx], texture_ls[idx])\n",
    "    cloud = pv.PolyData(marker_vertex_ls)\n",
    "    scene.add_mesh(cloud, point_size=2, color='goldenrod')\n",
    "    scene.add_mesh(mesh_ls[idx], scalars=gray_ls, cmap='gray')\n",
    "\n",
    "    scene.camera_position = 'xy'\n",
    "    scene.write_frame()\n",
    "\n",
    "    percent = (idx + 1) / plot_num\n",
    "    utils.progress_bar(percent, back_str=\" exported the {}-th frame\".format(idx))\n",
    "\n",
    "scene.close()"
   ]
  },
  {
   "cell_type": "code",
   "execution_count": null,
   "metadata": {},
   "outputs": [],
   "source": []
  }
 ],
 "metadata": {
  "kernelspec": {
   "display_name": "mesh4d",
   "language": "python",
   "name": "python3"
  },
  "language_info": {
   "codemirror_mode": {
    "name": "ipython",
    "version": 3
   },
   "file_extension": ".py",
   "mimetype": "text/x-python",
   "name": "python",
   "nbconvert_exporter": "python",
   "pygments_lexer": "ipython3",
   "version": "3.9.16"
  }
 },
 "nbformat": 4,
 "nbformat_minor": 2
}
