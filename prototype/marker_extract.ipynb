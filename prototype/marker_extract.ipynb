{
 "cells": [
  {
   "cell_type": "markdown",
   "metadata": {},
   "source": [
    "# Settings"
   ]
  },
  {
   "cell_type": "code",
   "execution_count": 1,
   "metadata": {},
   "outputs": [],
   "source": [
    "mesh_path = '/home/knpob/file/4-Dataset/20211229-Running breast scanning/3dmd/0kmh_8marker_bra'\n",
    "export_folder = \"output\""
   ]
  },
  {
   "cell_type": "markdown",
   "metadata": {},
   "source": [
    "# Data loading"
   ]
  },
  {
   "cell_type": "code",
   "execution_count": 3,
   "metadata": {},
   "outputs": [
    {
     "data": {
      "text/plain": [
       "['/home/knpob/file/4-Dataset/20211229-Running breast scanning/3dmd/0kmh_8marker_bra/static_standing_with_bra.000001']"
      ]
     },
     "execution_count": 3,
     "metadata": {},
     "output_type": "execute_result"
    }
   ],
   "source": [
    "import os\n",
    "\n",
    "files = os.listdir(mesh_path)\n",
    "files = [os.path.join(mesh_path, f.replace('.obj', '')) for f in files if '.obj' in f]\n",
    "files.sort()\n",
    "files"
   ]
  },
  {
   "cell_type": "code",
   "execution_count": 4,
   "metadata": {},
   "outputs": [
    {
     "name": "stdout",
     "output_type": "stream",
     "text": [
      "Jupyter environment detected. Enabling Open3D WebVisualizer.\n",
      "[Open3D INFO] WebRTC GUI backend enabled.\n",
      "[Open3D INFO] WebRTCWindowSystem: HTTP handshake server disabled.\n"
     ]
    }
   ],
   "source": [
    "import pyvista as pv\n",
    "from mesh4d.analyse import crave\n",
    "\n",
    "mesh = pv.read(files[0] + '.obj')\n",
    "mesh = crave.fix_pvmesh_disconnect(mesh)\n",
    "texture = pv.read_texture(files[0] + '.jpg')"
   ]
  },
  {
   "cell_type": "code",
   "execution_count": 5,
   "metadata": {},
   "outputs": [],
   "source": [
    "import numpy as np\n",
    "\n",
    "def parse_vertex_color(mesh, texture) -> tuple:\n",
    "    texture_img = np.array(texture.to_array())\n",
    "    u, v = mesh.active_t_coords.T\n",
    "    v_mapped = np.round((1 - v) * (texture_img.shape[0] - 1)).astype(int)\n",
    "    u_mapped = np.round(u * (texture_img.shape[1] - 1)).astype(int)\n",
    "    \n",
    "    color_ls = texture_img[v_mapped, u_mapped]\n",
    "    vertex_ls = np.array(mesh.points)\n",
    "        \n",
    "    return color_ls, vertex_ls"
   ]
  },
  {
   "cell_type": "code",
   "execution_count": 6,
   "metadata": {},
   "outputs": [
    {
     "data": {
      "text/plain": [
       "(array([[149, 123, 108],\n",
       "        [147, 124, 108],\n",
       "        [155, 129, 116],\n",
       "        ...,\n",
       "        [  8,   9,  11],\n",
       "        [ 16,  14,  19],\n",
       "        [  6,   7,   9]], dtype=uint8),\n",
       " array([[-236.36734 ,  596.9041  , -158.62914 ],\n",
       "        [-235.12917 ,  600.85956 , -161.25824 ],\n",
       "        [-234.20221 ,  596.7676  , -163.55753 ],\n",
       "        ...,\n",
       "        [ 102.99863 , -117.96301 , -175.3265  ],\n",
       "        [-140.61656 ,  687.4559  ,  -40.06134 ],\n",
       "        [-118.26886 ,   40.974823,  -80.51245 ]], dtype=float32))"
      ]
     },
     "execution_count": 6,
     "metadata": {},
     "output_type": "execute_result"
    }
   ],
   "source": [
    "color_ls, vertex_ls = parse_vertex_color(mesh, texture)\n",
    "color_ls, vertex_ls"
   ]
  },
  {
   "cell_type": "code",
   "execution_count": 7,
   "metadata": {},
   "outputs": [],
   "source": [
    "from scipy.spatial import KDTree\n",
    "\n",
    "tree = KDTree(vertex_ls)"
   ]
  },
  {
   "cell_type": "markdown",
   "metadata": {},
   "source": [
    "# Marker extraction"
   ]
  },
  {
   "cell_type": "markdown",
   "metadata": {},
   "source": [
    "## Gray scale threshold"
   ]
  },
  {
   "cell_type": "code",
   "execution_count": 8,
   "metadata": {},
   "outputs": [],
   "source": [
    "ds, idx = tree.query(vertex_ls, 10)\n",
    "respond = np.sum(color_ls * [0.299, 0.587, 0.114], axis=1)\n",
    "gray_ls = respond"
   ]
  },
  {
   "cell_type": "code",
   "execution_count": 9,
   "metadata": {},
   "outputs": [
    {
     "data": {
      "text/plain": [
       "'std 71.26865830135637 mean 84.09092193103449 min 1.288 max 255.0'"
      ]
     },
     "execution_count": 9,
     "metadata": {},
     "output_type": "execute_result"
    },
    {
     "data": {
      "image/png": "[encoded data removed]",
      "text/plain": [
       "<Figure size 640x480 with 1 Axes>"
      ]
     },
     "metadata": {},
     "output_type": "display_data"
    }
   ],
   "source": [
    "import matplotlib.pyplot as plt\n",
    "\n",
    "mean = np.mean(respond)\n",
    "std = np.std(respond)\n",
    "plt.hist(gray_ls, bins=100)\n",
    "f\"std {np.std(gray_ls)} mean {np.mean(gray_ls)} min {np.min(gray_ls)} max {np.max(gray_ls)}\""
   ]
  },
  {
   "cell_type": "code",
   "execution_count": 10,
   "metadata": {},
   "outputs": [
    {
     "name": "stderr",
     "output_type": "stream",
     "text": [
      "/home/knpob/miniconda3/envs/mesh4d/lib/python3.10/site-packages/pyvista/plotting/plotter.py:149: UserWarning: \n",
      "This system does not appear to be running an xserver.\n",
      "PyVista will likely segfault when rendering.\n",
      "\n",
      "Try starting a virtual frame buffer with xvfb, or using\n",
      "  ``pyvista.start_xvfb()``\n",
      "\n",
      "  warnings.warn(\n",
      "ERROR:root:bad X server connection. DISPLAY=\n",
      "\u001b[0m\u001b[31m2023-11-07 15:07:17.522 (  59.701s) [        A511D740]vtkXOpenGLRenderWindow.:464    ERR| vtkXOpenGLRenderWindow (0x635a2e0): bad X server connection. DISPLAY=\u001b[0m\n"
     ]
    },
    {
     "ename": "",
     "evalue": "",
     "output_type": "error",
     "traceback": [
      "\u001b[1;31mThe Kernel crashed while executing code in the the current cell or a previous cell. Please review the code in the cell(s) to identify a possible cause of the failure. Click <a href='https://aka.ms/vscodeJupyterKernelCrash'>here</a> for more info. View Jupyter <a href='command:jupyter.viewOutput'>log</a> for further details."
     ]
    }
   ],
   "source": [
    "mesh.plot(scalars=-respond, cmap='cool')"
   ]
  },
  {
   "cell_type": "code",
   "execution_count": null,
   "metadata": {},
   "outputs": [
    {
     "data": {
      "application/vnd.jupyter.widget-view+json": {
       "model_id": "705edeecb61d42fc841238a8b02c2a40",
       "version_major": 2,
       "version_minor": 0
      },
      "text/plain": [
       "Widget(value=\"<iframe src='http://localhost:56772/index.html?ui=P_0x7f79dd43a7f0_10&reconnect=auto' style='wid…"
      ]
     },
     "metadata": {},
     "output_type": "display_data"
    }
   ],
   "source": [
    "import pyvista as pv\n",
    "\n",
    "scene = pv.Plotter()\n",
    "cloud = pv.PolyData(vertex_ls[gray_ls < 100])\n",
    "scene.add_mesh(cloud, point_size=2, color='goldenrod')\n",
    "scene.add_mesh(mesh, scalars=gray_ls, cmap='gray')\n",
    "scene.camera_position = 'xy'\n",
    "scene.show()"
   ]
  },
  {
   "cell_type": "markdown",
   "metadata": {},
   "source": [
    "## Local gray scale difference"
   ]
  },
  {
   "cell_type": "code",
   "execution_count": null,
   "metadata": {},
   "outputs": [],
   "source": [
    "ds, idx = tree.query(vertex_ls, 10)\n",
    "respond = np.max(np.abs(gray_ls[idx]  - np.expand_dims(gray_ls, axis=-1)), axis=1)"
   ]
  },
  {
   "cell_type": "code",
   "execution_count": null,
   "metadata": {},
   "outputs": [
    {
     "data": {
      "text/plain": [
       "'std 33.95282967982775 mean 22.14072165141743 min 0.0 max 241.423'"
      ]
     },
     "execution_count": 34,
     "metadata": {},
     "output_type": "execute_result"
    },
    {
     "data": {
      "image/png": "[encoded data removed]",
      "text/plain": [
       "<Figure size 640x480 with 1 Axes>"
      ]
     },
     "metadata": {},
     "output_type": "display_data"
    }
   ],
   "source": [
    "import matplotlib.pyplot as plt\n",
    "\n",
    "mean = np.mean(respond)\n",
    "std = np.std(respond)\n",
    "plt.hist(respond, bins=100)\n",
    "f\"std {np.std(respond)} mean {np.mean(respond)} min {np.min(respond)} max {np.max(respond)}\""
   ]
  },
  {
   "cell_type": "code",
   "execution_count": null,
   "metadata": {},
   "outputs": [
    {
     "data": {
      "application/vnd.jupyter.widget-view+json": {
       "model_id": "039f24d538b84a88b5531dc3db40b273",
       "version_major": 2,
       "version_minor": 0
      },
      "text/plain": [
       "Widget(value=\"<iframe src='http://localhost:56772/index.html?ui=P_0x7f79d3e4a310_11&reconnect=auto' style='wid…"
      ]
     },
     "metadata": {},
     "output_type": "display_data"
    }
   ],
   "source": [
    "mesh.plot(scalars=respond, cmap='cool')"
   ]
  },
  {
   "cell_type": "code",
   "execution_count": null,
   "metadata": {},
   "outputs": [
    {
     "data": {
      "application/vnd.jupyter.widget-view+json": {
       "model_id": "413797babc3f48a883116dbfa3d850db",
       "version_major": 2,
       "version_minor": 0
      },
      "text/plain": [
       "Widget(value=\"<iframe src='http://localhost:56772/index.html?ui=P_0x7f79de05ad00_12&reconnect=auto' style='wid…"
      ]
     },
     "metadata": {},
     "output_type": "display_data"
    }
   ],
   "source": [
    "import pyvista as pv\n",
    "\n",
    "scene = pv.Plotter()\n",
    "cloud = pv.PolyData(vertex_ls[respond > mean + 2 * std])\n",
    "scene.add_mesh(cloud, point_size=2, color='goldenrod')\n",
    "scene.add_mesh(mesh, scalars=gray_ls, cmap='gray')\n",
    "scene.camera_position = 'xy'\n",
    "scene.show()"
   ]
  },
  {
   "cell_type": "markdown",
   "metadata": {},
   "source": [
    "## Local gray scale gradients"
   ]
  },
  {
   "cell_type": "code",
   "execution_count": null,
   "metadata": {},
   "outputs": [],
   "source": [
    "ds, idx = tree.query(vertex_ls, 100)\n",
    "respond = np.max(np.abs(gray_ls[idx] - np.expand_dims(gray_ls, -1)) / (ds + 1e-5), axis=1)"
   ]
  },
  {
   "cell_type": "code",
   "execution_count": null,
   "metadata": {},
   "outputs": [
    {
     "data": {
      "text/plain": [
       "'std 4.0321776426781115 mean 3.1184009700957027 min 0.04279150596163643 max 37.232114767483246'"
      ]
     },
     "execution_count": 38,
     "metadata": {},
     "output_type": "execute_result"
    },
    {
     "data": {
      "image/png": "[encoded data removed]",
      "text/plain": [
       "<Figure size 640x480 with 1 Axes>"
      ]
     },
     "metadata": {},
     "output_type": "display_data"
    }
   ],
   "source": [
    "plt.hist(respond, bins=100)\n",
    "mean = np.mean(respond)\n",
    "std = np.std(respond)\n",
    "f\"std {np.std(respond)} mean {np.mean(respond)} min {np.min(respond)} max {np.max(respond)}\""
   ]
  },
  {
   "cell_type": "code",
   "execution_count": null,
   "metadata": {},
   "outputs": [
    {
     "data": {
      "application/vnd.jupyter.widget-view+json": {
       "model_id": "c1cc9049f553436dbc13476453a2c39d",
       "version_major": 2,
       "version_minor": 0
      },
      "text/plain": [
       "Widget(value=\"<iframe src='http://localhost:56772/index.html?ui=P_0x7f79de05a1f0_13&reconnect=auto' style='wid…"
      ]
     },
     "metadata": {},
     "output_type": "display_data"
    }
   ],
   "source": [
    "mesh.plot(scalars=respond, cmap='cool')"
   ]
  },
  {
   "cell_type": "code",
   "execution_count": null,
   "metadata": {},
   "outputs": [
    {
     "data": {
      "application/vnd.jupyter.widget-view+json": {
       "model_id": "7bb2dd19432e4b0084cb65e02ed34215",
       "version_major": 2,
       "version_minor": 0
      },
      "text/plain": [
       "Widget(value=\"<iframe src='http://localhost:56772/index.html?ui=P_0x7f79e12f78e0_14&reconnect=auto' style='wid…"
      ]
     },
     "metadata": {},
     "output_type": "display_data"
    }
   ],
   "source": [
    "import pyvista as pv\n",
    "\n",
    "scene = pv.Plotter()\n",
    "cloud = pv.PolyData(vertex_ls[respond > mean + 2 * std])\n",
    "scene.add_mesh(cloud, point_size=2, color='goldenrod')\n",
    "scene.add_mesh(mesh, scalars=gray_ls, cmap='gray')\n",
    "scene.camera_position = 'xy'\n",
    "scene.show()"
   ]
  },
  {
   "cell_type": "markdown",
   "metadata": {},
   "source": [
    "# Batch validation"
   ]
  },
  {
   "cell_type": "code",
   "execution_count": null,
   "metadata": {},
   "outputs": [],
   "source": [
    "def extract(mesh, texture, pnum=100, range=2):\n",
    "    color_ls, vertex_ls = parse_vertex_color(mesh, texture)\n",
    "    gray_ls = np.sum(color_ls * [0.299, 0.587, 0.114], axis=1)\n",
    "    \n",
    "    tree = KDTree(vertex_ls)\n",
    "    ds, idx = tree.query(vertex_ls, pnum)\n",
    "    \n",
    "    respond = np.max(np.abs(gray_ls[idx] - np.expand_dims(gray_ls, -1)) / (ds + 1e-5), axis=1)\n",
    "    mean = np.mean(respond)\n",
    "    std = np.std(respond)\n",
    "    marker_vertex_ls = vertex_ls[respond > mean + range * std]\n",
    "    # need to address empty issue\n",
    "\n",
    "    return gray_ls, marker_vertex_ls"
   ]
  },
  {
   "cell_type": "code",
   "execution_count": null,
   "metadata": {},
   "outputs": [],
   "source": [
    "from mesh4d import obj3d\n",
    "from mesh4d.analyse import crave\n",
    "\n",
    "mesh_ls, texture_ls = obj3d.load_mesh_series(\n",
    "    folder=mesh_path,\n",
    "    start=0,\n",
    "    stride=12,\n",
    "    end=120,\n",
    ")\n",
    "\n",
    "mesh_ls = [crave.fix_pvmesh_disconnect(mesh) for mesh in mesh_ls]"
   ]
  },
  {
   "cell_type": "code",
   "execution_count": null,
   "metadata": {},
   "outputs": [
    {
     "name": "stderr",
     "output_type": "stream",
     "text": [
      "WARNING:imageio_ffmpeg:IMAGEIO FFMPEG_WRITER WARNING: input image is not divisible by macro_block_size=16, resizing from (1483, 600) to (1488, 608) to ensure video compatibility with most codecs and players. To prevent resizing, make your input image divisible by the macro_block_size or set the macro_block_size to 1 (risking incompatibility).\n"
     ]
    },
    {
     "name": "stdout",
     "output_type": "stream",
     "text": [
      "[=                   ] 9.1% exported the 0-th frame"
     ]
    },
    {
     "name": "stderr",
     "output_type": "stream",
     "text": [
      "[swscaler @ 0x7fcf40048000] Warning: data is not aligned! This can lead to a speed loss\n"
     ]
    },
    {
     "name": "stdout",
     "output_type": "stream",
     "text": [
      "[====================] 100.0% exported the 10-th frame\n"
     ]
    }
   ],
   "source": [
    "import os\n",
    "from mesh4d import utils\n",
    "\n",
    "scene.open_movie(os.path.join('output', 'marker.mp4'), framerate=round(120 / stride))\n",
    "plot_num = len(mesh_ls)\n",
    "\n",
    "for idx in range(len(mesh_ls)):\n",
    "    scene.clear()\n",
    "    \n",
    "    gray_ls, marker_vertex_ls = extract(mesh_ls[idx], texture_ls[idx])\n",
    "    cloud = pv.PolyData(marker_vertex_ls)\n",
    "    scene.add_mesh(cloud, point_size=2, color='goldenrod')\n",
    "    scene.add_mesh(mesh_ls[idx], scalars=gray_ls, cmap='gray')\n",
    "\n",
    "    scene.camera_position = 'xy'\n",
    "    scene.write_frame()\n",
    "\n",
    "    percent = (idx + 1) / plot_num\n",
    "    utils.progress_bar(percent, back_str=\" exported the {}-th frame\".format(idx))\n",
    "\n",
    "scene.close()"
   ]
  },
  {
   "cell_type": "code",
   "execution_count": null,
   "metadata": {},
   "outputs": [],
   "source": []
  }
 ],
 "metadata": {
  "kernelspec": {
   "display_name": "mesh4d",
   "language": "python",
   "name": "python3"
  },
  "language_info": {
   "codemirror_mode": {
    "name": "ipython",
    "version": 3
   },
   "file_extension": ".py",
   "mimetype": "text/x-python",
   "name": "python",
   "nbconvert_exporter": "python",
   "pygments_lexer": "ipython3",
   "version": "3.10.13"
  }
 },
 "nbformat": 4,
 "nbformat_minor": 2
}
