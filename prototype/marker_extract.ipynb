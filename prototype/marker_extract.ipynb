{
 "cells": [
  {
   "cell_type": "markdown",
   "metadata": {},
   "source": [
    "# Settings"
   ]
  },
  {
   "cell_type": "code",
   "execution_count": 34,
   "metadata": {},
   "outputs": [],
   "source": [
    "# mesh_path = '/home/knpob/file/4-Dataset/20211229-Running breast scanning/3dmd/0kmh_8marker_bra'\n",
    "mesh_path = '/Users/knpob/Territory/2-Kolmo/4-Dataset/20211229-Running breast scanning/3dmd/0kmh_8marker_bra'\n",
    "# mesh_path = '/Users/knpob/Territory/2-Kolmo/4-Dataset/20230715-DynaBreastLite/mesh'\n",
    "export_folder = \"output\""
   ]
  },
  {
   "cell_type": "markdown",
   "metadata": {},
   "source": [
    "# Data loading"
   ]
  },
  {
   "cell_type": "code",
   "execution_count": 35,
   "metadata": {},
   "outputs": [],
   "source": [
    "import os\n",
    "\n",
    "files = os.listdir(mesh_path)\n",
    "files = [os.path.join(mesh_path, f.replace('.obj', '')) for f in files if '.obj' in f]\n",
    "files.sort()"
   ]
  },
  {
   "cell_type": "code",
   "execution_count": 38,
   "metadata": {},
   "outputs": [],
   "source": [
    "import pyvista as pv\n",
    "from mesh4d.analyse import crave\n",
    "\n",
    "mesh = pv.read(files[0] + '.obj')\n",
    "# mesh = crave.fix_pvmesh_disconnect(mesh)\n",
    "texture = pv.read_texture(files[0] + '.jpg')"
   ]
  },
  {
   "cell_type": "code",
   "execution_count": 39,
   "metadata": {},
   "outputs": [
    {
     "data": {
      "application/vnd.jupyter.widget-view+json": {
       "model_id": "724d01bae108470d86f78b8b0c9defaf",
       "version_major": 2,
       "version_minor": 0
      },
      "text/plain": [
       "Widget(value=\"<iframe src='http://localhost:57828/index.html?ui=P_0x7fa0611ab3a0_10&reconnect=auto' style='wid…"
      ]
     },
     "metadata": {},
     "output_type": "display_data"
    }
   ],
   "source": [
    "mesh.plot(texture=texture)"
   ]
  },
  {
   "cell_type": "code",
   "execution_count": 40,
   "metadata": {},
   "outputs": [],
   "source": [
    "import numpy as np\n",
    "\n",
    "def parse_vertex_color(mesh, texture) -> tuple:\n",
    "    texture_img = np.array(texture.to_array())\n",
    "    u, v = mesh.active_t_coords.T\n",
    "    v_mapped = np.round((1 - v) * (texture_img.shape[0] - 1)).astype(int)\n",
    "    u_mapped = np.round(u * (texture_img.shape[1] - 1)).astype(int)\n",
    "    \n",
    "    color_ls = texture_img[v_mapped, u_mapped]\n",
    "    vertex_ls = np.array(mesh.points)\n",
    "        \n",
    "    return color_ls, vertex_ls"
   ]
  },
  {
   "cell_type": "code",
   "execution_count": 41,
   "metadata": {},
   "outputs": [
    {
     "data": {
      "text/plain": [
       "(array([[149, 123, 108],\n",
       "        [147, 124, 108],\n",
       "        [155, 129, 116],\n",
       "        ...,\n",
       "        [ 14,   9,  13],\n",
       "        [  9,  10,  12],\n",
       "        [  8,  12,  11]], dtype=uint8),\n",
       " array([[-236.36734 ,  596.9041  , -158.62914 ],\n",
       "        [-235.12917 ,  600.85956 , -161.25824 ],\n",
       "        [-234.20221 ,  596.7676  , -163.55753 ],\n",
       "        ...,\n",
       "        [-105.81465 , -328.7931  , -174.14429 ],\n",
       "        [ -73.567764, -323.46378 , -171.41885 ],\n",
       "        [ -91.6267  , -297.56808 , -162.62166 ]], dtype=float32))"
      ]
     },
     "execution_count": 41,
     "metadata": {},
     "output_type": "execute_result"
    }
   ],
   "source": [
    "color_ls, vertex_ls = parse_vertex_color(mesh, texture)\n",
    "color_ls, vertex_ls"
   ]
  },
  {
   "cell_type": "code",
   "execution_count": 42,
   "metadata": {},
   "outputs": [],
   "source": [
    "from scipy.spatial import KDTree\n",
    "\n",
    "tree = KDTree(vertex_ls)"
   ]
  },
  {
   "cell_type": "markdown",
   "metadata": {},
   "source": [
    "# Marker extraction"
   ]
  },
  {
   "cell_type": "markdown",
   "metadata": {},
   "source": [
    "## Gray scale threshold"
   ]
  },
  {
   "cell_type": "code",
   "execution_count": 43,
   "metadata": {},
   "outputs": [],
   "source": [
    "ds, idx = tree.query(vertex_ls, 10)\n",
    "respond = np.sum(color_ls * [0.299, 0.587, 0.114], axis=1)\n",
    "gray_ls = respond"
   ]
  },
  {
   "cell_type": "code",
   "execution_count": 44,
   "metadata": {},
   "outputs": [
    {
     "data": {
      "text/plain": [
       "'std 71.41114318312894 mean 84.92212859064327 min 1.288 max 255.0'"
      ]
     },
     "execution_count": 44,
     "metadata": {},
     "output_type": "execute_result"
    },
    {
     "data": {
      "image/png": "[encoded data removed]",
      "text/plain": [
       "<Figure size 640x480 with 1 Axes>"
      ]
     },
     "metadata": {},
     "output_type": "display_data"
    }
   ],
   "source": [
    "import matplotlib.pyplot as plt\n",
    "\n",
    "mean = np.mean(respond)\n",
    "std = np.std(respond)\n",
    "plt.hist(gray_ls, bins=100)\n",
    "f\"std {np.std(gray_ls)} mean {np.mean(gray_ls)} min {np.min(gray_ls)} max {np.max(gray_ls)}\""
   ]
  },
  {
   "cell_type": "code",
   "execution_count": 45,
   "metadata": {},
   "outputs": [
    {
     "data": {
      "application/vnd.jupyter.widget-view+json": {
       "model_id": "e5a6d796e29e4407a3bc2023f3e6b22f",
       "version_major": 2,
       "version_minor": 0
      },
      "text/plain": [
       "Widget(value=\"<iframe src='http://localhost:57828/index.html?ui=P_0x7fa06114f340_11&reconnect=auto' style='wid…"
      ]
     },
     "metadata": {},
     "output_type": "display_data"
    }
   ],
   "source": [
    "mesh.plot(scalars=-respond, cmap='cool')"
   ]
  },
  {
   "cell_type": "code",
   "execution_count": 46,
   "metadata": {},
   "outputs": [
    {
     "data": {
      "application/vnd.jupyter.widget-view+json": {
       "model_id": "38b956623aae4858ab6064ea054a70aa",
       "version_major": 2,
       "version_minor": 0
      },
      "text/plain": [
       "Widget(value=\"<iframe src='http://localhost:57828/index.html?ui=P_0x7fa06118a7f0_12&reconnect=auto' style='wid…"
      ]
     },
     "metadata": {},
     "output_type": "display_data"
    }
   ],
   "source": [
    "import pyvista as pv\n",
    "\n",
    "scene = pv.Plotter()\n",
    "cloud = pv.PolyData(vertex_ls[gray_ls < 100])\n",
    "scene.add_mesh(cloud, point_size=2, color='goldenrod')\n",
    "scene.add_mesh(mesh, scalars=gray_ls, cmap='gray')\n",
    "scene.camera_position = 'xy'\n",
    "scene.show()"
   ]
  },
  {
   "cell_type": "markdown",
   "metadata": {},
   "source": [
    "## Local gray scale difference"
   ]
  },
  {
   "cell_type": "code",
   "execution_count": 47,
   "metadata": {},
   "outputs": [],
   "source": [
    "ds, idx = tree.query(vertex_ls, 10)\n",
    "respond = np.max(np.abs(gray_ls[idx]  - np.expand_dims(gray_ls, axis=-1)), axis=1)"
   ]
  },
  {
   "cell_type": "code",
   "execution_count": 48,
   "metadata": {},
   "outputs": [
    {
     "data": {
      "text/plain": [
       "'std 19.554183403829736 mean 8.810173637426901 min 0.0 max 235.582'"
      ]
     },
     "execution_count": 48,
     "metadata": {},
     "output_type": "execute_result"
    },
    {
     "data": {
      "image/png": "[encoded data removed]",
      "text/plain": [
       "<Figure size 640x480 with 1 Axes>"
      ]
     },
     "metadata": {},
     "output_type": "display_data"
    }
   ],
   "source": [
    "import matplotlib.pyplot as plt\n",
    "\n",
    "mean = np.mean(respond)\n",
    "std = np.std(respond)\n",
    "plt.hist(respond, bins=100)\n",
    "f\"std {np.std(respond)} mean {np.mean(respond)} min {np.min(respond)} max {np.max(respond)}\""
   ]
  },
  {
   "cell_type": "code",
   "execution_count": 49,
   "metadata": {},
   "outputs": [
    {
     "data": {
      "application/vnd.jupyter.widget-view+json": {
       "model_id": "e4b46fca83674b1a80a4eb914fe65c43",
       "version_major": 2,
       "version_minor": 0
      },
      "text/plain": [
       "Widget(value=\"<iframe src='http://localhost:57828/index.html?ui=P_0x7fa0623a9ac0_13&reconnect=auto' style='wid…"
      ]
     },
     "metadata": {},
     "output_type": "display_data"
    }
   ],
   "source": [
    "mesh.plot(scalars=respond, cmap='cool')"
   ]
  },
  {
   "cell_type": "code",
   "execution_count": 50,
   "metadata": {},
   "outputs": [
    {
     "data": {
      "application/vnd.jupyter.widget-view+json": {
       "model_id": "3d98737dfbde4d91af07198d9fa95b15",
       "version_major": 2,
       "version_minor": 0
      },
      "text/plain": [
       "Widget(value=\"<iframe src='http://localhost:57828/index.html?ui=P_0x7fa0623c0fa0_14&reconnect=auto' style='wid…"
      ]
     },
     "metadata": {},
     "output_type": "display_data"
    }
   ],
   "source": [
    "import pyvista as pv\n",
    "\n",
    "scene = pv.Plotter()\n",
    "cloud = pv.PolyData(vertex_ls[respond > mean + 2 * std])\n",
    "scene.add_mesh(cloud, point_size=2, color='goldenrod')\n",
    "scene.add_mesh(mesh, scalars=gray_ls, cmap='gray')\n",
    "scene.camera_position = 'xy'\n",
    "scene.show()"
   ]
  },
  {
   "cell_type": "markdown",
   "metadata": {},
   "source": [
    "## Local gray scale gradients"
   ]
  },
  {
   "cell_type": "code",
   "execution_count": 51,
   "metadata": {},
   "outputs": [],
   "source": [
    "ds, idx = tree.query(vertex_ls, 100)\n",
    "respond = np.max(np.abs(gray_ls[idx] - np.expand_dims(gray_ls, -1)) / (ds + 1e-5), axis=1)"
   ]
  },
  {
   "cell_type": "code",
   "execution_count": 52,
   "metadata": {},
   "outputs": [
    {
     "data": {
      "text/plain": [
       "'std 613892.2475700108 mean 117879.2039308044 min 0.0 max 22801699.999999996'"
      ]
     },
     "execution_count": 52,
     "metadata": {},
     "output_type": "execute_result"
    },
    {
     "data": {
      "image/png": "[encoded data removed]",
      "text/plain": [
       "<Figure size 640x480 with 1 Axes>"
      ]
     },
     "metadata": {},
     "output_type": "display_data"
    }
   ],
   "source": [
    "plt.hist(respond, bins=100)\n",
    "mean = np.mean(respond)\n",
    "std = np.std(respond)\n",
    "f\"std {np.std(respond)} mean {np.mean(respond)} min {np.min(respond)} max {np.max(respond)}\""
   ]
  },
  {
   "cell_type": "code",
   "execution_count": 53,
   "metadata": {},
   "outputs": [
    {
     "data": {
      "application/vnd.jupyter.widget-view+json": {
       "model_id": "b14a9b8f04ec4ae196710a202efdd3f5",
       "version_major": 2,
       "version_minor": 0
      },
      "text/plain": [
       "Widget(value=\"<iframe src='http://localhost:57828/index.html?ui=P_0x7fa0747e2df0_15&reconnect=auto' style='wid…"
      ]
     },
     "metadata": {},
     "output_type": "display_data"
    }
   ],
   "source": [
    "mesh.plot(scalars=respond, cmap='cool')"
   ]
  },
  {
   "cell_type": "code",
   "execution_count": 54,
   "metadata": {},
   "outputs": [
    {
     "data": {
      "application/vnd.jupyter.widget-view+json": {
       "model_id": "72b4c40810864abe8f4980f97a9ba805",
       "version_major": 2,
       "version_minor": 0
      },
      "text/plain": [
       "Widget(value=\"<iframe src='http://localhost:57828/index.html?ui=P_0x7fa091ee6940_16&reconnect=auto' style='wid…"
      ]
     },
     "metadata": {},
     "output_type": "display_data"
    }
   ],
   "source": [
    "import pyvista as pv\n",
    "\n",
    "scene = pv.Plotter()\n",
    "cloud = pv.PolyData(vertex_ls[respond > mean + 2 * std])\n",
    "scene.add_mesh(cloud, point_size=2, color='goldenrod')\n",
    "scene.add_mesh(mesh, scalars=gray_ls, cmap='gray')\n",
    "scene.camera_position = 'xy'\n",
    "scene.show()"
   ]
  },
  {
   "cell_type": "markdown",
   "metadata": {},
   "source": [
    "# Batch validation"
   ]
  },
  {
   "cell_type": "code",
   "execution_count": 55,
   "metadata": {},
   "outputs": [],
   "source": [
    "def extract(mesh, texture, pnum=100, range=2):\n",
    "    color_ls, vertex_ls = parse_vertex_color(mesh, texture)\n",
    "    gray_ls = np.sum(color_ls * [0.299, 0.587, 0.114], axis=1)\n",
    "    \n",
    "    tree = KDTree(vertex_ls)\n",
    "    ds, idx = tree.query(vertex_ls, pnum)\n",
    "    \n",
    "    respond = np.max(np.abs(gray_ls[idx] - np.expand_dims(gray_ls, -1)) / (ds + 1e-5), axis=1)\n",
    "    mean = np.mean(respond)\n",
    "    std = np.std(respond)\n",
    "    marker_vertex_ls = vertex_ls[respond > mean + range * std]\n",
    "    # need to address empty issue\n",
    "\n",
    "    return gray_ls, marker_vertex_ls"
   ]
  },
  {
   "cell_type": "code",
   "execution_count": 56,
   "metadata": {},
   "outputs": [
    {
     "name": "stdout",
     "output_type": "stream",
     "text": [
      "[                    ] 0.8% loading: /Users/knpob/Territory/2-Kolmo/4-Dataset/20211229-Running breast scanning/3dmd/0kmh_8marker_bra/static_standing_with_bra.000001.obj"
     ]
    },
    {
     "ename": "IndexError",
     "evalue": "list index out of range",
     "output_type": "error",
     "traceback": [
      "\u001b[0;31m---------------------------------------------------------------------------\u001b[0m",
      "\u001b[0;31mIndexError\u001b[0m                                Traceback (most recent call last)",
      "\u001b[1;32m/Users/knpob/Territory/2-Kolmo/2-Code/code2023-rbf-dense-track/prototype/marker_extract.ipynb Cell 28\u001b[0m line \u001b[0;36m4\n\u001b[1;32m      <a href='vscode-notebook-cell:/Users/knpob/Territory/2-Kolmo/2-Code/code2023-rbf-dense-track/prototype/marker_extract.ipynb#Y103sZmlsZQ%3D%3D?line=0'>1</a>\u001b[0m \u001b[39mfrom\u001b[39;00m \u001b[39mmesh4d\u001b[39;00m \u001b[39mimport\u001b[39;00m obj3d\n\u001b[1;32m      <a href='vscode-notebook-cell:/Users/knpob/Territory/2-Kolmo/2-Code/code2023-rbf-dense-track/prototype/marker_extract.ipynb#Y103sZmlsZQ%3D%3D?line=1'>2</a>\u001b[0m \u001b[39mfrom\u001b[39;00m \u001b[39mmesh4d\u001b[39;00m\u001b[39m.\u001b[39;00m\u001b[39manalyse\u001b[39;00m \u001b[39mimport\u001b[39;00m crave\n\u001b[0;32m----> <a href='vscode-notebook-cell:/Users/knpob/Territory/2-Kolmo/2-Code/code2023-rbf-dense-track/prototype/marker_extract.ipynb#Y103sZmlsZQ%3D%3D?line=3'>4</a>\u001b[0m mesh_ls, texture_ls \u001b[39m=\u001b[39m obj3d\u001b[39m.\u001b[39;49mload_mesh_series(\n\u001b[1;32m      <a href='vscode-notebook-cell:/Users/knpob/Territory/2-Kolmo/2-Code/code2023-rbf-dense-track/prototype/marker_extract.ipynb#Y103sZmlsZQ%3D%3D?line=4'>5</a>\u001b[0m     folder\u001b[39m=\u001b[39;49mmesh_path,\n\u001b[1;32m      <a href='vscode-notebook-cell:/Users/knpob/Territory/2-Kolmo/2-Code/code2023-rbf-dense-track/prototype/marker_extract.ipynb#Y103sZmlsZQ%3D%3D?line=5'>6</a>\u001b[0m     start\u001b[39m=\u001b[39;49m\u001b[39m0\u001b[39;49m,\n\u001b[1;32m      <a href='vscode-notebook-cell:/Users/knpob/Territory/2-Kolmo/2-Code/code2023-rbf-dense-track/prototype/marker_extract.ipynb#Y103sZmlsZQ%3D%3D?line=6'>7</a>\u001b[0m     stride\u001b[39m=\u001b[39;49m\u001b[39m12\u001b[39;49m,\n\u001b[1;32m      <a href='vscode-notebook-cell:/Users/knpob/Territory/2-Kolmo/2-Code/code2023-rbf-dense-track/prototype/marker_extract.ipynb#Y103sZmlsZQ%3D%3D?line=7'>8</a>\u001b[0m     end\u001b[39m=\u001b[39;49m\u001b[39m120\u001b[39;49m,\n\u001b[1;32m      <a href='vscode-notebook-cell:/Users/knpob/Territory/2-Kolmo/2-Code/code2023-rbf-dense-track/prototype/marker_extract.ipynb#Y103sZmlsZQ%3D%3D?line=8'>9</a>\u001b[0m )\n\u001b[1;32m     <a href='vscode-notebook-cell:/Users/knpob/Territory/2-Kolmo/2-Code/code2023-rbf-dense-track/prototype/marker_extract.ipynb#Y103sZmlsZQ%3D%3D?line=10'>11</a>\u001b[0m mesh_ls \u001b[39m=\u001b[39m [crave\u001b[39m.\u001b[39mfix_pvmesh_disconnect(mesh) \u001b[39mfor\u001b[39;00m mesh \u001b[39min\u001b[39;00m mesh_ls]\n",
      "File \u001b[0;32m~/Territory/2-Kolmo/mesh4d/mesh4d/obj3d.py:595\u001b[0m, in \u001b[0;36mload_mesh_series\u001b[0;34m(folder, start, end, stride)\u001b[0m\n\u001b[1;32m    592\u001b[0m texture_ls \u001b[39m=\u001b[39m []\n\u001b[1;32m    594\u001b[0m \u001b[39mfor\u001b[39;00m n \u001b[39min\u001b[39;00m \u001b[39mrange\u001b[39m(start, end \u001b[39m+\u001b[39m \u001b[39m1\u001b[39m, stride):\n\u001b[0;32m--> 595\u001b[0m     filedir \u001b[39m=\u001b[39m files[n]\n\u001b[1;32m    596\u001b[0m     mesh_ls\u001b[39m.\u001b[39mappend(pv\u001b[39m.\u001b[39mread(filedir))\n\u001b[1;32m    597\u001b[0m     texture_ls\u001b[39m.\u001b[39mappend(pv\u001b[39m.\u001b[39mread_texture(filedir\u001b[39m.\u001b[39mreplace(\u001b[39m'\u001b[39m\u001b[39m.obj\u001b[39m\u001b[39m'\u001b[39m, \u001b[39m'\u001b[39m\u001b[39m.jpg\u001b[39m\u001b[39m'\u001b[39m)))\n",
      "\u001b[0;31mIndexError\u001b[0m: list index out of range"
     ]
    }
   ],
   "source": [
    "from mesh4d import obj3d\n",
    "from mesh4d.analyse import crave\n",
    "\n",
    "mesh_ls, texture_ls = obj3d.load_mesh_series(\n",
    "    folder=mesh_path,\n",
    "    start=0,\n",
    "    stride=12,\n",
    "    end=120,\n",
    ")\n",
    "\n",
    "mesh_ls = [crave.fix_pvmesh_disconnect(mesh) for mesh in mesh_ls]"
   ]
  },
  {
   "cell_type": "code",
   "execution_count": 33,
   "metadata": {},
   "outputs": [
    {
     "name": "stderr",
     "output_type": "stream",
     "text": [
      "WARNING:imageio_ffmpeg:IMAGEIO FFMPEG_WRITER WARNING: input image is not divisible by macro_block_size=16, resizing from (1499, 600) to (1504, 608) to ensure video compatibility with most codecs and players. To prevent resizing, make your input image divisible by the macro_block_size or set the macro_block_size to 1 (risking incompatibility).\n"
     ]
    },
    {
     "name": "stdout",
     "output_type": "stream",
     "text": [
      "[=                   ] 9.1% exported the 0-th frame"
     ]
    },
    {
     "name": "stderr",
     "output_type": "stream",
     "text": [
      "[swscaler @ 0x7fcdc8008000] Warning: data is not aligned! This can lead to a speed loss\n"
     ]
    },
    {
     "name": "stdout",
     "output_type": "stream",
     "text": [
      "[====================] 100.0% exported the 10-th frame\n"
     ]
    }
   ],
   "source": [
    "import os\n",
    "from mesh4d import utils\n",
    "\n",
    "scene.open_movie(os.path.join(export_folder, 'marker.mp4'), framerate=10)\n",
    "plot_num = len(mesh_ls)\n",
    "\n",
    "for idx in range(len(mesh_ls)):\n",
    "    scene.clear()\n",
    "    \n",
    "    gray_ls, marker_vertex_ls = extract(mesh_ls[idx], texture_ls[idx])\n",
    "    cloud = pv.PolyData(marker_vertex_ls)\n",
    "    scene.add_mesh(cloud, point_size=2, color='goldenrod')\n",
    "    scene.add_mesh(mesh_ls[idx], scalars=gray_ls, cmap='gray')\n",
    "\n",
    "    scene.camera_position = 'xy'\n",
    "    scene.write_frame()\n",
    "\n",
    "    percent = (idx + 1) / plot_num\n",
    "    utils.progress_bar(percent, back_str=\" exported the {}-th frame\".format(idx))\n",
    "\n",
    "scene.close()"
   ]
  },
  {
   "cell_type": "code",
   "execution_count": null,
   "metadata": {},
   "outputs": [],
   "source": []
  }
 ],
 "metadata": {
  "kernelspec": {
   "display_name": "mesh4d",
   "language": "python",
   "name": "python3"
  },
  "language_info": {
   "codemirror_mode": {
    "name": "ipython",
    "version": 3
   },
   "file_extension": ".py",
   "mimetype": "text/x-python",
   "name": "python",
   "nbconvert_exporter": "python",
   "pygments_lexer": "ipython3",
   "version": "3.9.16"
  }
 },
 "nbformat": 4,
 "nbformat_minor": 2
}
