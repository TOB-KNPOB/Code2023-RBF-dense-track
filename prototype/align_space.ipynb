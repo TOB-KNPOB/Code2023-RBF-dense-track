{
 "cells": [
  {
   "cell_type": "markdown",
   "metadata": {},
   "source": [
    "# Data loading"
   ]
  },
  {
   "cell_type": "markdown",
   "metadata": {},
   "source": [
    "## 3dMD"
   ]
  },
  {
   "cell_type": "code",
   "execution_count": 18,
   "metadata": {},
   "outputs": [],
   "source": [
    "import pyvista as pv\n",
    "\n",
    "mesh_path = '/Users/knpob/Territory/2-Kolmo/4-Dataset/20211229-Running breast scanning/3dmd/0kmh_8marker_bra/static_standing_with_bra.000001.obj'\n",
    "mesh = pv.read(mesh_path)\n",
    "texture = pv.read_texture(mesh_path.replace('.obj', '.jpg'))"
   ]
  },
  {
   "cell_type": "code",
   "execution_count": 4,
   "metadata": {},
   "outputs": [
    {
     "data": {
      "text/plain": [
       "array([[-143.96188043,  881.45735289,  -98.9645099 ],\n",
       "       [ 148.52799833,  870.26257573,  -93.62949312],\n",
       "       [  -4.37306098,  851.9689428 ,  -37.67802522],\n",
       "       [ -90.61482504,  675.84718877,   29.62051627],\n",
       "       [  90.39046384,  670.61744481,   40.47232367],\n",
       "       [ -10.44260082,  599.83449454,   22.99841298],\n",
       "       [ -82.13630439,  570.44959206,  -13.54744372],\n",
       "       [  64.12592594,  562.4611924 ,   -9.3972195 ]])"
      ]
     },
     "execution_count": 4,
     "metadata": {},
     "output_type": "execute_result"
    }
   ],
   "source": [
    "import numpy as np\n",
    "\n",
    "points_3dmd = np.load('output/kps_3dmd.npy')\n",
    "points_3dmd"
   ]
  },
  {
   "cell_type": "markdown",
   "metadata": {},
   "source": [
    "## Vicon"
   ]
  },
  {
   "cell_type": "code",
   "execution_count": 66,
   "metadata": {},
   "outputs": [
    {
     "data": {
      "text/html": [
       "<div>\n",
       "<style scoped>\n",
       "    .dataframe tbody tr th:only-of-type {\n",
       "        vertical-align: middle;\n",
       "    }\n",
       "\n",
       "    .dataframe tbody tr th {\n",
       "        vertical-align: top;\n",
       "    }\n",
       "\n",
       "    .dataframe thead th {\n",
       "        text-align: right;\n",
       "    }\n",
       "</style>\n",
       "<table border=\"1\" class=\"dataframe\">\n",
       "  <thead>\n",
       "    <tr style=\"text-align: right;\">\n",
       "      <th></th>\n",
       "      <th>mm.6</th>\n",
       "      <th>mm.7</th>\n",
       "      <th>mm.8</th>\n",
       "      <th>mm.12</th>\n",
       "      <th>mm.13</th>\n",
       "      <th>mm.14</th>\n",
       "      <th>mm.15</th>\n",
       "      <th>mm.16</th>\n",
       "      <th>mm.17</th>\n",
       "      <th>mm.18</th>\n",
       "      <th>...</th>\n",
       "      <th>mm.23</th>\n",
       "      <th>mm.24</th>\n",
       "      <th>mm.25</th>\n",
       "      <th>mm.26</th>\n",
       "      <th>mm.27</th>\n",
       "      <th>mm.28</th>\n",
       "      <th>mm.29</th>\n",
       "      <th>mm.39</th>\n",
       "      <th>mm.40</th>\n",
       "      <th>mm.41</th>\n",
       "    </tr>\n",
       "  </thead>\n",
       "  <tbody>\n",
       "    <tr>\n",
       "      <th>0</th>\n",
       "      <td>37.456169</td>\n",
       "      <td>43.442940</td>\n",
       "      <td>1391.134155</td>\n",
       "      <td>187.941772</td>\n",
       "      <td>101.022385</td>\n",
       "      <td>1409.022217</td>\n",
       "      <td>-104.438118</td>\n",
       "      <td>105.529312</td>\n",
       "      <td>1419.012329</td>\n",
       "      <td>128.654831</td>\n",
       "      <td>...</td>\n",
       "      <td>1219.265503</td>\n",
       "      <td>26.529520</td>\n",
       "      <td>-32.100250</td>\n",
       "      <td>1142.538574</td>\n",
       "      <td>104.434242</td>\n",
       "      <td>-5.804446</td>\n",
       "      <td>1102.953613</td>\n",
       "      <td>-48.108265</td>\n",
       "      <td>2.692609</td>\n",
       "      <td>1110.355713</td>\n",
       "    </tr>\n",
       "    <tr>\n",
       "      <th>1</th>\n",
       "      <td>37.447746</td>\n",
       "      <td>43.428123</td>\n",
       "      <td>1391.129028</td>\n",
       "      <td>187.932739</td>\n",
       "      <td>101.001129</td>\n",
       "      <td>1409.023071</td>\n",
       "      <td>-104.443703</td>\n",
       "      <td>105.523132</td>\n",
       "      <td>1419.006226</td>\n",
       "      <td>128.646561</td>\n",
       "      <td>...</td>\n",
       "      <td>1219.252319</td>\n",
       "      <td>26.523537</td>\n",
       "      <td>-32.092136</td>\n",
       "      <td>1142.527466</td>\n",
       "      <td>104.425392</td>\n",
       "      <td>-5.801078</td>\n",
       "      <td>1102.948730</td>\n",
       "      <td>-48.108398</td>\n",
       "      <td>2.705920</td>\n",
       "      <td>1110.348633</td>\n",
       "    </tr>\n",
       "    <tr>\n",
       "      <th>2</th>\n",
       "      <td>37.436192</td>\n",
       "      <td>43.407715</td>\n",
       "      <td>1391.122192</td>\n",
       "      <td>187.920273</td>\n",
       "      <td>100.972290</td>\n",
       "      <td>1409.024292</td>\n",
       "      <td>-104.451866</td>\n",
       "      <td>105.513885</td>\n",
       "      <td>1418.998047</td>\n",
       "      <td>128.635010</td>\n",
       "      <td>...</td>\n",
       "      <td>1219.234619</td>\n",
       "      <td>26.515257</td>\n",
       "      <td>-32.081310</td>\n",
       "      <td>1142.512573</td>\n",
       "      <td>104.413223</td>\n",
       "      <td>-5.796293</td>\n",
       "      <td>1102.942383</td>\n",
       "      <td>-48.108650</td>\n",
       "      <td>2.723659</td>\n",
       "      <td>1110.338623</td>\n",
       "    </tr>\n",
       "    <tr>\n",
       "      <th>3</th>\n",
       "      <td>37.421516</td>\n",
       "      <td>43.381760</td>\n",
       "      <td>1391.113770</td>\n",
       "      <td>187.904358</td>\n",
       "      <td>100.936157</td>\n",
       "      <td>1409.025757</td>\n",
       "      <td>-104.462830</td>\n",
       "      <td>105.501183</td>\n",
       "      <td>1418.988037</td>\n",
       "      <td>128.620026</td>\n",
       "      <td>...</td>\n",
       "      <td>1219.212158</td>\n",
       "      <td>26.504631</td>\n",
       "      <td>-32.067921</td>\n",
       "      <td>1142.493652</td>\n",
       "      <td>104.397774</td>\n",
       "      <td>-5.789944</td>\n",
       "      <td>1102.934692</td>\n",
       "      <td>-48.109077</td>\n",
       "      <td>2.745513</td>\n",
       "      <td>1110.325684</td>\n",
       "    </tr>\n",
       "    <tr>\n",
       "      <th>4</th>\n",
       "      <td>37.403969</td>\n",
       "      <td>43.350712</td>\n",
       "      <td>1391.103760</td>\n",
       "      <td>187.885315</td>\n",
       "      <td>100.893623</td>\n",
       "      <td>1409.027832</td>\n",
       "      <td>-104.476746</td>\n",
       "      <td>105.484787</td>\n",
       "      <td>1418.976562</td>\n",
       "      <td>128.601730</td>\n",
       "      <td>...</td>\n",
       "      <td>1219.185669</td>\n",
       "      <td>26.491705</td>\n",
       "      <td>-32.052292</td>\n",
       "      <td>1142.471191</td>\n",
       "      <td>104.379196</td>\n",
       "      <td>-5.781878</td>\n",
       "      <td>1102.926270</td>\n",
       "      <td>-48.109814</td>\n",
       "      <td>2.770850</td>\n",
       "      <td>1110.310547</td>\n",
       "    </tr>\n",
       "    <tr>\n",
       "      <th>...</th>\n",
       "      <td>...</td>\n",
       "      <td>...</td>\n",
       "      <td>...</td>\n",
       "      <td>...</td>\n",
       "      <td>...</td>\n",
       "      <td>...</td>\n",
       "      <td>...</td>\n",
       "      <td>...</td>\n",
       "      <td>...</td>\n",
       "      <td>...</td>\n",
       "      <td>...</td>\n",
       "      <td>...</td>\n",
       "      <td>...</td>\n",
       "      <td>...</td>\n",
       "      <td>...</td>\n",
       "      <td>...</td>\n",
       "      <td>...</td>\n",
       "      <td>...</td>\n",
       "      <td>...</td>\n",
       "      <td>...</td>\n",
       "      <td>...</td>\n",
       "    </tr>\n",
       "    <tr>\n",
       "      <th>1339</th>\n",
       "      <td>21.732576</td>\n",
       "      <td>46.049854</td>\n",
       "      <td>1392.696899</td>\n",
       "      <td>172.232254</td>\n",
       "      <td>104.020699</td>\n",
       "      <td>1410.857788</td>\n",
       "      <td>-120.668114</td>\n",
       "      <td>108.256409</td>\n",
       "      <td>1418.401001</td>\n",
       "      <td>114.817039</td>\n",
       "      <td>...</td>\n",
       "      <td>1221.327515</td>\n",
       "      <td>13.241052</td>\n",
       "      <td>-34.002808</td>\n",
       "      <td>1146.459595</td>\n",
       "      <td>92.845680</td>\n",
       "      <td>-7.972306</td>\n",
       "      <td>1106.456787</td>\n",
       "      <td>-62.898724</td>\n",
       "      <td>-0.365181</td>\n",
       "      <td>1112.024170</td>\n",
       "    </tr>\n",
       "    <tr>\n",
       "      <th>1340</th>\n",
       "      <td>21.720249</td>\n",
       "      <td>46.030117</td>\n",
       "      <td>1392.699097</td>\n",
       "      <td>172.221863</td>\n",
       "      <td>104.001320</td>\n",
       "      <td>1410.864868</td>\n",
       "      <td>-120.676918</td>\n",
       "      <td>108.246849</td>\n",
       "      <td>1418.401123</td>\n",
       "      <td>114.807938</td>\n",
       "      <td>...</td>\n",
       "      <td>1221.329468</td>\n",
       "      <td>13.233658</td>\n",
       "      <td>-34.026825</td>\n",
       "      <td>1146.470215</td>\n",
       "      <td>92.847748</td>\n",
       "      <td>-7.997967</td>\n",
       "      <td>1106.470947</td>\n",
       "      <td>-62.910019</td>\n",
       "      <td>-0.384356</td>\n",
       "      <td>1112.029297</td>\n",
       "    </tr>\n",
       "    <tr>\n",
       "      <th>1341</th>\n",
       "      <td>21.713167</td>\n",
       "      <td>46.018551</td>\n",
       "      <td>1392.700562</td>\n",
       "      <td>172.215820</td>\n",
       "      <td>103.990166</td>\n",
       "      <td>1410.869141</td>\n",
       "      <td>-120.681984</td>\n",
       "      <td>108.241119</td>\n",
       "      <td>1418.401245</td>\n",
       "      <td>114.802795</td>\n",
       "      <td>...</td>\n",
       "      <td>1221.330444</td>\n",
       "      <td>13.229522</td>\n",
       "      <td>-34.040791</td>\n",
       "      <td>1146.476318</td>\n",
       "      <td>92.849220</td>\n",
       "      <td>-8.012938</td>\n",
       "      <td>1106.479126</td>\n",
       "      <td>-62.916359</td>\n",
       "      <td>-0.395396</td>\n",
       "      <td>1112.032349</td>\n",
       "    </tr>\n",
       "    <tr>\n",
       "      <th>1342</th>\n",
       "      <td>21.710215</td>\n",
       "      <td>46.013653</td>\n",
       "      <td>1392.701172</td>\n",
       "      <td>172.213287</td>\n",
       "      <td>103.985519</td>\n",
       "      <td>1410.870850</td>\n",
       "      <td>-120.684128</td>\n",
       "      <td>108.238655</td>\n",
       "      <td>1418.401245</td>\n",
       "      <td>114.800659</td>\n",
       "      <td>...</td>\n",
       "      <td>1221.330811</td>\n",
       "      <td>13.227830</td>\n",
       "      <td>-34.046677</td>\n",
       "      <td>1146.478882</td>\n",
       "      <td>92.849915</td>\n",
       "      <td>-8.019262</td>\n",
       "      <td>1106.482788</td>\n",
       "      <td>-62.918961</td>\n",
       "      <td>-0.400011</td>\n",
       "      <td>1112.033447</td>\n",
       "    </tr>\n",
       "    <tr>\n",
       "      <th>1343</th>\n",
       "      <td>21.709587</td>\n",
       "      <td>46.012608</td>\n",
       "      <td>1392.701294</td>\n",
       "      <td>172.212738</td>\n",
       "      <td>103.984528</td>\n",
       "      <td>1410.871216</td>\n",
       "      <td>-120.684578</td>\n",
       "      <td>108.238113</td>\n",
       "      <td>1418.401245</td>\n",
       "      <td>114.800217</td>\n",
       "      <td>...</td>\n",
       "      <td>1221.330933</td>\n",
       "      <td>13.227476</td>\n",
       "      <td>-34.047932</td>\n",
       "      <td>1146.479370</td>\n",
       "      <td>92.850082</td>\n",
       "      <td>-8.020615</td>\n",
       "      <td>1106.483398</td>\n",
       "      <td>-62.919506</td>\n",
       "      <td>-0.400992</td>\n",
       "      <td>1112.033691</td>\n",
       "    </tr>\n",
       "  </tbody>\n",
       "</table>\n",
       "<p>1344 rows × 24 columns</p>\n",
       "</div>"
      ],
      "text/plain": [
       "           mm.6       mm.7         mm.8       mm.12       mm.13        mm.14  \\\n",
       "0     37.456169  43.442940  1391.134155  187.941772  101.022385  1409.022217   \n",
       "1     37.447746  43.428123  1391.129028  187.932739  101.001129  1409.023071   \n",
       "2     37.436192  43.407715  1391.122192  187.920273  100.972290  1409.024292   \n",
       "3     37.421516  43.381760  1391.113770  187.904358  100.936157  1409.025757   \n",
       "4     37.403969  43.350712  1391.103760  187.885315  100.893623  1409.027832   \n",
       "...         ...        ...          ...         ...         ...          ...   \n",
       "1339  21.732576  46.049854  1392.696899  172.232254  104.020699  1410.857788   \n",
       "1340  21.720249  46.030117  1392.699097  172.221863  104.001320  1410.864868   \n",
       "1341  21.713167  46.018551  1392.700562  172.215820  103.990166  1410.869141   \n",
       "1342  21.710215  46.013653  1392.701172  172.213287  103.985519  1410.870850   \n",
       "1343  21.709587  46.012608  1392.701294  172.212738  103.984528  1410.871216   \n",
       "\n",
       "           mm.15       mm.16        mm.17       mm.18  ...        mm.23  \\\n",
       "0    -104.438118  105.529312  1419.012329  128.654831  ...  1219.265503   \n",
       "1    -104.443703  105.523132  1419.006226  128.646561  ...  1219.252319   \n",
       "2    -104.451866  105.513885  1418.998047  128.635010  ...  1219.234619   \n",
       "3    -104.462830  105.501183  1418.988037  128.620026  ...  1219.212158   \n",
       "4    -104.476746  105.484787  1418.976562  128.601730  ...  1219.185669   \n",
       "...          ...         ...          ...         ...  ...          ...   \n",
       "1339 -120.668114  108.256409  1418.401001  114.817039  ...  1221.327515   \n",
       "1340 -120.676918  108.246849  1418.401123  114.807938  ...  1221.329468   \n",
       "1341 -120.681984  108.241119  1418.401245  114.802795  ...  1221.330444   \n",
       "1342 -120.684128  108.238655  1418.401245  114.800659  ...  1221.330811   \n",
       "1343 -120.684578  108.238113  1418.401245  114.800217  ...  1221.330933   \n",
       "\n",
       "          mm.24      mm.25        mm.26       mm.27     mm.28        mm.29  \\\n",
       "0     26.529520 -32.100250  1142.538574  104.434242 -5.804446  1102.953613   \n",
       "1     26.523537 -32.092136  1142.527466  104.425392 -5.801078  1102.948730   \n",
       "2     26.515257 -32.081310  1142.512573  104.413223 -5.796293  1102.942383   \n",
       "3     26.504631 -32.067921  1142.493652  104.397774 -5.789944  1102.934692   \n",
       "4     26.491705 -32.052292  1142.471191  104.379196 -5.781878  1102.926270   \n",
       "...         ...        ...          ...         ...       ...          ...   \n",
       "1339  13.241052 -34.002808  1146.459595   92.845680 -7.972306  1106.456787   \n",
       "1340  13.233658 -34.026825  1146.470215   92.847748 -7.997967  1106.470947   \n",
       "1341  13.229522 -34.040791  1146.476318   92.849220 -8.012938  1106.479126   \n",
       "1342  13.227830 -34.046677  1146.478882   92.849915 -8.019262  1106.482788   \n",
       "1343  13.227476 -34.047932  1146.479370   92.850082 -8.020615  1106.483398   \n",
       "\n",
       "          mm.39     mm.40        mm.41  \n",
       "0    -48.108265  2.692609  1110.355713  \n",
       "1    -48.108398  2.705920  1110.348633  \n",
       "2    -48.108650  2.723659  1110.338623  \n",
       "3    -48.109077  2.745513  1110.325684  \n",
       "4    -48.109814  2.770850  1110.310547  \n",
       "...         ...       ...          ...  \n",
       "1339 -62.898724 -0.365181  1112.024170  \n",
       "1340 -62.910019 -0.384356  1112.029297  \n",
       "1341 -62.916359 -0.395396  1112.032349  \n",
       "1342 -62.918961 -0.400011  1112.033447  \n",
       "1343 -62.919506 -0.400992  1112.033691  \n",
       "\n",
       "[1344 rows x 24 columns]"
      ]
     },
     "execution_count": 66,
     "metadata": {},
     "output_type": "execute_result"
    }
   ],
   "source": [
    "import pandas as pd\n",
    "\n",
    "vicon_path = '/Users/knpob/Territory/2-Kolmo/4-Dataset/20211229-Running breast scanning/vicon/0kmh_8marker_bra.csv'\n",
    "df = pd.read_csv(vicon_path, skiprows=4).iloc[:, 2:].dropna(axis=1)\n",
    "df"
   ]
  },
  {
   "cell_type": "code",
   "execution_count": 75,
   "metadata": {},
   "outputs": [
    {
     "data": {
      "text/plain": [
       "array([[  37.456169,   43.44294 , 1391.134155],\n",
       "       [ 187.941772,  101.022385, 1409.022217],\n",
       "       [-104.438118,  105.529312, 1419.012329],\n",
       "       [ 128.654831,  -44.211311, 1212.407227],\n",
       "       [ -58.276783,  -39.306023, 1219.265503],\n",
       "       [  26.52952 ,  -32.10025 , 1142.538574],\n",
       "       [ 104.434242,   -5.804446, 1102.953613],\n",
       "       [ -48.108265,    2.692609, 1110.355713]])"
      ]
     },
     "execution_count": 75,
     "metadata": {},
     "output_type": "execute_result"
    }
   ],
   "source": [
    "frame = 0\n",
    "points_vicon = df.values[frame].reshape(-1, 3)\n",
    "points_vicon"
   ]
  },
  {
   "cell_type": "markdown",
   "metadata": {},
   "source": [
    "## Visualization"
   ]
  },
  {
   "cell_type": "code",
   "execution_count": 78,
   "metadata": {},
   "outputs": [
    {
     "data": {
      "application/vnd.jupyter.widget-view+json": {
       "model_id": "af2a34807c0b403da120f87314114891",
       "version_major": 2,
       "version_minor": 0
      },
      "text/plain": [
       "Widget(value=\"<iframe src='http://localhost:58075/index.html?ui=P_0x7fc60a719580_24&reconnect=auto' style='wid…"
      ]
     },
     "metadata": {},
     "output_type": "display_data"
    }
   ],
   "source": [
    "scene = pv.Plotter()\n",
    "scene.add_points(points_3dmd, point_size=10, color='yellow', render_points_as_spheres=True)\n",
    "scene.add_points(points_vicon, point_size=10, color='green', render_points_as_spheres=True)\n",
    "scene.add_mesh(mesh, texture=texture)\n",
    "scene.camera_position = 'xy'\n",
    "scene.show()"
   ]
  },
  {
   "cell_type": "markdown",
   "metadata": {},
   "source": [
    "# Registration"
   ]
  },
  {
   "cell_type": "markdown",
   "metadata": {},
   "source": [
    "## Pre-alignment"
   ]
  },
  {
   "cell_type": "code",
   "execution_count": 83,
   "metadata": {},
   "outputs": [],
   "source": [
    "from mesh4d import obj3d\n",
    "\n",
    "pcd_vicon = obj3d.np2pcd(points_vicon)\n",
    "r_pre = pcd_vicon.get_rotation_matrix_from_xyz((-np.pi/2, 0, 0))\n",
    "pcd_vicon.rotate(r_pre, center=(0, 0, 0))\n",
    "points_vicon_pre = obj3d.pcd2np(pcd_vicon)"
   ]
  },
  {
   "cell_type": "code",
   "execution_count": 84,
   "metadata": {},
   "outputs": [
    {
     "data": {
      "application/vnd.jupyter.widget-view+json": {
       "model_id": "c9b1ecc3acb34d508396c193ddd06ebd",
       "version_major": 2,
       "version_minor": 0
      },
      "text/plain": [
       "Widget(value=\"<iframe src='http://localhost:58075/index.html?ui=P_0x7fc60a719e50_25&reconnect=auto' style='wid…"
      ]
     },
     "metadata": {},
     "output_type": "display_data"
    }
   ],
   "source": [
    "scene = pv.Plotter()\n",
    "scene.add_points(points_3dmd, point_size=10, color='yellow', render_points_as_spheres=True)\n",
    "scene.add_points(points_vicon_pre, point_size=10, color='green', render_points_as_spheres=True)\n",
    "scene.add_mesh(mesh, texture=texture)\n",
    "scene.camera_position = 'xy'\n",
    "scene.show()"
   ]
  },
  {
   "cell_type": "markdown",
   "metadata": {},
   "source": [
    "## Refined registration with CPD"
   ]
  },
  {
   "cell_type": "code",
   "execution_count": 86,
   "metadata": {},
   "outputs": [],
   "source": [
    "from probreg import cpd\n",
    "tf, _, _ = cpd.registration_cpd(points_vicon_pre, points_3dmd, 'rigid')\n",
    "\n",
    "r_cab = tf.rot\n",
    "s = tf.scale\n",
    "t = tf.t\n",
    "\n",
    "# combine pre-alignment and registration\n",
    "r = np.matmul(r_cab, r_pre)\n",
    "\n",
    "points_vicon_cab = tf.transform(points_vicon_pre)"
   ]
  },
  {
   "cell_type": "code",
   "execution_count": 88,
   "metadata": {},
   "outputs": [
    {
     "data": {
      "application/vnd.jupyter.widget-view+json": {
       "model_id": "adb07e171567406e96c0ec0fd76aa6ff",
       "version_major": 2,
       "version_minor": 0
      },
      "text/plain": [
       "Widget(value=\"<iframe src='http://localhost:58075/index.html?ui=P_0x7fc64f0fffd0_27&reconnect=auto' style='wid…"
      ]
     },
     "metadata": {},
     "output_type": "display_data"
    }
   ],
   "source": [
    "scene = pv.Plotter()\n",
    "scene.add_points(points_3dmd, point_size=10, color='yellow', render_points_as_spheres=True)\n",
    "scene.add_points(points_vicon_cab, point_size=10, color='green', render_points_as_spheres=True)\n",
    "scene.add_mesh(mesh, texture=texture)\n",
    "scene.camera_position = 'xy'\n",
    "scene.show()"
   ]
  },
  {
   "cell_type": "markdown",
   "metadata": {},
   "source": [
    "# Save calibration parameters"
   ]
  },
  {
   "cell_type": "code",
   "execution_count": 91,
   "metadata": {},
   "outputs": [],
   "source": [
    "from mesh4d import field\n",
    "\n",
    "trans_cab = field.Trans_Rigid()\n",
    "trans_cab.rot = r\n",
    "trans_cab.scale = s\n",
    "trans_cab.t = t"
   ]
  },
  {
   "cell_type": "code",
   "execution_count": null,
   "metadata": {},
   "outputs": [],
   "source": [
    "from mesh4d import utils\n",
    "\n",
    "utils.save_pkl_object(trans_cab, export_folder='output', export_name='vicon>>3dmd')"
   ]
  },
  {
   "cell_type": "markdown",
   "metadata": {},
   "source": [
    "## Train set validation"
   ]
  },
  {
   "cell_type": "code",
   "execution_count": 93,
   "metadata": {},
   "outputs": [
    {
     "data": {
      "text/plain": [
       "array([[ 0.00000000e+00,  0.00000000e+00,  7.10542736e-15],\n",
       "       [ 0.00000000e+00,  0.00000000e+00,  0.00000000e+00],\n",
       "       [ 0.00000000e+00,  2.27373675e-13,  0.00000000e+00],\n",
       "       [ 0.00000000e+00,  0.00000000e+00,  0.00000000e+00],\n",
       "       [ 2.84217094e-14,  0.00000000e+00,  2.84217094e-14],\n",
       "       [ 0.00000000e+00,  0.00000000e+00,  0.00000000e+00],\n",
       "       [ 0.00000000e+00,  0.00000000e+00,  1.42108547e-14],\n",
       "       [-1.42108547e-14,  2.27373675e-13, -7.10542736e-15]])"
      ]
     },
     "execution_count": 93,
     "metadata": {},
     "output_type": "execute_result"
    }
   ],
   "source": [
    "trans_cab.shift_points(points_vicon) - points_vicon_cab"
   ]
  },
  {
   "cell_type": "markdown",
   "metadata": {},
   "source": [
    "## Test set validation"
   ]
  },
  {
   "cell_type": "code",
   "execution_count": null,
   "metadata": {},
   "outputs": [],
   "source": []
  }
 ],
 "metadata": {
  "kernelspec": {
   "display_name": "mesh4d",
   "language": "python",
   "name": "python3"
  },
  "language_info": {
   "codemirror_mode": {
    "name": "ipython",
    "version": 3
   },
   "file_extension": ".py",
   "mimetype": "text/x-python",
   "name": "python",
   "nbconvert_exporter": "python",
   "pygments_lexer": "ipython3",
   "version": "3.9.16"
  }
 },
 "nbformat": 4,
 "nbformat_minor": 2
}
