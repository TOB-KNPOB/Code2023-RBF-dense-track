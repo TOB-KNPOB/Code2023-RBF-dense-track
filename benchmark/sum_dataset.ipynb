{
 "cells": [
  {
   "cell_type": "code",
   "execution_count": null,
   "metadata": {},
   "outputs": [],
   "source": [
    "import os\n",
    "import pyvista as pv\n",
    "\n",
    "pv.set_jupyter_backend('static')\n",
    "os.environ['DISPLAY'] = ':99.0'\n",
    "os.environ['PYVISTA_OFF_SCREEM'] = 'true'"
   ]
  },
  {
   "cell_type": "code",
   "execution_count": null,
   "metadata": {},
   "outputs": [],
   "source": [
    "is_plot = True\n",
    "is_export = True\n",
    "\n",
    "mesh_path = '/mnt/d/knpob/4-data/20231110-DynaBreastLite/mesh/'\n",
    "landmark_path = '/mnt/d/knpob/4-data/20231110-DynaBreastLite/landmark/'\n",
    "\n",
    "start=0\n",
    "stride = 1\n",
    "end=120\n",
    "\n",
    "export_folder = \"output/dataset/\""
   ]
  },
  {
   "attachments": {},
   "cell_type": "markdown",
   "metadata": {},
   "source": [
    "# Data loading"
   ]
  },
  {
   "cell_type": "code",
   "execution_count": null,
   "metadata": {},
   "outputs": [],
   "source": [
    "from mesh4d import obj3d\n",
    "\n",
    "mesh_ls, _ = obj3d.load_mesh_series(\n",
    "    folder=mesh_path,\n",
    "    start=start,\n",
    "    stride=stride,\n",
    "    end=end,\n",
    "    load_texture=False\n",
    ")"
   ]
  },
  {
   "cell_type": "code",
   "execution_count": null,
   "metadata": {},
   "outputs": [],
   "source": [
    "import numpy as np\n",
    "from mesh4d import utils, kps\n",
    "\n",
    "vicon_arr = np.load(os.path.join(landmark_path, 'vicon_arr.npy'))\n",
    "vicon_start = utils.load_pkl_object(os.path.join(landmark_path, 'vicon_start.pkl'))\n",
    "vicon_cab = utils.load_pkl_object(os.path.join(landmark_path, 'vicon>>3dmd.pkl'))\n",
    "\n",
    "landmarks = kps.MarkerSet()\n",
    "landmarks.load_from_array(vicon_arr, start_time=vicon_start, fps=100, trans_cab=vicon_cab)\n",
    "landmarks.interp_field()"
   ]
  },
  {
   "cell_type": "code",
   "execution_count": null,
   "metadata": {},
   "outputs": [],
   "source": [
    "from mesh4d.analyse.crave import clip_with_contour\n",
    "\n",
    "contour = landmarks.extract((0, 1, 10, 17, 25, 26))\n",
    "mesh_clip_ls = clip_with_contour(mesh_ls, start_time=0, fps=120/stride, contour=contour, clip_bound='xy', margin=30)"
   ]
  },
  {
   "cell_type": "code",
   "execution_count": null,
   "metadata": {},
   "outputs": [],
   "source": [
    "body_ls = obj3d.init_obj_series(\n",
    "    mesh_ls,\n",
    "    obj_type=obj3d.Obj3d_Deform\n",
    "    )"
   ]
  },
  {
   "cell_type": "code",
   "execution_count": null,
   "metadata": {},
   "outputs": [],
   "source": [
    "breast_ls = obj3d.init_obj_series(\n",
    "    mesh_clip_ls, \n",
    "    obj_type=obj3d.Obj3d_Deform\n",
    "    )"
   ]
  },
  {
   "cell_type": "code",
   "execution_count": null,
   "metadata": {},
   "outputs": [],
   "source": [
    "from mesh4d import obj4d\n",
    "\n",
    "body4d = obj4d.Obj4d_Deform(\n",
    "    fps=120 / stride,\n",
    "    enable_rigid=False,\n",
    "    enable_nonrigid=False,\n",
    ")\n",
    "body4d.add_obj(*body_ls)\n",
    "body4d.load_markerset('landmarks', landmarks)"
   ]
  },
  {
   "cell_type": "code",
   "execution_count": null,
   "metadata": {},
   "outputs": [],
   "source": [
    "from mesh4d import obj4d\n",
    "\n",
    "breast4d = obj4d.Obj4d_Deform(\n",
    "    fps=120 / stride,\n",
    "    enable_rigid=False,\n",
    "    enable_nonrigid=False,\n",
    ")\n",
    "breast4d.add_obj(*breast_ls)\n",
    "breast4d.load_markerset('landmarks', landmarks)"
   ]
  },
  {
   "attachments": {},
   "cell_type": "markdown",
   "metadata": {},
   "source": [
    "# Data visualisation"
   ]
  },
  {
   "cell_type": "markdown",
   "metadata": {},
   "source": [
    "## 4D body"
   ]
  },
  {
   "cell_type": "code",
   "execution_count": null,
   "metadata": {},
   "outputs": [],
   "source": [
    "import os\n",
    "\n",
    "if is_export:\n",
    "    body4d.animate(export_folder=os.path.join(export_folder, 'body'), filename='raw', elements='mp')"
   ]
  },
  {
   "cell_type": "code",
   "execution_count": null,
   "metadata": {},
   "outputs": [],
   "source": [
    "if is_export:\n",
    "    body4d.animate(export_folder=os.path.join(export_folder, 'body'), filename='kps')"
   ]
  },
  {
   "cell_type": "code",
   "execution_count": null,
   "metadata": {},
   "outputs": [],
   "source": [
    "if is_plot:\n",
    "    body4d.show(elements='m', window_size=[2000, 500], zoom_rate=5, skip=round(len(body_ls) / 10), m_props={'opacity': 0.5}, is_export=is_export, export_folder=os.path.join(export_folder, 'body'), export_name='raw_stack')"
   ]
  },
  {
   "cell_type": "code",
   "execution_count": null,
   "metadata": {},
   "outputs": [],
   "source": [
    "if is_plot:\n",
    "    body4d.show(elements='mk', window_size=[2000, 500], zoom_rate=5, skip=round(len(body_ls) / 10), m_props={'opacity': 0.5}, is_export=is_export, export_folder=os.path.join(export_folder, 'body'), export_name='kps_stack')"
   ]
  },
  {
   "cell_type": "markdown",
   "metadata": {},
   "source": [
    "## 4D breast"
   ]
  },
  {
   "cell_type": "code",
   "execution_count": null,
   "metadata": {},
   "outputs": [],
   "source": [
    "if is_export:\n",
    "    breast4d.animate(export_folder=os.path.join(export_folder, 'breast'), filename='raw', elements='mp')"
   ]
  },
  {
   "cell_type": "code",
   "execution_count": null,
   "metadata": {},
   "outputs": [],
   "source": [
    "if is_export:\n",
    "    breast4d.animate(export_folder=os.path.join(export_folder, 'breast'), filename='kps')"
   ]
  },
  {
   "cell_type": "code",
   "execution_count": null,
   "metadata": {},
   "outputs": [],
   "source": [
    "import mesh4d\n",
    "\n",
    "if is_plot:\n",
    "    import pyvista as pv\n",
    "\n",
    "    stack_dist = 1000\n",
    "    zoom_rate = 5\n",
    "    window_size = [2000, 500]\n",
    "    \n",
    "    scene = pv.Plotter()\n",
    "    plot_num = len(body4d.obj_ls)\n",
    "    skip = round(len(body_ls) / 10)\n",
    "\n",
    "    for idx in range(0, plot_num, skip):\n",
    "        body = body4d.obj_ls[idx]\n",
    "        breast = breast4d.obj_ls[idx]\n",
    "        width = body.get_width()\n",
    "\n",
    "        body.add_mesh_to_scene(scene, location=[0, 0, idx * stack_dist / skip], opacity=0.1)\n",
    "        breast.add_mesh_to_scene(scene, location=[0, 0, idx * stack_dist / skip])\n",
    "        breast.add_kps_to_scene(scene, location=[0, 0, idx * stack_dist / skip], radius=0.02*width)\n",
    "        \n",
    "    scene.camera_position = 'zy'\n",
    "    scene.camera.azimuth = 45\n",
    "    scene.camera.zoom(zoom_rate)\n",
    "    scene.window_size = window_size\n",
    "    scene.enable_parallel_projection()\n",
    "    scene.show(interactive_update=True)\n",
    "\n",
    "    if is_export:\n",
    "        export_path = os.path.join(export_folder, 'breast', 'crop_stack.png')\n",
    "        scene.update()\n",
    "        scene.screenshot(export_path)\n",
    "        \n",
    "        if mesh4d.output_msg:\n",
    "            print(\"export image: {}\".format(export_path))"
   ]
  },
  {
   "cell_type": "markdown",
   "metadata": {},
   "source": [
    "## 4D landmarks"
   ]
  },
  {
   "cell_type": "code",
   "execution_count": null,
   "metadata": {},
   "outputs": [],
   "source": [
    "landmarks_full = landmarks.reslice(120, start_time=0, end_time=1)\n",
    "landmarks_full.interp_field()\n",
    "\n",
    "array_full, marker_names = landmarks_full.to_array()\n",
    "frame_num = len(array_full)\n",
    "frame_num"
   ]
  },
  {
   "cell_type": "code",
   "execution_count": null,
   "metadata": {},
   "outputs": [],
   "source": [
    "regions = {\n",
    "    'clavicle': [(0, 1, 27), 'goldenrod'],\n",
    "    'right breast': [(2, 3, 6, 7, 10, 11, 29, 12, 13, 19), 'olive'],\n",
    "    'left breast': [(4, 5, 8, 9, 14, 15, 28, 16, 17, 23), 'teal'],\n",
    "    'rib cage bottom': [(18, 25, 20, 21, 22, 26, 24), 'lightcoral'],\n",
    "}"
   ]
  },
  {
   "cell_type": "code",
   "execution_count": null,
   "metadata": {},
   "outputs": [],
   "source": [
    "from matplotlib.lines import Line2D\n",
    "\n",
    "region_handles = []\n",
    "\n",
    "for region, [ids, color] in regions.items():\n",
    "    region_handles.append(Line2D([0], [0], color=color, lw=4, label=region))"
   ]
  },
  {
   "cell_type": "code",
   "execution_count": null,
   "metadata": {},
   "outputs": [],
   "source": [
    "if is_export:\n",
    "    breast4d.animate(export_folder=os.path.join(export_folder, 'landmark'), filename='kps', elements='k')"
   ]
  },
  {
   "cell_type": "code",
   "execution_count": null,
   "metadata": {},
   "outputs": [],
   "source": [
    "if is_plot:\n",
    "    scene = pv.Plotter()\n",
    "\n",
    "    # body mesh\n",
    "    scene.add_mesh(mesh_ls[0], show_edges=True, opacity=1)\n",
    "\n",
    "    # landmark and index\n",
    "    for region, [ids, color] in regions.items():\n",
    "        scene.add_point_labels(\n",
    "            points=array_full[0, ids], labels=ids,\n",
    "            point_size=30, render_points_as_spheres=True, point_color='goldenrod',\n",
    "            font_size=20, bold=False, font_family='courier', always_visible=True, text_color='white',\n",
    "            fill_shape=True, shape_opacity=0.5,\n",
    "            )\n",
    "    \n",
    "    # adjust camera settings\n",
    "    def level_up(pos, h):\n",
    "        pos_ls = list(pos)\n",
    "        pos_ls[1] = pos_ls[1] + h\n",
    "        return tuple(pos_ls)\n",
    "\n",
    "    scene.camera_position = 'xy'\n",
    "    scene.camera.position = level_up(scene.camera.position, 450)\n",
    "    scene.camera.focal_point = level_up(scene.camera.focal_point, 450)\n",
    "    scene.camera.elevation = 15\n",
    "    scene.camera.zoom(4.5)\n",
    "\n",
    "    if is_export:\n",
    "        export_path = os.path.join(export_folder, 'landmark', 'id.png')\n",
    "        scene.show(screenshot=export_path)\n",
    "\n",
    "        if mesh4d.output_msg:\n",
    "            print(\"export image: {}\".format(export_path))\n",
    "    else:\n",
    "        scene.show()"
   ]
  },
  {
   "cell_type": "code",
   "execution_count": null,
   "metadata": {},
   "outputs": [],
   "source": [
    "if is_plot:\n",
    "    scene = pv.Plotter()\n",
    "\n",
    "    # body mesh\n",
    "    scene.add_mesh(mesh_ls[0], show_edges=True, opacity=1)\n",
    "\n",
    "    # landmark and index\n",
    "    for region, [ids, color] in regions.items():\n",
    "        scene.add_point_labels(\n",
    "            points=array_full[0, ids], labels=ids,\n",
    "            point_size=30, render_points_as_spheres=True, point_color=color,\n",
    "            font_size=20, bold=False, font_family='courier', always_visible=True, text_color='white',\n",
    "            fill_shape=True, shape_opacity=0.5,\n",
    "            )\n",
    "\n",
    "    scene.camera_position = 'xy'\n",
    "    scene.camera.position = level_up(scene.camera.position, 450)\n",
    "    scene.camera.focal_point = level_up(scene.camera.focal_point, 450)\n",
    "    scene.camera.elevation = 15\n",
    "    scene.camera.zoom(4.5)\n",
    "\n",
    "    if is_export:\n",
    "        export_path = os.path.join(export_folder, 'landmark', 'id_region.png')\n",
    "        scene.show(screenshot=export_path)\n",
    "\n",
    "        if mesh4d.output_msg:\n",
    "            print(\"export image: {}\".format(export_path))\n",
    "    else:\n",
    "        scene.show()"
   ]
  },
  {
   "cell_type": "code",
   "execution_count": null,
   "metadata": {},
   "outputs": [],
   "source": [
    "if is_plot:\n",
    "    scene = pv.Plotter()\n",
    "    body_ls[0].add_mesh_to_scene(scene, opacity=1)\n",
    "\n",
    "    for region, [ids, color] in regions.items():\n",
    "        for id in ids:\n",
    "            landmarks_full.markers[id].add_to_scene(scene, trace_width=5, color='goldenrod')\n",
    "\n",
    "    scene.camera_position = 'xy'\n",
    "    scene.camera.position = level_up(scene.camera.position, 450)\n",
    "    scene.camera.focal_point = level_up(scene.camera.focal_point, 450)\n",
    "    scene.camera.elevation = 15\n",
    "    scene.camera.zoom(4.5)\n",
    "\n",
    "    if is_export:\n",
    "        export_path = os.path.join(export_folder, 'landmark', 'trace.png')\n",
    "        scene.show(screenshot=export_path)\n",
    "\n",
    "        if mesh4d.output_msg:\n",
    "            print(\"export image: {}\".format(export_path))\n",
    "    else:\n",
    "        scene.show()"
   ]
  },
  {
   "cell_type": "code",
   "execution_count": null,
   "metadata": {},
   "outputs": [],
   "source": [
    "if is_plot:\n",
    "    scene = pv.Plotter()\n",
    "    breast_ls[0].add_mesh_to_scene(scene, opacity=0.1)\n",
    "\n",
    "    for region, [ids, color] in regions.items():\n",
    "        for id in ids:\n",
    "            landmarks_full.markers[id].add_to_scene(scene, trace_width=5, color=color)\n",
    "\n",
    "    scene.camera_position = 'xy'\n",
    "\n",
    "    if is_export:\n",
    "        export_path = os.path.join(export_folder, 'landmark', 'trace_region.png')\n",
    "        scene.show(screenshot=export_path)\n",
    "\n",
    "        if mesh4d.output_msg:\n",
    "            print(\"export image: {}\".format(export_path))\n",
    "    else:\n",
    "        scene.show()"
   ]
  },
  {
   "cell_type": "markdown",
   "metadata": {},
   "source": [
    "# Statistics"
   ]
  },
  {
   "cell_type": "markdown",
   "metadata": {},
   "source": [
    "## Collect data"
   ]
  },
  {
   "cell_type": "code",
   "execution_count": null,
   "metadata": {},
   "outputs": [],
   "source": [
    "import pandas as pd\n",
    "\n",
    "# init data frame\n",
    "df = pd.DataFrame(columns=['Marker', 'Axis'] + list(n for n in range(frame_num)))\n",
    "\n",
    "row = 0\n",
    "\n",
    "for name, marker in landmarks_full.markers.items():\n",
    "    for axis, sym in ((0, 'x'), (1, 'y'), (2, 'z')):\n",
    "        marker_id = name\n",
    "        row_data = [marker_id, sym, *marker.coord[axis] / 10]\n",
    "        df.loc[row] = row_data\n",
    "        row = row + 1\n",
    "\n",
    "df.set_index([\"Marker\", \"Axis\"], inplace=True)\n",
    "df.sort_index(inplace=True)\n",
    "df.head()"
   ]
  },
  {
   "cell_type": "code",
   "execution_count": null,
   "metadata": {},
   "outputs": [],
   "source": [
    "df_styler = (df.T.describe().T.loc[:, \"mean\":]).style\n",
    "df_styler.format(\n",
    "    precision=2,\n",
    "    na_rep='--',\n",
    "    )\n",
    "df_styler"
   ]
  },
  {
   "cell_type": "code",
   "execution_count": null,
   "metadata": {},
   "outputs": [],
   "source": [
    "print(df_styler.to_latex(\n",
    "    position='h',\n",
    "    position_float='centering',\n",
    "    hrules=True,\n",
    "))"
   ]
  },
  {
   "cell_type": "markdown",
   "metadata": {},
   "source": [
    "## Landmark trajectories"
   ]
  },
  {
   "cell_type": "code",
   "execution_count": null,
   "metadata": {},
   "outputs": [],
   "source": [
    "import matplotlib.pyplot as plt\n",
    "plt.rcParams['figure.dpi'] = 600\n",
    "\n",
    "axis_ls = ('x', 'y', 'z')"
   ]
  },
  {
   "cell_type": "markdown",
   "metadata": {},
   "source": [
    "### Overall distribution"
   ]
  },
  {
   "cell_type": "code",
   "execution_count": null,
   "metadata": {},
   "outputs": [],
   "source": [
    "if is_plot:\n",
    "    data = []\n",
    "    labels = []\n",
    "\n",
    "    for axis in axis_ls:\n",
    "        data.append(df.loc[(slice(None), axis), :].to_numpy().reshape((-1,)))\n",
    "        labels.append(f'{axis}-axis')\n",
    "\n",
    "    bplot = plt.boxplot(\n",
    "        x=data, labels=labels,\n",
    "        patch_artist=True, showmeans=True, meanline=True, sym='',\n",
    "        medianprops=dict(color='black'), meanprops=dict(color='black'),\n",
    "        boxprops={'facecolor': 'cadetblue'},\n",
    "        )\n",
    "\n",
    "    plt.ylabel('Coordinates (cm)')\n",
    "\n",
    "    if is_export:\n",
    "        plt.savefig(os.path.join(export_folder, 'trace_coord', 'axis.png'))"
   ]
  },
  {
   "cell_type": "code",
   "execution_count": null,
   "metadata": {},
   "outputs": [],
   "source": [
    "if is_plot:\n",
    "    num = 0\n",
    "\n",
    "    for axis in axis_ls:\n",
    "        num = num + 1\n",
    "        ax = plt.subplot(310 + num)\n",
    "\n",
    "        for region, [ids, color] in regions.items():\n",
    "            df.loc[(ids, axis), :].T.plot(ax=ax, legend=False, color=color)\n",
    "\n",
    "        plt.title(f'{axis}-axis', fontsize=7)\n",
    "\n",
    "        if num == 1:\n",
    "            plt.legend(handles=region_handles, loc='lower center', bbox_to_anchor=(0.5, 1.15), ncol=4)\n",
    "        if num == round(len(axis_ls)/2):\n",
    "            plt.ylabel('Coordinates (cm)')\n",
    "        if num < len(axis_ls):\n",
    "            plt.tick_params('x', labelbottom=False)\n",
    "        else:\n",
    "            plt.xlabel('Frame ID')\n",
    "\n",
    "    if is_export:\n",
    "        plt.savefig(os.path.join(export_folder, 'trace_coord', f'curve.png'), bbox_inches='tight')\n",
    "\n",
    "    plt.show()"
   ]
  },
  {
   "cell_type": "markdown",
   "metadata": {},
   "source": [
    "### Regional anslysis"
   ]
  },
  {
   "cell_type": "code",
   "execution_count": null,
   "metadata": {},
   "outputs": [],
   "source": [
    "if is_plot:\n",
    "    num = 0\n",
    "\n",
    "    for region, [ids, color] in regions.items():\n",
    "        num = num + 1\n",
    "        ax = plt.subplot(410 + num)\n",
    "        df.loc[(ids, axis), :].T.plot(ax=ax, legend=False, color=color)\n",
    "\n",
    "        plt.title(f'{region}: {axis}-axis', fontsize=7, pad=3)\n",
    "\n",
    "        if num == 1:\n",
    "            plt.legend(handles=region_handles, loc='lower center', bbox_to_anchor=(0.5, 1.15), ncol=4)\n",
    "        if num == round(len(regions)/2):\n",
    "            plt.ylabel('Coordinates (cm)')\n",
    "        if num < len(regions):\n",
    "            plt.tick_params('x', labelbottom=False)\n",
    "        else:\n",
    "            plt.xlabel('Frame ID')\n",
    "\n",
    "    if is_export:\n",
    "        plt.savefig(os.path.join(export_folder, 'trace_coord', f'curve_region.png'), bbox_inches='tight')\n",
    "\n",
    "    plt.show()"
   ]
  },
  {
   "cell_type": "markdown",
   "metadata": {},
   "source": [
    "## Landmark displacement"
   ]
  },
  {
   "cell_type": "code",
   "execution_count": null,
   "metadata": {},
   "outputs": [],
   "source": [
    "from mesh4d.analyse import measure\n",
    "\n",
    "trace_dict, starts, traces = measure.markerset_trace_length(landmarks_full)"
   ]
  },
  {
   "cell_type": "code",
   "execution_count": null,
   "metadata": {},
   "outputs": [],
   "source": [
    "import numpy as np\n",
    "print(f'longest: marker {np.argmax(traces)}')\n",
    "print(f'shortest: marker {np.argmin(traces)}')\n",
    "print(f'ratio: {np.max(traces) / np.min(traces) * 100:.1f}%')"
   ]
  },
  {
   "cell_type": "markdown",
   "metadata": {},
   "source": [
    "### Regional analysis"
   ]
  },
  {
   "cell_type": "code",
   "execution_count": null,
   "metadata": {},
   "outputs": [],
   "source": [
    "plt.xticks(fontsize=8)\n",
    "\n",
    "if is_plot:\n",
    "    for region, [ids, color] in regions.items():\n",
    "        for id in ids:\n",
    "            plt.bar(str(id), traces[id] / 10, color=color)\n",
    "\n",
    "    plt.xlabel('Marker ID')\n",
    "    plt.ylabel('Trajectory Length (cm)')\n",
    "    plt.legend(handles=region_handles, loc='lower center', bbox_to_anchor=(0.5, 1.0), ncol=4)\n",
    "\n",
    "    if is_export:\n",
    "        plt.savefig(os.path.join(export_folder, 'trace_disp', f'region.png'), bbox_inches='tight')\n",
    "\n",
    "    plt.show()"
   ]
  },
  {
   "cell_type": "code",
   "execution_count": null,
   "metadata": {},
   "outputs": [],
   "source": [
    "if is_plot:\n",
    "    for region, [ids, color] in regions.items():\n",
    "        for id in ids:\n",
    "            marker = trace_dict[id]\n",
    "            acc_length = [\n",
    "                marker['dist'][:n].sum() / 10\n",
    "                for n in range(len(marker['dist']))\n",
    "                ]\n",
    "            plt.plot(acc_length, color=color)\n",
    "\n",
    "    plt.xlabel('Frame ID')\n",
    "    plt.ylabel('Accumulated Trajectory Length (cm)')\n",
    "    plt.legend(handles=region_handles, loc='lower center', bbox_to_anchor=(0.5, 1.0), ncol=4)\n",
    "\n",
    "    if is_export:\n",
    "        plt.savefig(os.path.join(export_folder, 'trace_disp', f'curve.png'), bbox_inches='tight')\n",
    "\n",
    "    plt.show()"
   ]
  },
  {
   "cell_type": "markdown",
   "metadata": {},
   "source": [
    "### Dynamic surface analysis"
   ]
  },
  {
   "cell_type": "code",
   "execution_count": null,
   "metadata": {},
   "outputs": [],
   "source": [
    "if is_plot:\n",
    "    from mesh4d.analyse import visual\n",
    "\n",
    "    visual.show_mesh_value_mask(\n",
    "        breast_ls[0].mesh, starts, traces,\n",
    "        k_nbr=20,\n",
    "        is_export=is_export, export_folder=os.path.join(export_folder, 'trace_disp'), export_name='surface',\n",
    "        show_edges=True, scalar_bar_args={'title': \"tragcctory lenght (mm)\"})"
   ]
  },
  {
   "cell_type": "code",
   "execution_count": null,
   "metadata": {},
   "outputs": [],
   "source": [
    "def project_to_axis(array: np.array, axis: int = 0):\n",
    "    array_copy = array.copy()\n",
    "    axis_num = array_copy.shape[2]\n",
    "\n",
    "    for ax in range(axis_num):\n",
    "        if ax != axis:\n",
    "            array_copy[:, :, ax] = 0\n",
    "\n",
    "    return array_copy"
   ]
  },
  {
   "cell_type": "code",
   "execution_count": null,
   "metadata": {},
   "outputs": [],
   "source": [
    "from mesh4d import kps\n",
    "\n",
    "if is_plot:\n",
    "    for axis, sym in ((0, 'x'), (1, 'y'), (2, 'z')):\n",
    "        array_axis = project_to_axis(array_full, axis=axis)\n",
    "        landmarks_axis = kps.MarkerSet()\n",
    "        landmarks_axis.load_from_array(array_axis)\n",
    "        _, _, traces = measure.markerset_trace_length(landmarks_axis)\n",
    "\n",
    "        if is_plot:\n",
    "            from mesh4d.analyse import visual\n",
    "\n",
    "            visual.show_mesh_value_mask(\n",
    "                breast_ls[0].mesh, starts, traces,\n",
    "                k_nbr=20,\n",
    "                is_export=is_export, export_folder=os.path.join(export_folder, 'trace_disp'), export_name=f'surface_{sym}',\n",
    "                show_edges=True, scalar_bar_args={'title': f\"tragcctory lenght projected to {sym}-axis (mm)\"})"
   ]
  },
  {
   "cell_type": "code",
   "execution_count": null,
   "metadata": {},
   "outputs": [],
   "source": []
  }
 ],
 "metadata": {
  "kernelspec": {
   "display_name": "Python 3.8.8 ('base')",
   "language": "python",
   "name": "python3"
  },
  "language_info": {
   "codemirror_mode": {
    "name": "ipython",
    "version": 3
   },
   "file_extension": ".py",
   "mimetype": "text/x-python",
   "name": "python",
   "nbconvert_exporter": "python",
   "pygments_lexer": "ipython3",
   "version": "3.10.13"
  },
  "vscode": {
   "interpreter": {
    "hash": "8c8ccae62b03e03f602162ec2d3ff7715f4331cfb18cae8be1463dcdd08d9f0b"
   }
  }
 },
 "nbformat": 4,
 "nbformat_minor": 2
}
