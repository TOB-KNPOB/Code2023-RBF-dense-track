{
 "cells": [
  {
   "cell_type": "markdown",
   "metadata": {},
   "source": [
    "# Settings"
   ]
  },
  {
   "cell_type": "code",
   "execution_count": null,
   "metadata": {},
   "outputs": [],
   "source": [
    "is_plot = True\n",
    "is_export = True\n",
    "\n",
    "landmarks_path = '/Users/knpob/Territory/2-Kolmo/4-Dataset/20230715-DynaBreastLite/landmark/landmark.pkl'\n",
    "meshes_path = '/Users/knpob/Territory/2-Kolmo/4-Dataset/20230715-DynaBreastLite/mesh/'\n",
    "\n",
    "start=0\n",
    "stride = 1\n",
    "end=120\n",
    "\n",
    "export_folder = \"../output/dataset/\""
   ]
  },
  {
   "attachments": {},
   "cell_type": "markdown",
   "metadata": {},
   "source": [
    "# Data loading"
   ]
  },
  {
   "cell_type": "code",
   "execution_count": null,
   "metadata": {},
   "outputs": [],
   "source": [
    "from mesh4d import obj3d\n",
    "\n",
    "mesh_ls, texture_ls = obj3d.load_mesh_series(\n",
    "    folder=meshes_path,\n",
    "    start=start,\n",
    "    stride=stride,\n",
    "    end=end,\n",
    ")"
   ]
  },
  {
   "cell_type": "code",
   "execution_count": null,
   "metadata": {},
   "outputs": [],
   "source": [
    "from mesh4d import utils\n",
    "\n",
    "landmarks = utils.load_pkl_object(landmarks_path)"
   ]
  },
  {
   "cell_type": "code",
   "execution_count": null,
   "metadata": {},
   "outputs": [],
   "source": [
    "from mesh4d.analyse.crave import clip_with_contour\n",
    "\n",
    "contour = landmarks.extract(('marker 0', 'marker 2', 'marker 3', 'marker 14', 'marker 15', 'marker 17'))\n",
    "mesh_clip_ls = clip_with_contour(mesh_ls, start_time=0, fps=120/stride, contour=contour, clip_bound='xy', margin=30)"
   ]
  },
  {
   "cell_type": "code",
   "execution_count": null,
   "metadata": {},
   "outputs": [],
   "source": [
    "body_ls = obj3d.init_obj_series(\n",
    "    mesh_ls,\n",
    "    obj_type=obj3d.Obj3d_Deform\n",
    "    )"
   ]
  },
  {
   "cell_type": "code",
   "execution_count": null,
   "metadata": {},
   "outputs": [],
   "source": [
    "breast_ls = obj3d.init_obj_series(\n",
    "    mesh_clip_ls, \n",
    "    obj_type=obj3d.Obj3d_Deform\n",
    "    )"
   ]
  },
  {
   "cell_type": "code",
   "execution_count": null,
   "metadata": {},
   "outputs": [],
   "source": [
    "from mesh4d import obj4d\n",
    "\n",
    "body4d = obj4d.Obj4d_Deform(\n",
    "    fps=120 / stride,\n",
    "    enable_rigid=False,\n",
    "    enable_nonrigid=False,\n",
    ")\n",
    "body4d.add_obj(*body_ls)\n",
    "body4d.load_markerset('landmarks', landmarks)"
   ]
  },
  {
   "cell_type": "code",
   "execution_count": null,
   "metadata": {},
   "outputs": [],
   "source": [
    "from mesh4d import obj4d\n",
    "\n",
    "breast4d = obj4d.Obj4d_Deform(\n",
    "    fps=120 / stride,\n",
    "    enable_rigid=False,\n",
    "    enable_nonrigid=False,\n",
    ")\n",
    "breast4d.add_obj(*breast_ls)\n",
    "breast4d.load_markerset('landmarks', landmarks)"
   ]
  },
  {
   "attachments": {},
   "cell_type": "markdown",
   "metadata": {},
   "source": [
    "# Data visualisation"
   ]
  },
  {
   "cell_type": "markdown",
   "metadata": {},
   "source": [
    "## 4D body"
   ]
  },
  {
   "cell_type": "code",
   "execution_count": null,
   "metadata": {},
   "outputs": [],
   "source": [
    "if is_export:\n",
    "    body4d.animate(output_folder=export_folder, filename='body4d', elements='m')"
   ]
  },
  {
   "cell_type": "code",
   "execution_count": null,
   "metadata": {},
   "outputs": [],
   "source": [
    "if is_export:\n",
    "    body4d.animate(output_folder=export_folder, filename='body4d_kps')"
   ]
  },
  {
   "cell_type": "code",
   "execution_count": null,
   "metadata": {},
   "outputs": [],
   "source": [
    "if is_plot:\n",
    "    body4d.show(elements='m', window_size=[2000, 500], zoom_rate=5, skip=round(len(body_ls) / 10), m_props={'opacity': 0.5}, is_save=is_export, export_folder=export_folder, export_name='body4d_stack')"
   ]
  },
  {
   "cell_type": "code",
   "execution_count": null,
   "metadata": {},
   "outputs": [],
   "source": [
    "if is_plot:\n",
    "    body4d.show(elements='mk', window_size=[2000, 500], zoom_rate=5, skip=round(len(body_ls) / 10), m_props={'opacity': 0.5}, is_save=is_export, export_folder=export_folder, export_name='body4d_kps_stack')"
   ]
  },
  {
   "cell_type": "markdown",
   "metadata": {},
   "source": [
    "## 4D breast"
   ]
  },
  {
   "cell_type": "code",
   "execution_count": null,
   "metadata": {},
   "outputs": [],
   "source": [
    "if is_export:\n",
    "    breast4d.animate(output_folder=export_folder, filename='breast4d', elements='m')"
   ]
  },
  {
   "cell_type": "code",
   "execution_count": null,
   "metadata": {},
   "outputs": [],
   "source": [
    "if is_export:\n",
    "    breast4d.animate(output_folder=export_folder, filename='breast4d_kps')"
   ]
  },
  {
   "cell_type": "code",
   "execution_count": null,
   "metadata": {},
   "outputs": [],
   "source": [
    "import os\n",
    "import mesh4d\n",
    "\n",
    "if is_plot:\n",
    "    import pyvista as pv\n",
    "\n",
    "    stack_dist = 1000\n",
    "    zoom_rate = 5\n",
    "    window_size = [2000, 500]\n",
    "    \n",
    "    scene = pv.Plotter()\n",
    "    plot_num = len(body4d.obj_ls)\n",
    "    skip = round(len(body_ls) / 10)\n",
    "\n",
    "    for idx in range(0, plot_num, skip):\n",
    "        body = body4d.obj_ls[idx]\n",
    "        breast = breast4d.obj_ls[idx]\n",
    "        width = body.get_width()\n",
    "\n",
    "        body.add_mesh_to_scene(scene, location=[0, 0, idx * stack_dist / skip], opacity=0.1)\n",
    "        breast.add_mesh_to_scene(scene, location=[0, 0, idx * stack_dist / skip])\n",
    "        breast.add_kps_to_scene(scene, location=[0, 0, idx * stack_dist / skip], radius=0.02*width)\n",
    "        \n",
    "    scene.camera_position = 'zy'\n",
    "    scene.camera.azimuth = 45\n",
    "    scene.camera.zoom(zoom_rate)\n",
    "    scene.window_size = window_size\n",
    "    scene.enable_parallel_projection()\n",
    "    scene.show(interactive_update=True)\n",
    "\n",
    "    if is_export:\n",
    "        export_path = os.path.join(export_folder, 'breast_crop_stack.png')\n",
    "        scene.update()\n",
    "        scene.screenshot(export_path)\n",
    "        \n",
    "        if mesh4d.output_msg:\n",
    "            print(\"export image: {}\".format(export_path))\n",
    "\n"
   ]
  },
  {
   "cell_type": "code",
   "execution_count": null,
   "metadata": {},
   "outputs": [],
   "source": [
    "if is_plot:\n",
    "    scene = pv.Plotter()\n",
    "    landmarks.add_to_scene(scene, trace_width=5)\n",
    "    breast_ls[0].add_mesh_to_scene(scene, opacity=0.1)\n",
    "    scene.camera_position = 'xy'\n",
    "\n",
    "    if is_export:\n",
    "        export_path = os.path.join(export_folder, 'stats', 'landmark_trace.png')\n",
    "        scene.show(screenshot=export_path)\n",
    "\n",
    "        if mesh4d.output_msg:\n",
    "            print(\"export image: {}\".format(export_path))\n",
    "    else:\n",
    "        scene.show()"
   ]
  },
  {
   "cell_type": "markdown",
   "metadata": {},
   "source": [
    "# Statistics"
   ]
  },
  {
   "cell_type": "markdown",
   "metadata": {},
   "source": [
    "## Collect data"
   ]
  },
  {
   "cell_type": "code",
   "execution_count": null,
   "metadata": {},
   "outputs": [],
   "source": [
    "landmarks_full = landmarks.reslice(120)\n",
    "frame_num = len(landmarks_full.to_array()[0])\n",
    "frame_num"
   ]
  },
  {
   "cell_type": "code",
   "execution_count": null,
   "metadata": {},
   "outputs": [],
   "source": [
    "import pandas as pd\n",
    "\n",
    "# init data frame\n",
    "df = pd.DataFrame(columns=['Marker', 'Axis'] + list(n for n in range(frame_num)))\n",
    "\n",
    "row = 0\n",
    "\n",
    "for name, marker in landmarks_full.markers.items():\n",
    "    for axis, sym in ((0, 'x'), (1, 'y'), (2, 'z')):\n",
    "        marker_id = int(name.split(' ')[1])\n",
    "        row_data = [marker_id, sym, *marker.coord[axis] / 10]\n",
    "        df.loc[row] = row_data\n",
    "        row = row + 1\n",
    "\n",
    "df.set_index([\"Marker\", \"Axis\"], inplace=True)\n",
    "df.sort_index(inplace=True)\n",
    "df.head()"
   ]
  },
  {
   "cell_type": "code",
   "execution_count": null,
   "metadata": {},
   "outputs": [],
   "source": [
    "df.T.describe().T.loc[:, \"mean\":]"
   ]
  },
  {
   "cell_type": "code",
   "execution_count": null,
   "metadata": {},
   "outputs": [],
   "source": [
    "df_styler = (df.T.describe().T.loc[:, \"mean\":]).style\n",
    "df_styler.format(\n",
    "    precision=2, \n",
    "    na_rep='--',\n",
    "    )\n",
    "df_styler"
   ]
  },
  {
   "cell_type": "code",
   "execution_count": null,
   "metadata": {},
   "outputs": [],
   "source": [
    "print(df_styler.to_latex(\n",
    "    position='h',\n",
    "    position_float='centering',\n",
    "    hrules=True,\n",
    "))"
   ]
  },
  {
   "cell_type": "markdown",
   "metadata": {},
   "source": [
    "## Landmark trajectories"
   ]
  },
  {
   "cell_type": "code",
   "execution_count": null,
   "metadata": {},
   "outputs": [],
   "source": [
    "import os\n",
    "import matplotlib.pyplot as plt\n",
    "plt.rcParams['figure.dpi'] = 600\n",
    "\n",
    "axis_ls = ('x', 'y', 'z')"
   ]
  },
  {
   "cell_type": "markdown",
   "metadata": {},
   "source": [
    "### Overall distribution"
   ]
  },
  {
   "cell_type": "code",
   "execution_count": null,
   "metadata": {},
   "outputs": [],
   "source": [
    "if is_plot:\n",
    "    data = []\n",
    "    labels = []\n",
    "\n",
    "    for axis in axis_ls:\n",
    "        data.append(df.loc[(slice(None), axis), :].to_numpy().reshape((-1,)))\n",
    "        labels.append(f'{axis}-axis')\n",
    "\n",
    "    bplot = plt.boxplot(\n",
    "        x=data, labels=labels,\n",
    "        patch_artist=True, showmeans=True, meanline=True, sym='',\n",
    "        medianprops=dict(color='black'), meanprops=dict(color='black'),\n",
    "        )\n",
    "\n",
    "    for patch, color in zip(bplot['boxes'], ('goldenrod', 'teal', 'lightcoral')):\n",
    "        patch.set_facecolor(color)\n",
    "\n",
    "    plt.ylabel('Coordinates (cm)')\n",
    "    plt.legend(\n",
    "        bplot['boxes'],\n",
    "        labels,\n",
    "        )\n",
    "\n",
    "    if is_export:\n",
    "        plt.savefig(os.path.join(export_folder, 'stats', 'cooridates_distribute.png'))"
   ]
  },
  {
   "cell_type": "code",
   "execution_count": null,
   "metadata": {},
   "outputs": [],
   "source": [
    "if is_plot:\n",
    "    num = 0\n",
    "\n",
    "    for axis in axis_ls:\n",
    "        num = num + 1\n",
    "        ax = plt.subplot(310 + num)\n",
    "        df.loc[(slice(None), axis), :].T.plot(ax=ax, legend=False)\n",
    "\n",
    "        plt.title(f'{axis}-axis', fontsize=7)\n",
    "\n",
    "        if num == round(len(axis_ls)/2):\n",
    "            plt.ylabel('Coordinates (cm)')\n",
    "\n",
    "        if num < len(axis_ls):\n",
    "            plt.tick_params('x', labelbottom=False)\n",
    "        else:\n",
    "            plt.xlabel('Frame ID')\n",
    "\n",
    "    if is_export:\n",
    "        plt.savefig(os.path.join(export_folder, 'stats', f'cooridates_time.png'))\n",
    "\n",
    "    plt.show()"
   ]
  },
  {
   "cell_type": "markdown",
   "metadata": {},
   "source": [
    "### Regional anslysis"
   ]
  },
  {
   "cell_type": "code",
   "execution_count": null,
   "metadata": {},
   "outputs": [],
   "source": [
    "region2ids = {\n",
    "    'left': [2, 11, 12, 13, 14, 17],\n",
    "    'right': [0, 3, 4, 5, 6, 15],\n",
    "    'middle': [1, 7, 8, 9, 10, 16],\n",
    "    }"
   ]
  },
  {
   "cell_type": "code",
   "execution_count": null,
   "metadata": {},
   "outputs": [],
   "source": [
    "if is_plot:\n",
    "    num = 0\n",
    "\n",
    "    # for axis in axis_ls:\n",
    "    for region, ids in region2ids.items():\n",
    "        num = num + 1\n",
    "        ax = plt.subplot(410 + num)\n",
    "        # df[df[\"Axis\"]==axis].set_index(\"Marker\").T.loc[0:].plot(ax=ax, legend=False)\n",
    "        df.loc[(ids, 'z'), :].T.plot(ax=ax, legend=False)\n",
    "\n",
    "        plt.title(f'{region} (z-axis)', fontsize=7, pad=3)\n",
    "\n",
    "        if num == round(len(axis_ls)/2):\n",
    "            plt.ylabel('Coordinates (cm)')\n",
    "\n",
    "        if num < len(region2ids):\n",
    "            plt.tick_params('x', labelbottom=False)\n",
    "        else:\n",
    "            plt.xlabel('Frame ID')\n",
    "\n",
    "    if is_export:\n",
    "        plt.savefig(os.path.join(export_folder, 'stats', f'cooridates_time_z_region.png'))\n",
    "\n",
    "    plt.show()"
   ]
  },
  {
   "cell_type": "markdown",
   "metadata": {},
   "source": [
    "### Spatial analysis"
   ]
  },
  {
   "cell_type": "markdown",
   "metadata": {},
   "source": [
    "## Landmark displacement"
   ]
  },
  {
   "cell_type": "code",
   "execution_count": null,
   "metadata": {},
   "outputs": [],
   "source": [
    "from mesh4d.analyse import measure\n",
    "\n",
    "trace_dict, starts, traces = measure.markerset_trace_length(landmarks_full)"
   ]
  },
  {
   "cell_type": "code",
   "execution_count": null,
   "metadata": {},
   "outputs": [],
   "source": [
    "import numpy as np\n",
    "print(f'longest: marker {np.argmax(traces)}')\n",
    "print(f'shortest: marker {np.argmin(traces)}')\n",
    "print(f'ratio: {np.max(traces) / np.min(traces) * 100:.1f}%')"
   ]
  },
  {
   "cell_type": "markdown",
   "metadata": {},
   "source": [
    "### Regional analysis"
   ]
  },
  {
   "cell_type": "code",
   "execution_count": null,
   "metadata": {},
   "outputs": [],
   "source": [
    "if is_plot:\n",
    "    for name, marker in trace_dict.items():\n",
    "        plt.bar(name.split(' ')[-1], marker['trace'] / 10, alpha=0.8)\n",
    "\n",
    "    plt.xlabel('Marker ID')\n",
    "    plt.ylabel('Trajectory Length (cm)')\n",
    "\n",
    "    if is_export:\n",
    "        plt.savefig(os.path.join(export_folder, 'stats', f'trace_compare.png'))\n",
    "\n",
    "    plt.show()"
   ]
  },
  {
   "cell_type": "code",
   "execution_count": null,
   "metadata": {},
   "outputs": [],
   "source": [
    "if is_plot:\n",
    "    for name, marker in trace_dict.items():\n",
    "        acc_length = [\n",
    "            marker['dist'][:n].sum() / 10\n",
    "            for n in range(len(marker['dist']))\n",
    "            ]\n",
    "        plt.plot(acc_length, label=name)\n",
    "\n",
    "    plt.xlabel('Frame ID')\n",
    "    plt.ylabel('Accumulated Trajectory Length (cm)')\n",
    "\n",
    "    if is_export:\n",
    "        plt.savefig(os.path.join(export_folder, 'stats', f'trace_time.png'))\n",
    "\n",
    "    plt.show()"
   ]
  },
  {
   "cell_type": "markdown",
   "metadata": {},
   "source": [
    "### Surficial analysis"
   ]
  },
  {
   "cell_type": "code",
   "execution_count": null,
   "metadata": {},
   "outputs": [],
   "source": [
    "if is_plot:\n",
    "    from mesh4d.analyse import visual\n",
    "\n",
    "    visual.show_mesh_value_mask(\n",
    "        breast_ls[1].mesh, starts, traces,\n",
    "        k_nbr=20,\n",
    "        is_save=is_export, export_folder=os.path.join(export_folder, 'stats'), export_name='breast_disp',\n",
    "        show_edges=True, scalar_bar_args={'title': \"tragcctory lenght (mm)\"})"
   ]
  },
  {
   "cell_type": "markdown",
   "metadata": {},
   "source": [
    "## Directional displacement"
   ]
  },
  {
   "cell_type": "markdown",
   "metadata": {},
   "source": [
    "### Regional analysis"
   ]
  },
  {
   "cell_type": "markdown",
   "metadata": {},
   "source": [
    "### Surficial analysis"
   ]
  },
  {
   "cell_type": "code",
   "execution_count": null,
   "metadata": {},
   "outputs": [],
   "source": [
    "from mesh4d import kps\n",
    "\n",
    "array, names = landmarks_full.to_array()"
   ]
  },
  {
   "cell_type": "code",
   "execution_count": null,
   "metadata": {},
   "outputs": [],
   "source": [
    "def project_to_axis(array: np.array, axis: int = 0):\n",
    "    array_copy = array.copy()\n",
    "    axis_num = array_copy.shape[2]\n",
    "\n",
    "    for ax in range(axis_num):\n",
    "        if ax != axis:\n",
    "            array_copy[:, :, ax] = 0\n",
    "\n",
    "    return array_copy"
   ]
  },
  {
   "cell_type": "code",
   "execution_count": null,
   "metadata": {},
   "outputs": [],
   "source": [
    "array_x = project_to_axis(array, axis=0)\n",
    "landmarks_x = kps.MarkerSet()\n",
    "landmarks_x.load_from_array(array_x)\n",
    "_, _, traces = measure.markerset_trace_length(landmarks_x)\n",
    "\n",
    "if is_plot:\n",
    "    from mesh4d.analyse import visual\n",
    "\n",
    "    visual.show_mesh_value_mask(\n",
    "        breast_ls[1].mesh, starts, traces,\n",
    "        k_nbr=20,\n",
    "        is_save=is_export, export_folder=os.path.join(export_folder, 'stats'), export_name='breast_disp_x',\n",
    "        show_edges=True, scalar_bar_args={'title': \"directional tragcctory lenght at x-axis (mm)\"})"
   ]
  },
  {
   "cell_type": "code",
   "execution_count": null,
   "metadata": {},
   "outputs": [],
   "source": [
    "array_y = project_to_axis(array, axis=1)\n",
    "landmarks_y = kps.MarkerSet()\n",
    "landmarks_y.load_from_array(array_y)\n",
    "_, _, traces = measure.markerset_trace_length(landmarks_y)\n",
    "\n",
    "if is_plot:\n",
    "    from mesh4d.analyse import visual\n",
    "\n",
    "    visual.show_mesh_value_mask(\n",
    "        breast_ls[1].mesh, starts, traces,\n",
    "        k_nbr=20,\n",
    "        is_save=is_export, export_folder=os.path.join(export_folder, 'stats'), export_name='breast_disp_y',\n",
    "        show_edges=True, scalar_bar_args={'title': \"directional tragcctory lenght at y-axis (mm)\"})"
   ]
  },
  {
   "cell_type": "code",
   "execution_count": null,
   "metadata": {},
   "outputs": [],
   "source": [
    "array_z = project_to_axis(array, axis=2)\n",
    "landmarks_z = kps.MarkerSet()\n",
    "landmarks_z.load_from_array(array_z)\n",
    "_, _, traces = measure.markerset_trace_length(landmarks_z)\n",
    "\n",
    "if is_plot:\n",
    "    from mesh4d.analyse import visual\n",
    "\n",
    "    visual.show_mesh_value_mask(\n",
    "        breast_ls[1].mesh, starts, traces,\n",
    "        k_nbr=20,\n",
    "        is_save=is_export, export_folder=os.path.join(export_folder, 'stats'), export_name='breast_disp_z',\n",
    "        show_edges=True, scalar_bar_args={'title': \"directional tragcctory lenght at z-axis (mm)\"})"
   ]
  },
  {
   "cell_type": "code",
   "execution_count": null,
   "metadata": {},
   "outputs": [],
   "source": []
  }
 ],
 "metadata": {
  "kernelspec": {
   "display_name": "Python 3.8.8 ('base')",
   "language": "python",
   "name": "python3"
  },
  "language_info": {
   "codemirror_mode": {
    "name": "ipython",
    "version": 3
   },
   "file_extension": ".py",
   "mimetype": "text/x-python",
   "name": "python",
   "nbconvert_exporter": "python",
   "pygments_lexer": "ipython3",
   "version": "3.9.16"
  },
  "vscode": {
   "interpreter": {
    "hash": "8c8ccae62b03e03f602162ec2d3ff7715f4331cfb18cae8be1463dcdd08d9f0b"
   }
  }
 },
 "nbformat": 4,
 "nbformat_minor": 2
}
