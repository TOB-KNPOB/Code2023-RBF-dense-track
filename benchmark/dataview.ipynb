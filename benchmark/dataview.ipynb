{
 "cells": [
  {
   "cell_type": "markdown",
   "metadata": {},
   "source": [
    "# Load benchmark results"
   ]
  },
  {
   "cell_type": "code",
   "execution_count": null,
   "metadata": {},
   "outputs": [],
   "source": [
    "fps_ls = (12, )\n",
    "metric_ls = ('time(s)', 'acc-c(cm)')\n",
    "approach_ls = ('rbf', 'cpd', 'ecpd', 'bcpd')"
   ]
  },
  {
   "cell_type": "code",
   "execution_count": null,
   "metadata": {},
   "outputs": [],
   "source": [
    "import os\n",
    "from mesh4d import utils\n",
    "\n",
    "benchmark_dict = {}\n",
    "\n",
    "for fps in fps_ls:\n",
    "    benchmark_dict[fps] = {}\n",
    "    dataset_dict = benchmark_dict[fps]\n",
    "\n",
    "    for approach in approach_ls:\n",
    "        dataset_dict[approach] = {}\n",
    "        approach_dict = dataset_dict[approach]\n",
    "\n",
    "        path = os.path.join('../output/', f'{fps}fps', approach, 'benchmark.pkl')\n",
    "        benchmark = utils.load_pkl_object(path)\n",
    "        approach_dict['time(s)'] = benchmark.duration\n",
    "        approach_dict['acc-c(cm)'] = benchmark.duration\n",
    "    \n",
    "benchmark_dict"
   ]
  },
  {
   "cell_type": "markdown",
   "metadata": {},
   "source": [
    "# Tables"
   ]
  },
  {
   "cell_type": "code",
   "execution_count": null,
   "metadata": {},
   "outputs": [],
   "source": [
    "import pandas as pd\n",
    "\n",
    "df = pd.DataFrame(columns=('dataset', 'metric') + approach_ls)\n",
    "\n",
    "row = 0\n",
    "\n",
    "for fps in fps_ls:\n",
    "    for metric in metric_ls:\n",
    "        row_data = [f'DBL-{fps}', metric]\n",
    "\n",
    "        for approach in approach_ls:\n",
    "            row_data.append(benchmark_dict[fps][approach][metric])\n",
    "        \n",
    "        df.loc[row] = row_data\n",
    "        row = row + 1\n",
    "\n",
    "df"
   ]
  },
  {
   "cell_type": "code",
   "execution_count": null,
   "metadata": {},
   "outputs": [],
   "source": [
    "df.set_index(['dataset', 'metric'], inplace=True)\n",
    "df_format = df.style.format(precision=2)\n",
    "df_format"
   ]
  },
  {
   "cell_type": "code",
   "execution_count": null,
   "metadata": {},
   "outputs": [],
   "source": [
    "print(df_format.to_latex())"
   ]
  },
  {
   "cell_type": "markdown",
   "metadata": {},
   "source": [
    "# Plots"
   ]
  },
  {
   "cell_type": "code",
   "execution_count": null,
   "metadata": {},
   "outputs": [],
   "source": []
  }
 ],
 "metadata": {
  "kernelspec": {
   "display_name": "mesh4d",
   "language": "python",
   "name": "python3"
  },
  "language_info": {
   "codemirror_mode": {
    "name": "ipython",
    "version": 3
   },
   "file_extension": ".py",
   "mimetype": "text/x-python",
   "name": "python",
   "nbconvert_exporter": "python",
   "pygments_lexer": "ipython3",
   "version": "3.9.16"
  }
 },
 "nbformat": 4,
 "nbformat_minor": 2
}
