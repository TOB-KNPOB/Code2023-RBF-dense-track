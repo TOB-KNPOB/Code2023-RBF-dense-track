{
 "cells": [
  {
   "cell_type": "markdown",
   "metadata": {},
   "source": [
    "# Settings"
   ]
  },
  {
   "cell_type": "code",
   "execution_count": null,
   "metadata": {},
   "outputs": [],
   "source": [
    "is_plot = True\n",
    "is_export = True\n",
    "\n",
    "landmarks_path = '/Users/knpob/Territory/2-Kolmo/4-Dataset/20230715-DynaBreastLite/landmarks/refine_6kmh_braless_18markers_12fps.pkl'\n",
    "meshes_path = '/Users/knpob/Territory/2-Kolmo/4-Dataset/20230715-DynaBreastLite/meshes/6kmh_braless_26markers/'\n",
    "test_landmarks_path = '/Users/knpob/Territory/2-Kolmo/4-Dataset/20230715-DynaBreastLite/test/braless_random_landmarks.pkl'\n",
    "\n",
    "start=0\n",
    "stride = 1\n",
    "end=120\n",
    "\n",
    "export_folder = \"../output/animate/\""
   ]
  },
  {
   "attachments": {},
   "cell_type": "markdown",
   "metadata": {},
   "source": [
    "# Data loading"
   ]
  },
  {
   "cell_type": "code",
   "execution_count": null,
   "metadata": {},
   "outputs": [],
   "source": [
    "from mesh4d import obj3d\n",
    "from mesh4d.analyse import crave\n",
    "\n",
    "mesh_ls, texture_ls = obj3d.load_mesh_series(\n",
    "    folder=meshes_path,\n",
    "    start=start,\n",
    "    stride=stride,\n",
    "    end=end,\n",
    ")"
   ]
  },
  {
   "cell_type": "code",
   "execution_count": null,
   "metadata": {},
   "outputs": [],
   "source": [
    "from mesh4d import utils\n",
    "\n",
    "landmarks_12fps = utils.load_pkl_object(landmarks_path)\n",
    "landmarks_12fps.interp_field()\n",
    "\n",
    "landmarks = landmarks_12fps.reslice(120)\n",
    "landmarks.interp_field()"
   ]
  },
  {
   "cell_type": "code",
   "execution_count": null,
   "metadata": {},
   "outputs": [],
   "source": [
    "from mesh4d.analyse.crave import clip_with_contour\n",
    "\n",
    "contour = landmarks.extract(('marker 0', 'marker 2', 'marker 3', 'marker 14', 'marker 15', 'marker 17'))\n",
    "mesh_clip_ls = clip_with_contour(mesh_ls, start_time=0, fps=120/stride, contour=contour, clip_bound='xy', margin=30)"
   ]
  },
  {
   "cell_type": "code",
   "execution_count": null,
   "metadata": {},
   "outputs": [],
   "source": [
    "body_ls = obj3d.init_obj_series(\n",
    "    mesh_ls,\n",
    "    obj_type=obj3d.Obj3d_Deform\n",
    "    )"
   ]
  },
  {
   "cell_type": "code",
   "execution_count": null,
   "metadata": {},
   "outputs": [],
   "source": [
    "breast_ls = obj3d.init_obj_series(\n",
    "    mesh_clip_ls, \n",
    "    obj_type=obj3d.Obj3d_Deform\n",
    "    )"
   ]
  },
  {
   "cell_type": "code",
   "execution_count": null,
   "metadata": {},
   "outputs": [],
   "source": [
    "from mesh4d import obj4d\n",
    "\n",
    "body4d = obj4d.Obj4d_Deform(\n",
    "    fps=120 / stride,\n",
    "    enable_rigid=False,\n",
    "    enable_nonrigid=False,\n",
    ")\n",
    "body4d.add_obj(*body_ls)\n",
    "body4d.load_markerset('landmarks', landmarks)"
   ]
  },
  {
   "cell_type": "code",
   "execution_count": null,
   "metadata": {},
   "outputs": [],
   "source": [
    "from mesh4d import obj4d\n",
    "\n",
    "breast4d = obj4d.Obj4d_Deform(\n",
    "    fps=120 / stride,\n",
    "    enable_rigid=False,\n",
    "    enable_nonrigid=False,\n",
    ")\n",
    "breast4d.add_obj(*breast_ls)\n",
    "breast4d.load_markerset('landmarks', landmarks)"
   ]
  },
  {
   "attachments": {},
   "cell_type": "markdown",
   "metadata": {},
   "source": [
    "# Data visualisation"
   ]
  },
  {
   "cell_type": "code",
   "execution_count": null,
   "metadata": {},
   "outputs": [],
   "source": [
    "if is_export:\n",
    "    body4d.animate(output_folder=export_folder, filename='body4d')"
   ]
  },
  {
   "cell_type": "code",
   "execution_count": null,
   "metadata": {},
   "outputs": [],
   "source": [
    "if is_plot:\n",
    "    body4d.show(elements='m', window_size=[2000, 500], zoom_rate=5, skip=12, m_props={'opacity': 0.5})"
   ]
  },
  {
   "cell_type": "code",
   "execution_count": null,
   "metadata": {},
   "outputs": [],
   "source": [
    "if is_plot:\n",
    "    body4d.show(elements='mk', window_size=[2000, 500], zoom_rate=5, skip=12, m_props={'opacity': 0.5})"
   ]
  },
  {
   "cell_type": "code",
   "execution_count": null,
   "metadata": {},
   "outputs": [],
   "source": [
    "if is_export:\n",
    "    breast4d.animate(output_folder=export_folder, filename='breast4d')\n",
    "    breast4d.animate(output_folder=export_folder, filename='breast4d_mesh', elements='m')"
   ]
  },
  {
   "cell_type": "code",
   "execution_count": null,
   "metadata": {},
   "outputs": [],
   "source": [
    "if is_plot:\n",
    "    import pyvista as pv\n",
    "\n",
    "    stack_dist = 1000\n",
    "    zoom_rate = 3.5\n",
    "    window_size = [2000, 800]\n",
    "    \n",
    "    scene = pv.Plotter()\n",
    "    plot_num = len(body4d.obj_ls)\n",
    "    skip = 12\n",
    "\n",
    "    for idx in range(0, plot_num, skip):\n",
    "        body = body4d.obj_ls[idx]\n",
    "        breast = breast4d.obj_ls[idx]\n",
    "        width = body.get_width()\n",
    "\n",
    "        body.add_mesh_to_scene(scene, location=[0, 0, idx * stack_dist / skip], opacity=0.1)\n",
    "        breast.add_mesh_to_scene(scene, location=[0, 0, idx * stack_dist / skip])\n",
    "        breast.add_kps_to_scene(scene, location=[0, 0, idx * stack_dist / skip], radius=0.02*width)\n",
    "        \n",
    "    scene.camera_position = 'zy'\n",
    "    scene.camera.azimuth = 45\n",
    "    scene.camera.zoom(zoom_rate)\n",
    "    scene.window_size = window_size\n",
    "    scene.enable_parallel_projection()\n",
    "    scene.show()"
   ]
  },
  {
   "cell_type": "code",
   "execution_count": null,
   "metadata": {},
   "outputs": [],
   "source": []
  }
 ],
 "metadata": {
  "kernelspec": {
   "display_name": "Python 3.8.8 ('base')",
   "language": "python",
   "name": "python3"
  },
  "language_info": {
   "codemirror_mode": {
    "name": "ipython",
    "version": 3
   },
   "file_extension": ".py",
   "mimetype": "text/x-python",
   "name": "python",
   "nbconvert_exporter": "python",
   "pygments_lexer": "ipython3",
   "version": "3.9.16"
  },
  "vscode": {
   "interpreter": {
    "hash": "8c8ccae62b03e03f602162ec2d3ff7715f4331cfb18cae8be1463dcdd08d9f0b"
   }
  }
 },
 "nbformat": 4,
 "nbformat_minor": 2
}
