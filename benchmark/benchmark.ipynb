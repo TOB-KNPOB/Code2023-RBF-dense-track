{
 "cells": [
  {
   "cell_type": "markdown",
   "metadata": {},
   "source": [
    "# Configurations"
   ]
  },
  {
   "cell_type": "code",
   "execution_count": null,
   "metadata": {},
   "outputs": [],
   "source": [
    "import benchmark\n",
    "\n",
    "fps = 120\n",
    "approach = 'rbf'\n",
    "\n",
    "options = f'--approach {approach} --stride {int(120 / fps)} --export-folder ../output/{fps}fps/{approach}' # + '--no-plot'\n",
    "parser = benchmark.sys_args_parser()\n",
    "args = parser.parse_args(options.split())"
   ]
  },
  {
   "cell_type": "markdown",
   "metadata": {},
   "source": [
    "# Benchmarking"
   ]
  },
  {
   "cell_type": "code",
   "execution_count": null,
   "metadata": {},
   "outputs": [],
   "source": [
    "from regist import reg_rbf, reg_ecpd, reg_cpd, reg_bcpd\n",
    "\n",
    "approach_dict = {\n",
    "    'rbf': {'benchmarker': benchmark.Bemchmarker_marker_guided, 'obj4d_class': reg_rbf.Obj4d_RBF, 'regist_props': {}},\n",
    "    'ecpd': {'benchmarker': benchmark.Bemchmarker_marker_guided, 'obj4d_class': reg_ecpd.Obj4d_ECPD, 'regist_props': {}},\n",
    "    'cpd': {'benchmarker': benchmark.Bemchmarker_marker_less, 'obj4d_class': reg_cpd.Obj4d_CPD, 'regist_props': {}},\n",
    "    'bcpd': {'benchmarker': benchmark.Bemchmarker_marker_less, 'obj4d_class': reg_bcpd.Obj4d_BCPD, 'regist_props': {}},\n",
    "}\n",
    "\n",
    "meta = approach_dict[args.approach]\n",
    "benchmarker_class = meta['benchmarker']\n",
    "benchmarker = benchmarker_class(args, meta)"
   ]
  },
  {
   "cell_type": "code",
   "execution_count": null,
   "metadata": {},
   "outputs": [],
   "source": [
    "benchmarker.load_data()"
   ]
  },
  {
   "cell_type": "code",
   "execution_count": null,
   "metadata": {},
   "outputs": [],
   "source": [
    "benchmarker.implement()"
   ]
  },
  {
   "cell_type": "code",
   "execution_count": null,
   "metadata": {},
   "outputs": [],
   "source": [
    "benchmarker.eval_control_landmark()"
   ]
  },
  {
   "cell_type": "code",
   "execution_count": null,
   "metadata": {},
   "outputs": [],
   "source": [
    "# p.s. the stack plot need to be manually saved\n",
    "benchmarker.eval_virtual_landmark()"
   ]
  },
  {
   "cell_type": "code",
   "execution_count": null,
   "metadata": {},
   "outputs": [],
   "source": [
    "benchmarker.eval_deformation_intensity()"
   ]
  },
  {
   "cell_type": "code",
   "execution_count": null,
   "metadata": {},
   "outputs": [],
   "source": [
    "benchmarker.eval_noncontrol_landmark()"
   ]
  },
  {
   "cell_type": "markdown",
   "metadata": {},
   "source": [
    "# Save benchmark results"
   ]
  },
  {
   "cell_type": "code",
   "execution_count": null,
   "metadata": {},
   "outputs": [],
   "source": [
    "if args.export:\n",
    "    benchmarker.export()"
   ]
  },
  {
   "cell_type": "code",
   "execution_count": null,
   "metadata": {},
   "outputs": [],
   "source": [
    "import os\n",
    "from mesh4d import utils\n",
    "\n",
    "results = utils.load_pkl_object(os.path.join(args.export_folder, 'benchmark.pkl'))"
   ]
  },
  {
   "cell_type": "code",
   "execution_count": null,
   "metadata": {},
   "outputs": [],
   "source": [
    "import numpy as np\n",
    "\n",
    "if meta['benchmarker'] == benchmark.Bemchmarker_marker_guided:\n",
    "    dist_ls = []\n",
    "\n",
    "    for marker in results.diff_noncontrol.keys():\n",
    "        dist_ls.append(results.diff_noncontrol[marker]['dist_mean'])\n",
    "\n",
    "    dists = np.array(dist_ls)\n",
    "    print(f'overall acc: {dists.mean():.2f} (mm)')\n",
    "\n",
    "elif meta['benchmarker'] == benchmark.Bemchmarker_marker_less:\n",
    "    dist_mean = results.diff_noncontrol['dist_mean']\n",
    "    print(f'overall acc: {dist_mean:.2f} (mm)')"
   ]
  },
  {
   "cell_type": "code",
   "execution_count": null,
   "metadata": {},
   "outputs": [],
   "source": []
  }
 ],
 "metadata": {
  "kernelspec": {
   "display_name": "mesh4d",
   "language": "python",
   "name": "python3"
  },
  "language_info": {
   "codemirror_mode": {
    "name": "ipython",
    "version": 3
   },
   "file_extension": ".py",
   "mimetype": "text/x-python",
   "name": "python",
   "nbconvert_exporter": "python",
   "pygments_lexer": "ipython3",
   "version": "3.9.16"
  }
 },
 "nbformat": 4,
 "nbformat_minor": 2
}
