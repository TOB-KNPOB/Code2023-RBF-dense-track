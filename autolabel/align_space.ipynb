{
 "cells": [
  {
   "cell_type": "code",
   "execution_count": null,
   "metadata": {},
   "outputs": [],
   "source": [
    "import os\n",
    "import pyvista as pv\n",
    "\n",
    "pv.set_jupyter_backend('static')\n",
    "os.environ['DISPLAY'] = ':99.0'\n",
    "os.environ['PYVISTA_OFF_SCREEM'] = 'true'"
   ]
  },
  {
   "cell_type": "markdown",
   "metadata": {},
   "source": [
    "# Data loading"
   ]
  },
  {
   "cell_type": "markdown",
   "metadata": {},
   "source": [
    "## 3dMD"
   ]
  },
  {
   "cell_type": "code",
   "execution_count": null,
   "metadata": {},
   "outputs": [],
   "source": [
    "import pyvista as pv\n",
    "\n",
    "mesh_path = '/mnt/d/knpob/4-data/20211229-DynaBreast4D/3dmd/0kmh_8marker_bra/meshes/static_standing_with_bra.000001.obj'\n",
    "mesh = pv.read(mesh_path)\n",
    "texture = pv.read_texture(mesh_path.replace('.obj', '.jpg'))"
   ]
  },
  {
   "cell_type": "code",
   "execution_count": null,
   "metadata": {},
   "outputs": [],
   "source": [
    "import numpy as np\n",
    "\n",
    "points_3dmd = np.load('output/points_3dmd.npy')\n",
    "points_3dmd"
   ]
  },
  {
   "cell_type": "markdown",
   "metadata": {},
   "source": [
    "## Vicon"
   ]
  },
  {
   "cell_type": "code",
   "execution_count": null,
   "metadata": {},
   "outputs": [],
   "source": [
    "import pandas as pd\n",
    "\n",
    "vicon_path = '/mnt/d/knpob/4-data/20211229-DynaBreast4D/vicon/0kmh_8marker_bra/vicon.csv'\n",
    "df = pd.read_csv(vicon_path, skiprows=4).iloc[:, 2:].dropna(axis=1)\n",
    "df"
   ]
  },
  {
   "cell_type": "code",
   "execution_count": null,
   "metadata": {},
   "outputs": [],
   "source": [
    "frame = 0\n",
    "points_vicon = df.values[frame].reshape(-1, 3)\n",
    "points_vicon"
   ]
  },
  {
   "cell_type": "markdown",
   "metadata": {},
   "source": [
    "## Visualization"
   ]
  },
  {
   "cell_type": "code",
   "execution_count": null,
   "metadata": {},
   "outputs": [],
   "source": [
    "scene = pv.Plotter()\n",
    "scene.add_points(points_3dmd, point_size=10, color='yellow', render_points_as_spheres=True)\n",
    "scene.add_points(points_vicon, point_size=10, color='green', render_points_as_spheres=True)\n",
    "scene.add_mesh(mesh, texture=texture)\n",
    "scene.camera_position = 'xy'\n",
    "scene.show()"
   ]
  },
  {
   "cell_type": "markdown",
   "metadata": {},
   "source": [
    "# Registration"
   ]
  },
  {
   "cell_type": "markdown",
   "metadata": {},
   "source": [
    "## Pre-alignment"
   ]
  },
  {
   "cell_type": "code",
   "execution_count": null,
   "metadata": {},
   "outputs": [],
   "source": [
    "from mesh4d import obj3d\n",
    "\n",
    "pcd_vicon = obj3d.np2pcd(points_vicon)\n",
    "r_pre = pcd_vicon.get_rotation_matrix_from_xyz((-np.pi/2, 0, 0))\n",
    "pcd_vicon.rotate(r_pre, center=(0, 0, 0))\n",
    "points_vicon_pre = obj3d.pcd2np(pcd_vicon)"
   ]
  },
  {
   "cell_type": "code",
   "execution_count": null,
   "metadata": {},
   "outputs": [],
   "source": [
    "scene = pv.Plotter()\n",
    "scene.add_points(points_3dmd, point_size=10, color='yellow', render_points_as_spheres=True)\n",
    "scene.add_points(points_vicon_pre, point_size=10, color='green', render_points_as_spheres=True)\n",
    "scene.add_mesh(mesh, texture=texture)\n",
    "scene.camera_position = 'xy'\n",
    "scene.show()"
   ]
  },
  {
   "cell_type": "markdown",
   "metadata": {},
   "source": [
    "## Refined registration with CPD"
   ]
  },
  {
   "cell_type": "code",
   "execution_count": null,
   "metadata": {},
   "outputs": [],
   "source": [
    "from probreg import cpd\n",
    "tf, _, _ = cpd.registration_cpd(points_vicon_pre, points_3dmd, 'rigid')\n",
    "\n",
    "r_cab = tf.rot\n",
    "s = tf.scale\n",
    "t = tf.t\n",
    "\n",
    "# combine pre-alignment and registration\n",
    "r = np.matmul(r_cab, r_pre)\n",
    "\n",
    "points_vicon_cab = tf.transform(points_vicon_pre)"
   ]
  },
  {
   "cell_type": "code",
   "execution_count": null,
   "metadata": {},
   "outputs": [],
   "source": [
    "scene = pv.Plotter()\n",
    "scene.add_points(points_3dmd, point_size=10, color='yellow', render_points_as_spheres=True)\n",
    "scene.add_points(points_vicon_cab, point_size=10, color='green', render_points_as_spheres=True)\n",
    "scene.add_mesh(mesh, texture=texture)\n",
    "scene.camera_position = 'xy'\n",
    "scene.show()"
   ]
  },
  {
   "cell_type": "markdown",
   "metadata": {},
   "source": [
    "# Save calibration parameters"
   ]
  },
  {
   "cell_type": "code",
   "execution_count": null,
   "metadata": {},
   "outputs": [],
   "source": [
    "from mesh4d import field\n",
    "\n",
    "trans_cab = field.Trans_Rigid()\n",
    "trans_cab.rot = r\n",
    "trans_cab.scale = s\n",
    "trans_cab.t = t"
   ]
  },
  {
   "cell_type": "code",
   "execution_count": null,
   "metadata": {},
   "outputs": [],
   "source": [
    "from mesh4d import utils\n",
    "\n",
    "utils.save_pkl_object(trans_cab, export_folder='output', export_name='vicon_to_3dmd')"
   ]
  }
 ],
 "metadata": {
  "kernelspec": {
   "display_name": "mesh4d",
   "language": "python",
   "name": "python3"
  },
  "language_info": {
   "codemirror_mode": {
    "name": "ipython",
    "version": 3
   },
   "file_extension": ".py",
   "mimetype": "text/x-python",
   "name": "python",
   "nbconvert_exporter": "python",
   "pygments_lexer": "ipython3",
   "version": "3.10.13"
  }
 },
 "nbformat": 4,
 "nbformat_minor": 2
}
