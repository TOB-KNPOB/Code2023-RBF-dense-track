{
 "cells": [
  {
   "cell_type": "code",
   "execution_count": null,
   "metadata": {},
   "outputs": [],
   "source": [
    "import os\n",
    "import pyvista as pv\n",
    "\n",
    "pv.set_jupyter_backend('static')\n",
    "os.environ['DISPLAY'] = ':99.0'\n",
    "os.environ['PYVISTA_OFF_SCREEM'] = 'true'"
   ]
  },
  {
   "cell_type": "markdown",
   "metadata": {},
   "source": [
    "# Settings"
   ]
  },
  {
   "cell_type": "code",
   "execution_count": null,
   "metadata": {},
   "outputs": [],
   "source": [
    "mesh_path = '/mnt/d/knpob/4-data/20211229-DynaBreast4D/3dmd/6kmh_27marker_2/meshes'\n",
    "export_folder = \"output\""
   ]
  },
  {
   "cell_type": "markdown",
   "metadata": {},
   "source": [
    "# Data loading"
   ]
  },
  {
   "cell_type": "code",
   "execution_count": null,
   "metadata": {},
   "outputs": [],
   "source": [
    "import os\n",
    "\n",
    "files = os.listdir(mesh_path)\n",
    "files = [os.path.join(mesh_path, f.replace('.obj', '')) for f in files if '.obj' in f]\n",
    "files.sort()"
   ]
  },
  {
   "cell_type": "code",
   "execution_count": null,
   "metadata": {},
   "outputs": [],
   "source": [
    "import pyvista as pv\n",
    "from mesh4d.analyse import crave\n",
    "\n",
    "mesh = pv.read(files[0] + '.obj')\n",
    "# mesh = crave.fix_pvmesh_disconnect(mesh)\n",
    "texture = pv.read_texture(files[0] + '.jpg')"
   ]
  },
  {
   "cell_type": "code",
   "execution_count": null,
   "metadata": {},
   "outputs": [],
   "source": [
    "mesh.plot(texture=texture)"
   ]
  },
  {
   "cell_type": "code",
   "execution_count": null,
   "metadata": {},
   "outputs": [],
   "source": [
    "import numpy as np\n",
    "\n",
    "def parse_vertex_color(mesh, texture) -> tuple:\n",
    "    texture_img = np.array(texture.to_array())\n",
    "    u, v = mesh.active_t_coords.T\n",
    "    v_mapped = np.round((1 - v) * (texture_img.shape[0] - 1)).astype(int)\n",
    "    u_mapped = np.round(u * (texture_img.shape[1] - 1)).astype(int)\n",
    "    \n",
    "    color_ls = texture_img[v_mapped, u_mapped]\n",
    "    vertex_ls = np.array(mesh.points)\n",
    "        \n",
    "    return color_ls, vertex_ls"
   ]
  },
  {
   "cell_type": "code",
   "execution_count": null,
   "metadata": {},
   "outputs": [],
   "source": [
    "color_ls, vertex_ls = parse_vertex_color(mesh, texture)\n",
    "color_ls, vertex_ls"
   ]
  },
  {
   "cell_type": "code",
   "execution_count": null,
   "metadata": {},
   "outputs": [],
   "source": [
    "from scipy.spatial import KDTree\n",
    "\n",
    "tree = KDTree(vertex_ls)"
   ]
  },
  {
   "cell_type": "markdown",
   "metadata": {},
   "source": [
    "# Marker extraction"
   ]
  },
  {
   "cell_type": "markdown",
   "metadata": {},
   "source": [
    "## Gray scale threshold"
   ]
  },
  {
   "cell_type": "code",
   "execution_count": null,
   "metadata": {},
   "outputs": [],
   "source": [
    "ds, idx = tree.query(vertex_ls, 10)\n",
    "respond = np.sum(color_ls * [0.299, 0.587, 0.114], axis=1)\n",
    "gray_ls = respond"
   ]
  },
  {
   "cell_type": "code",
   "execution_count": null,
   "metadata": {},
   "outputs": [],
   "source": [
    "import matplotlib.pyplot as plt\n",
    "\n",
    "plt.hist(respond, bins=100)\n",
    "f\"std {np.std(respond)} mean {np.mean(respond)} min {np.min(respond)} max {np.max(respond)}\""
   ]
  },
  {
   "cell_type": "code",
   "execution_count": null,
   "metadata": {},
   "outputs": [],
   "source": [
    "mesh.plot(scalars=-respond, cmap='cool')"
   ]
  },
  {
   "cell_type": "code",
   "execution_count": null,
   "metadata": {},
   "outputs": [],
   "source": [
    "import pyvista as pv\n",
    "\n",
    "scene = pv.Plotter()\n",
    "scene.add_points(vertex_ls[gray_ls < 100], point_size=2, color='goldenrod', render_points_as_spheres=True)\n",
    "scene.add_mesh(mesh, scalars=gray_ls, cmap='gray')\n",
    "scene.camera_position = 'xy'\n",
    "scene.show()"
   ]
  },
  {
   "cell_type": "markdown",
   "metadata": {},
   "source": [
    "## Local gray scale difference"
   ]
  },
  {
   "cell_type": "code",
   "execution_count": null,
   "metadata": {},
   "outputs": [],
   "source": [
    "ds, idx = tree.query(vertex_ls, 10)\n",
    "respond = np.max(np.abs(gray_ls[idx]  - np.expand_dims(gray_ls, axis=-1)), axis=1)"
   ]
  },
  {
   "cell_type": "code",
   "execution_count": null,
   "metadata": {},
   "outputs": [],
   "source": [
    "plt.hist(respond, bins=100)\n",
    "f\"std {np.std(respond)} mean {np.mean(respond)} min {np.min(respond)} max {np.max(respond)}\""
   ]
  },
  {
   "cell_type": "code",
   "execution_count": null,
   "metadata": {},
   "outputs": [],
   "source": [
    "mesh.plot(scalars=respond, cmap='cool')"
   ]
  },
  {
   "cell_type": "code",
   "execution_count": null,
   "metadata": {},
   "outputs": [],
   "source": [
    "import pyvista as pv\n",
    "\n",
    "scene = pv.Plotter()\n",
    "scene.add_points(vertex_ls[respond > mean + 2 * std], point_size=2, color='goldenrod', render_points_as_spheres=True)\n",
    "scene.camera_position = 'xy'\n",
    "scene.show()"
   ]
  },
  {
   "cell_type": "markdown",
   "metadata": {},
   "source": [
    "## Local gray scale gradients"
   ]
  },
  {
   "cell_type": "code",
   "execution_count": null,
   "metadata": {},
   "outputs": [],
   "source": [
    "ds, idx = tree.query(vertex_ls, 100)\n",
    "respond = np.max(np.abs(gray_ls[idx] - np.expand_dims(gray_ls, -1)) / (ds + 1e-5), axis=1)"
   ]
  },
  {
   "cell_type": "code",
   "execution_count": null,
   "metadata": {},
   "outputs": [],
   "source": [
    "plt.hist(respond, bins=100)\n",
    "f\"std {np.std(respond)} mean {np.mean(respond)} min {np.min(respond)} max {np.max(respond)}\""
   ]
  },
  {
   "cell_type": "code",
   "execution_count": null,
   "metadata": {},
   "outputs": [],
   "source": [
    "mesh.plot(scalars=respond, cmap='cool')"
   ]
  },
  {
   "cell_type": "code",
   "execution_count": null,
   "metadata": {},
   "outputs": [],
   "source": [
    "import pyvista as pv\n",
    "\n",
    "scene = pv.Plotter()\n",
    "scene.add_points(vertex_ls[respond > mean + 2 * std], point_size=2, color='goldenrod', render_points_as_spheres=True)\n",
    "scene.add_mesh(mesh, scalars=gray_ls, cmap='gray')\n",
    "scene.camera_position = 'xy'\n",
    "scene.show()"
   ]
  },
  {
   "cell_type": "markdown",
   "metadata": {},
   "source": [
    "# Batch extraction"
   ]
  },
  {
   "cell_type": "code",
   "execution_count": null,
   "metadata": {},
   "outputs": [],
   "source": [
    "stride = 10\n",
    "total = len(files[::stride])"
   ]
  },
  {
   "cell_type": "code",
   "execution_count": null,
   "metadata": {},
   "outputs": [],
   "source": [
    "def extract(mesh, texture, pnum=100, range=2):\n",
    "    color_ls, vertex_ls = parse_vertex_color(mesh, texture)\n",
    "    gray_ls = np.sum(color_ls * [0.299, 0.587, 0.114], axis=1)\n",
    "    \n",
    "    tree = KDTree(vertex_ls)\n",
    "    ds, idx = tree.query(vertex_ls, pnum)\n",
    "    \n",
    "    respond = np.max(np.abs(gray_ls[idx] - np.expand_dims(gray_ls, -1)) / (ds + 1e-5), axis=1)\n",
    "    mean = np.mean(respond)\n",
    "    std = np.std(respond)\n",
    "    marker_vertex = vertex_ls[respond > mean + range * std]\n",
    "    # need to address empty issue\n",
    "\n",
    "    return gray_ls, marker_vertex"
   ]
  },
  {
   "cell_type": "code",
   "execution_count": null,
   "metadata": {},
   "outputs": [],
   "source": [
    "import os\n",
    "from mesh4d import utils\n",
    "\n",
    "scene = pv.Plotter()\n",
    "scene.open_movie(os.path.join(export_folder, 'marker_3dmd.mp4'), framerate=round(120/stride))\n",
    "marker = []\n",
    "\n",
    "for idx, path in enumerate(files[::stride]):\n",
    "    # load data\n",
    "    mesh = pv.read(path + '.obj')\n",
    "    texture = pv.read_texture(path + '.jpg')\n",
    "    gray_ls, marker_vertex = extract(mesh, texture)\n",
    "\n",
    "    # append extracted marker vertices\n",
    "    marker.append(marker_vertex)\n",
    "\n",
    "    # write visual\n",
    "    scene.clear()\n",
    "    scene.add_mesh(mesh, scalars=gray_ls, cmap='gray')\n",
    "\n",
    "    if len(marker_vertex) > 0:\n",
    "        scene.add_points(marker_vertex, point_size=2, color='goldenrod', render_points_as_spheres=True)\n",
    "\n",
    "    scene.camera_position = 'xy'\n",
    "    scene.write_frame()\n",
    "\n",
    "    # print progress\n",
    "    percent = (idx + 1) / total\n",
    "    utils.progress_bar(percent, back_str=\" processed the {}-th frame\".format(idx))\n",
    "\n",
    "scene.close()"
   ]
  },
  {
   "cell_type": "code",
   "execution_count": null,
   "metadata": {},
   "outputs": [],
   "source": [
    "plt.bar(range(len(marker)), [len(frame) for frame in marker])"
   ]
  },
  {
   "cell_type": "code",
   "execution_count": null,
   "metadata": {},
   "outputs": [],
   "source": [
    "utils.save_pkl_object(marker, export_folder=export_folder, export_name='marker_3dmd')"
   ]
  },
  {
   "cell_type": "code",
   "execution_count": null,
   "metadata": {},
   "outputs": [],
   "source": [
    "scene = pv.Plotter()\n",
    "scene.open_movie(os.path.join(export_folder, 'marker_vertex.mp4'), framerate=round(120/stride))\n",
    "\n",
    "for idx, marker_vertex in enumerate(marker):\n",
    "    scene.clear()\n",
    "\n",
    "    if len(marker_vertex) > 0:\n",
    "        scene.add_points(marker_vertex, point_size=2, color='goldenrod', render_points_as_spheres=True)\n",
    "\n",
    "    scene.camera_position = 'xy'\n",
    "    scene.write_frame()\n",
    "\n",
    "    # print progress\n",
    "    percent = (idx + 1) / total\n",
    "    utils.progress_bar(percent, back_str=\" processed the {}-th frame\".format(idx))\n",
    "\n",
    "scene.close()"
   ]
  },
  {
   "cell_type": "code",
   "execution_count": null,
   "metadata": {},
   "outputs": [],
   "source": []
  }
 ],
 "metadata": {
  "kernelspec": {
   "display_name": "mesh4d",
   "language": "python",
   "name": "python3"
  },
  "language_info": {
   "codemirror_mode": {
    "name": "ipython",
    "version": 3
   },
   "file_extension": ".py",
   "mimetype": "text/x-python",
   "name": "python",
   "nbconvert_exporter": "python",
   "pygments_lexer": "ipython3",
   "version": "3.10.13"
  }
 },
 "nbformat": 4,
 "nbformat_minor": 2
}
